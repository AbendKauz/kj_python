{
 "cells": [
  {
   "cell_type": "code",
   "execution_count": 5,
   "id": "d9f56dd2",
   "metadata": {},
   "outputs": [
    {
     "data": {
      "text/plain": [
       "array([1, 2, 3, 4, 5])"
      ]
     },
     "execution_count": 5,
     "metadata": {},
     "output_type": "execute_result"
    }
   ],
   "source": [
    "import numpy as np\n",
    "np.array([1, 2, 3, 4, 5])"
   ]
  },
  {
   "cell_type": "markdown",
   "id": "e49b7b97",
   "metadata": {},
   "source": [
    "# 지금부터 numpy 모듈에 대해 알아 봅시다."
   ]
  },
  {
   "cell_type": "code",
   "execution_count": 2,
   "id": "7d7f288b",
   "metadata": {},
   "outputs": [
    {
     "data": {
      "image/png": "[encoded data removed]",
      "text/plain": [
       "<Figure size 640x480 with 1 Axes>"
      ]
     },
     "metadata": {},
     "output_type": "display_data"
    }
   ],
   "source": [
    "from matplotlib import pyplot as plt\n",
    "plt.plot(['1mon', '2mon', '3mon'],[100, 50, 200])\n",
    "plt.show()\n",
    "plt.style.use('default')  # 표의 스타일 지정"
   ]
  },
  {
   "cell_type": "code",
   "execution_count": 8,
   "id": "d3e9c9b8",
   "metadata": {},
   "outputs": [],
   "source": [
    "a = [15, 2, 50, 24, 60]"
   ]
  },
  {
   "cell_type": "code",
   "execution_count": 9,
   "id": "c7bad489",
   "metadata": {},
   "outputs": [
    {
     "data": {
      "text/plain": [
       "list"
      ]
     },
     "execution_count": 9,
     "metadata": {},
     "output_type": "execute_result"
    }
   ],
   "source": [
    "type(a)"
   ]
  },
  {
   "cell_type": "code",
   "execution_count": 10,
   "id": "bcff645f",
   "metadata": {},
   "outputs": [],
   "source": [
    "b = np.array([3, 12, 50, 30])"
   ]
  },
  {
   "cell_type": "code",
   "execution_count": 11,
   "id": "a5eb7eb1",
   "metadata": {},
   "outputs": [
    {
     "data": {
      "text/plain": [
       "numpy.ndarray"
      ]
     },
     "execution_count": 11,
     "metadata": {},
     "output_type": "execute_result"
    }
   ],
   "source": [
    "type(b)"
   ]
  },
  {
   "cell_type": "code",
   "execution_count": 12,
   "id": "ec3a01c8",
   "metadata": {},
   "outputs": [],
   "source": [
    "a.remove(50)"
   ]
  },
  {
   "cell_type": "code",
   "execution_count": 13,
   "id": "e8c5c5ec",
   "metadata": {},
   "outputs": [
    {
     "data": {
      "text/plain": [
       "[15, 2, 24, 60]"
      ]
     },
     "execution_count": 13,
     "metadata": {},
     "output_type": "execute_result"
    }
   ],
   "source": [
    "a"
   ]
  },
  {
   "cell_type": "code",
   "execution_count": 14,
   "id": "b7c11366",
   "metadata": {},
   "outputs": [],
   "source": [
    "a.sort()"
   ]
  },
  {
   "cell_type": "code",
   "execution_count": 15,
   "id": "6bef835c",
   "metadata": {},
   "outputs": [
    {
     "data": {
      "text/plain": [
       "[2, 15, 24, 60]"
      ]
     },
     "execution_count": 15,
     "metadata": {},
     "output_type": "execute_result"
    }
   ],
   "source": [
    "a"
   ]
  },
  {
   "cell_type": "code",
   "execution_count": 16,
   "id": "8aa75dc3",
   "metadata": {},
   "outputs": [],
   "source": [
    "a.reverse()"
   ]
  },
  {
   "cell_type": "code",
   "execution_count": 17,
   "id": "0c24b265",
   "metadata": {},
   "outputs": [
    {
     "data": {
      "text/plain": [
       "[60, 24, 15, 2]"
      ]
     },
     "execution_count": 17,
     "metadata": {},
     "output_type": "execute_result"
    }
   ],
   "source": [
    "a"
   ]
  },
  {
   "cell_type": "code",
   "execution_count": 18,
   "id": "30b859e3",
   "metadata": {},
   "outputs": [],
   "source": [
    "a.insert(1, 30)"
   ]
  },
  {
   "cell_type": "code",
   "execution_count": 19,
   "id": "64249723",
   "metadata": {},
   "outputs": [
    {
     "data": {
      "text/plain": [
       "[60, 30, 24, 15, 2]"
      ]
     },
     "execution_count": 19,
     "metadata": {},
     "output_type": "execute_result"
    }
   ],
   "source": [
    "a"
   ]
  },
  {
   "cell_type": "code",
   "execution_count": 20,
   "id": "8f7e54a1",
   "metadata": {},
   "outputs": [],
   "source": [
    "a.append(11)"
   ]
  },
  {
   "cell_type": "code",
   "execution_count": 21,
   "id": "a168dbe6",
   "metadata": {},
   "outputs": [
    {
     "data": {
      "text/plain": [
       "[60, 30, 24, 15, 2, 11]"
      ]
     },
     "execution_count": 21,
     "metadata": {},
     "output_type": "execute_result"
    }
   ],
   "source": [
    "a"
   ]
  },
  {
   "cell_type": "code",
   "execution_count": 22,
   "id": "0cd2139b",
   "metadata": {},
   "outputs": [],
   "source": [
    "del a[2]"
   ]
  },
  {
   "cell_type": "code",
   "execution_count": 23,
   "id": "b5836d26",
   "metadata": {},
   "outputs": [
    {
     "data": {
      "text/plain": [
       "[60, 30, 15, 2, 11]"
      ]
     },
     "execution_count": 23,
     "metadata": {},
     "output_type": "execute_result"
    }
   ],
   "source": [
    "a"
   ]
  },
  {
   "cell_type": "code",
   "execution_count": 24,
   "id": "dd090aaa",
   "metadata": {},
   "outputs": [],
   "source": [
    "a.insert(2, 'kj')"
   ]
  },
  {
   "cell_type": "code",
   "execution_count": 25,
   "id": "73695767",
   "metadata": {},
   "outputs": [
    {
     "data": {
      "text/plain": [
       "[60, 30, 'kj', 15, 2, 11]"
      ]
     },
     "execution_count": 25,
     "metadata": {},
     "output_type": "execute_result"
    }
   ],
   "source": [
    "a"
   ]
  },
  {
   "cell_type": "code",
   "execution_count": 26,
   "id": "5d7f858f",
   "metadata": {},
   "outputs": [],
   "source": [
    "a1 = list((1, 2, 3, 4, 5))"
   ]
  },
  {
   "cell_type": "code",
   "execution_count": 27,
   "id": "02313695",
   "metadata": {},
   "outputs": [
    {
     "data": {
      "text/plain": [
       "[1, 2, 3, 4, 5]"
      ]
     },
     "execution_count": 27,
     "metadata": {},
     "output_type": "execute_result"
    }
   ],
   "source": [
    "a1"
   ]
  },
  {
   "cell_type": "code",
   "execution_count": 28,
   "id": "550d2a1f",
   "metadata": {},
   "outputs": [],
   "source": [
    "a2 = list((1, 'kj', 3, True))"
   ]
  },
  {
   "cell_type": "code",
   "execution_count": 29,
   "id": "d5039614",
   "metadata": {},
   "outputs": [
    {
     "data": {
      "text/plain": [
       "[1, 'kj', 3, True]"
      ]
     },
     "execution_count": 29,
     "metadata": {},
     "output_type": "execute_result"
    }
   ],
   "source": [
    "a2"
   ]
  },
  {
   "cell_type": "code",
   "execution_count": 30,
   "id": "63fb874a",
   "metadata": {},
   "outputs": [],
   "source": [
    "a3 = list(('kim'))"
   ]
  },
  {
   "cell_type": "code",
   "execution_count": 31,
   "id": "47ce7580",
   "metadata": {},
   "outputs": [
    {
     "data": {
      "text/plain": [
       "['k', 'i', 'm']"
      ]
     },
     "execution_count": 31,
     "metadata": {},
     "output_type": "execute_result"
    }
   ],
   "source": [
    "a3"
   ]
  },
  {
   "cell_type": "code",
   "execution_count": 33,
   "id": "1013a2c8",
   "metadata": {},
   "outputs": [],
   "source": [
    "a = np.array([10, 20, 'kj', 30])"
   ]
  },
  {
   "cell_type": "code",
   "execution_count": 34,
   "id": "808d49cc",
   "metadata": {},
   "outputs": [
    {
     "data": {
      "text/plain": [
       "dtype('<U11')"
      ]
     },
     "execution_count": 34,
     "metadata": {},
     "output_type": "execute_result"
    }
   ],
   "source": [
    "a.dtype"
   ]
  },
  {
   "cell_type": "code",
   "execution_count": 35,
   "id": "7c261376",
   "metadata": {},
   "outputs": [],
   "source": [
    "b = np.array([1, 2, 3, 4])"
   ]
  },
  {
   "cell_type": "code",
   "execution_count": 36,
   "id": "5d2bd300",
   "metadata": {},
   "outputs": [
    {
     "data": {
      "text/plain": [
       "dtype('int32')"
      ]
     },
     "execution_count": 36,
     "metadata": {},
     "output_type": "execute_result"
    }
   ],
   "source": [
    "b.dtype"
   ]
  },
  {
   "cell_type": "code",
   "execution_count": 37,
   "id": "59944ea7",
   "metadata": {},
   "outputs": [
    {
     "data": {
      "text/plain": [
       "numpy.ndarray"
      ]
     },
     "execution_count": 37,
     "metadata": {},
     "output_type": "execute_result"
    }
   ],
   "source": [
    "type(b)"
   ]
  },
  {
   "cell_type": "code",
   "execution_count": 38,
   "id": "743d31b3",
   "metadata": {},
   "outputs": [],
   "source": [
    "aa = [1, 'st', True, 5]"
   ]
  },
  {
   "cell_type": "code",
   "execution_count": 40,
   "id": "a4f6be91",
   "metadata": {},
   "outputs": [
    {
     "data": {
      "text/plain": [
       "list"
      ]
     },
     "execution_count": 40,
     "metadata": {},
     "output_type": "execute_result"
    }
   ],
   "source": [
    "type(aa)"
   ]
  },
  {
   "cell_type": "code",
   "execution_count": 42,
   "id": "60b1cd03",
   "metadata": {},
   "outputs": [
    {
     "data": {
      "text/plain": [
       "bool"
      ]
     },
     "execution_count": 42,
     "metadata": {},
     "output_type": "execute_result"
    }
   ],
   "source": [
    "type(aa[2])"
   ]
  },
  {
   "cell_type": "code",
   "execution_count": 47,
   "id": "3bc33cfb",
   "metadata": {},
   "outputs": [],
   "source": [
    "bb = np.array([1, 2, 3])"
   ]
  },
  {
   "cell_type": "code",
   "execution_count": 48,
   "id": "5ae9001a",
   "metadata": {},
   "outputs": [
    {
     "data": {
      "text/plain": [
       "numpy.ndarray"
      ]
     },
     "execution_count": 48,
     "metadata": {},
     "output_type": "execute_result"
    }
   ],
   "source": [
    "type(bb)"
   ]
  },
  {
   "cell_type": "code",
   "execution_count": 49,
   "id": "5693dddb",
   "metadata": {},
   "outputs": [
    {
     "data": {
      "text/plain": [
       "numpy.int32"
      ]
     },
     "execution_count": 49,
     "metadata": {},
     "output_type": "execute_result"
    }
   ],
   "source": [
    "type(bb[0])"
   ]
  },
  {
   "cell_type": "code",
   "execution_count": 50,
   "id": "14e0ffbe",
   "metadata": {},
   "outputs": [
    {
     "data": {
      "text/plain": [
       "dtype('int32')"
      ]
     },
     "execution_count": 50,
     "metadata": {},
     "output_type": "execute_result"
    }
   ],
   "source": [
    "bb.dtype"
   ]
  },
  {
   "cell_type": "code",
   "execution_count": 51,
   "id": "0710c3cd",
   "metadata": {},
   "outputs": [
    {
     "data": {
      "text/plain": [
       "1"
      ]
     },
     "execution_count": 51,
     "metadata": {},
     "output_type": "execute_result"
    }
   ],
   "source": [
    "bb.ndim"
   ]
  },
  {
   "cell_type": "code",
   "execution_count": 52,
   "id": "b19b4b41",
   "metadata": {},
   "outputs": [],
   "source": [
    "bb = np.array([[1, 2, 3]])"
   ]
  },
  {
   "cell_type": "code",
   "execution_count": 53,
   "id": "69ad01cc",
   "metadata": {},
   "outputs": [
    {
     "data": {
      "text/plain": [
       "2"
      ]
     },
     "execution_count": 53,
     "metadata": {},
     "output_type": "execute_result"
    }
   ],
   "source": [
    "bb.ndim"
   ]
  },
  {
   "cell_type": "code",
   "execution_count": 54,
   "id": "e596254c",
   "metadata": {},
   "outputs": [
    {
     "data": {
      "text/plain": [
       "2"
      ]
     },
     "execution_count": 54,
     "metadata": {},
     "output_type": "execute_result"
    }
   ],
   "source": [
    "np.ndim(bb)"
   ]
  },
  {
   "cell_type": "code",
   "execution_count": 55,
   "id": "fa07a5b6",
   "metadata": {},
   "outputs": [
    {
     "data": {
      "text/plain": [
       "(1, 3)"
      ]
     },
     "execution_count": 55,
     "metadata": {},
     "output_type": "execute_result"
    }
   ],
   "source": [
    "bb.shape"
   ]
  },
  {
   "cell_type": "code",
   "execution_count": 56,
   "id": "9998dda7",
   "metadata": {},
   "outputs": [
    {
     "data": {
      "text/plain": [
       "(1, 3)"
      ]
     },
     "execution_count": 56,
     "metadata": {},
     "output_type": "execute_result"
    }
   ],
   "source": [
    "np.shape(bb)"
   ]
  },
  {
   "cell_type": "code",
   "execution_count": 57,
   "id": "13878599",
   "metadata": {},
   "outputs": [
    {
     "data": {
      "text/plain": [
       "3"
      ]
     },
     "execution_count": 57,
     "metadata": {},
     "output_type": "execute_result"
    }
   ],
   "source": [
    "bb.size"
   ]
  },
  {
   "cell_type": "code",
   "execution_count": 58,
   "id": "167ca44c",
   "metadata": {},
   "outputs": [
    {
     "data": {
      "text/plain": [
       "3"
      ]
     },
     "execution_count": 58,
     "metadata": {},
     "output_type": "execute_result"
    }
   ],
   "source": [
    "np.size(bb)"
   ]
  },
  {
   "cell_type": "code",
   "execution_count": 59,
   "id": "e3dd2c55",
   "metadata": {},
   "outputs": [],
   "source": [
    "a1 = np.arange(3,7)"
   ]
  },
  {
   "cell_type": "code",
   "execution_count": 60,
   "id": "7eaaf855",
   "metadata": {},
   "outputs": [
    {
     "data": {
      "text/plain": [
       "array([3, 4, 5, 6])"
      ]
     },
     "execution_count": 60,
     "metadata": {},
     "output_type": "execute_result"
    }
   ],
   "source": [
    "a1"
   ]
  },
  {
   "cell_type": "code",
   "execution_count": 61,
   "id": "0a6dd04d",
   "metadata": {},
   "outputs": [],
   "source": [
    "a2 = np.ones((2, 3))"
   ]
  },
  {
   "cell_type": "code",
   "execution_count": 62,
   "id": "ef1f1477",
   "metadata": {},
   "outputs": [
    {
     "data": {
      "text/plain": [
       "array([[1., 1., 1.],\n",
       "       [1., 1., 1.]])"
      ]
     },
     "execution_count": 62,
     "metadata": {},
     "output_type": "execute_result"
    }
   ],
   "source": [
    "a2"
   ]
  },
  {
   "cell_type": "code",
   "execution_count": 63,
   "id": "b93dada7",
   "metadata": {},
   "outputs": [],
   "source": [
    "a3 = np.empty((2, 3))"
   ]
  },
  {
   "cell_type": "code",
   "execution_count": 64,
   "id": "2746fc0c",
   "metadata": {},
   "outputs": [
    {
     "data": {
      "text/plain": [
       "array([[1., 1., 1.],\n",
       "       [1., 1., 1.]])"
      ]
     },
     "execution_count": 64,
     "metadata": {},
     "output_type": "execute_result"
    }
   ],
   "source": [
    "a3"
   ]
  },
  {
   "cell_type": "code",
   "execution_count": 65,
   "id": "b25914e0",
   "metadata": {},
   "outputs": [],
   "source": [
    "a4 = np.zeros((2, 3))"
   ]
  },
  {
   "cell_type": "code",
   "execution_count": 66,
   "id": "d5acf90f",
   "metadata": {},
   "outputs": [
    {
     "data": {
      "text/plain": [
       "array([[0., 0., 0.],\n",
       "       [0., 0., 0.]])"
      ]
     },
     "execution_count": 66,
     "metadata": {},
     "output_type": "execute_result"
    }
   ],
   "source": [
    "a4"
   ]
  },
  {
   "cell_type": "code",
   "execution_count": 69,
   "id": "8616c63e",
   "metadata": {},
   "outputs": [],
   "source": [
    "a5 = np.empty((2, 3))"
   ]
  },
  {
   "cell_type": "code",
   "execution_count": 70,
   "id": "68c785dc",
   "metadata": {},
   "outputs": [
    {
     "data": {
      "text/plain": [
       "array([[0., 0., 0.],\n",
       "       [0., 0., 0.]])"
      ]
     },
     "execution_count": 70,
     "metadata": {},
     "output_type": "execute_result"
    }
   ],
   "source": [
    "a5"
   ]
  },
  {
   "cell_type": "code",
   "execution_count": 71,
   "id": "c7f9b713",
   "metadata": {},
   "outputs": [],
   "source": [
    "a6 = np.full((2, 3), 5)"
   ]
  },
  {
   "cell_type": "code",
   "execution_count": 72,
   "id": "4db2e000",
   "metadata": {},
   "outputs": [
    {
     "data": {
      "text/plain": [
       "array([[5, 5, 5],\n",
       "       [5, 5, 5]])"
      ]
     },
     "execution_count": 72,
     "metadata": {},
     "output_type": "execute_result"
    }
   ],
   "source": [
    "a6"
   ]
  },
  {
   "cell_type": "code",
   "execution_count": 73,
   "id": "39030b54",
   "metadata": {},
   "outputs": [],
   "source": [
    "a7 = np.eye(4)"
   ]
  },
  {
   "cell_type": "code",
   "execution_count": 74,
   "id": "1d1643e1",
   "metadata": {},
   "outputs": [
    {
     "data": {
      "text/plain": [
       "array([[1., 0., 0., 0.],\n",
       "       [0., 1., 0., 0.],\n",
       "       [0., 0., 1., 0.],\n",
       "       [0., 0., 0., 1.]])"
      ]
     },
     "execution_count": 74,
     "metadata": {},
     "output_type": "execute_result"
    }
   ],
   "source": [
    "a7"
   ]
  },
  {
   "cell_type": "code",
   "execution_count": 75,
   "id": "7b054c95",
   "metadata": {},
   "outputs": [
    {
     "data": {
      "text/plain": [
       "numpy.ndarray"
      ]
     },
     "execution_count": 75,
     "metadata": {},
     "output_type": "execute_result"
    }
   ],
   "source": [
    "type(a7)"
   ]
  },
  {
   "cell_type": "code",
   "execution_count": 76,
   "id": "1da81c7f",
   "metadata": {},
   "outputs": [
    {
     "data": {
      "text/plain": [
       "dtype('float64')"
      ]
     },
     "execution_count": 76,
     "metadata": {},
     "output_type": "execute_result"
    }
   ],
   "source": [
    "a7.dtype"
   ]
  },
  {
   "cell_type": "code",
   "execution_count": 80,
   "id": "8914e27d",
   "metadata": {},
   "outputs": [],
   "source": [
    "a8 = a7.astype(np.int32)"
   ]
  },
  {
   "cell_type": "code",
   "execution_count": 78,
   "id": "f265defe",
   "metadata": {},
   "outputs": [
    {
     "data": {
      "text/plain": [
       "dtype('float64')"
      ]
     },
     "execution_count": 78,
     "metadata": {},
     "output_type": "execute_result"
    }
   ],
   "source": [
    "a7.dtype"
   ]
  },
  {
   "cell_type": "code",
   "execution_count": 79,
   "id": "932a2564",
   "metadata": {},
   "outputs": [
    {
     "data": {
      "text/plain": [
       "array([[1., 0., 0., 0.],\n",
       "       [0., 1., 0., 0.],\n",
       "       [0., 0., 1., 0.],\n",
       "       [0., 0., 0., 1.]])"
      ]
     },
     "execution_count": 79,
     "metadata": {},
     "output_type": "execute_result"
    }
   ],
   "source": [
    "a7"
   ]
  },
  {
   "cell_type": "code",
   "execution_count": 81,
   "id": "70f410e2",
   "metadata": {},
   "outputs": [
    {
     "data": {
      "text/plain": [
       "dtype('int32')"
      ]
     },
     "execution_count": 81,
     "metadata": {},
     "output_type": "execute_result"
    }
   ],
   "source": [
    "a8.dtype"
   ]
  },
  {
   "cell_type": "code",
   "execution_count": 84,
   "id": "070db45e",
   "metadata": {},
   "outputs": [],
   "source": [
    "k = np.array([1, 2, 3],dtype=np.float64)"
   ]
  },
  {
   "cell_type": "code",
   "execution_count": 85,
   "id": "d6425ba1",
   "metadata": {},
   "outputs": [
    {
     "data": {
      "text/plain": [
       "dtype('float64')"
      ]
     },
     "execution_count": 85,
     "metadata": {},
     "output_type": "execute_result"
    }
   ],
   "source": [
    "k.dtype"
   ]
  },
  {
   "cell_type": "code",
   "execution_count": null,
   "id": "1eea8e77",
   "metadata": {},
   "outputs": [],
   "source": []
  }
 ],
 "metadata": {
  "kernelspec": {
   "display_name": "Python 3 (ipykernel)",
   "language": "python",
   "name": "python3"
  },
  "language_info": {
   "codemirror_mode": {
    "name": "ipython",
    "version": 3
   },
   "file_extension": ".py",
   "mimetype": "text/x-python",
   "name": "python",
   "nbconvert_exporter": "python",
   "pygments_lexer": "ipython3",
   "version": "3.9.12"
  }
 },
 "nbformat": 4,
 "nbformat_minor": 5
}
