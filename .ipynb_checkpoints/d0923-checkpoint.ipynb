{
 "cells": [
  {
   "cell_type": "markdown",
   "id": "5a1acae3",
   "metadata": {},
   "source": [
    "배열 가공하기  \n",
    "- 배열과 스칼라 간 연산  \n",
    "- 배열 인덱싱과 슬라이싱  \n",
    "- 배열 전치"
   ]
  },
  {
   "cell_type": "code",
   "execution_count": 121,
   "id": "c5e7a282",
   "metadata": {},
   "outputs": [],
   "source": [
    "import numpy as np"
   ]
  },
  {
   "cell_type": "code",
   "execution_count": 122,
   "id": "5d1b7554",
   "metadata": {},
   "outputs": [],
   "source": [
    "a1 = np.array([45])"
   ]
  },
  {
   "cell_type": "code",
   "execution_count": 123,
   "id": "f69f86e1",
   "metadata": {},
   "outputs": [
    {
     "data": {
      "text/plain": [
       "array([45])"
      ]
     },
     "execution_count": 123,
     "metadata": {},
     "output_type": "execute_result"
    }
   ],
   "source": [
    "a1"
   ]
  },
  {
   "cell_type": "code",
   "execution_count": 124,
   "id": "73c7ae3a",
   "metadata": {},
   "outputs": [
    {
     "data": {
      "text/plain": [
       "dtype('int32')"
      ]
     },
     "execution_count": 124,
     "metadata": {},
     "output_type": "execute_result"
    }
   ],
   "source": [
    "a1.dtype"
   ]
  },
  {
   "cell_type": "code",
   "execution_count": 125,
   "id": "5c2fa4f0",
   "metadata": {},
   "outputs": [
    {
     "data": {
      "text/plain": [
       "numpy.ndarray"
      ]
     },
     "execution_count": 125,
     "metadata": {},
     "output_type": "execute_result"
    }
   ],
   "source": [
    "type(a1)"
   ]
  },
  {
   "cell_type": "code",
   "execution_count": 126,
   "id": "d12e2a90",
   "metadata": {},
   "outputs": [
    {
     "data": {
      "text/plain": [
       "1"
      ]
     },
     "execution_count": 126,
     "metadata": {},
     "output_type": "execute_result"
    }
   ],
   "source": [
    "a1.ndim"
   ]
  },
  {
   "cell_type": "code",
   "execution_count": 127,
   "id": "3be2225a",
   "metadata": {},
   "outputs": [
    {
     "data": {
      "text/plain": [
       "(1,)"
      ]
     },
     "execution_count": 127,
     "metadata": {},
     "output_type": "execute_result"
    }
   ],
   "source": [
    "a1.shape"
   ]
  },
  {
   "cell_type": "code",
   "execution_count": 128,
   "id": "25b72b34",
   "metadata": {},
   "outputs": [],
   "source": [
    "a2 = np.array(45)"
   ]
  },
  {
   "cell_type": "code",
   "execution_count": 129,
   "id": "8bba9ee6",
   "metadata": {},
   "outputs": [
    {
     "data": {
      "text/plain": [
       "dtype('int32')"
      ]
     },
     "execution_count": 129,
     "metadata": {},
     "output_type": "execute_result"
    }
   ],
   "source": [
    "a2.dtype"
   ]
  },
  {
   "cell_type": "code",
   "execution_count": 130,
   "id": "226668a9",
   "metadata": {},
   "outputs": [
    {
     "data": {
      "text/plain": [
       "numpy.ndarray"
      ]
     },
     "execution_count": 130,
     "metadata": {},
     "output_type": "execute_result"
    }
   ],
   "source": [
    "type(a2)"
   ]
  },
  {
   "cell_type": "code",
   "execution_count": 131,
   "id": "b9617b79",
   "metadata": {},
   "outputs": [
    {
     "data": {
      "text/plain": [
       "0"
      ]
     },
     "execution_count": 131,
     "metadata": {},
     "output_type": "execute_result"
    }
   ],
   "source": [
    "a2.ndim"
   ]
  },
  {
   "cell_type": "code",
   "execution_count": 132,
   "id": "aa8d9641",
   "metadata": {},
   "outputs": [
    {
     "data": {
      "text/plain": [
       "()"
      ]
     },
     "execution_count": 132,
     "metadata": {},
     "output_type": "execute_result"
    }
   ],
   "source": [
    "a2.shape"
   ]
  },
  {
   "cell_type": "code",
   "execution_count": 133,
   "id": "abfe7f47",
   "metadata": {},
   "outputs": [],
   "source": [
    "a = np.array([1, 2, 3, 4])"
   ]
  },
  {
   "cell_type": "code",
   "execution_count": 134,
   "id": "9c55f8a9",
   "metadata": {},
   "outputs": [],
   "source": [
    "b = np.array(3)"
   ]
  },
  {
   "cell_type": "code",
   "execution_count": 135,
   "id": "734dc2d9",
   "metadata": {},
   "outputs": [
    {
     "data": {
      "text/plain": [
       "array([4, 5, 6, 7])"
      ]
     },
     "execution_count": 135,
     "metadata": {},
     "output_type": "execute_result"
    }
   ],
   "source": [
    "a + b"
   ]
  },
  {
   "cell_type": "code",
   "execution_count": 136,
   "id": "d4f3d2ae",
   "metadata": {},
   "outputs": [
    {
     "data": {
      "text/plain": [
       "3"
      ]
     },
     "execution_count": 136,
     "metadata": {},
     "output_type": "execute_result"
    }
   ],
   "source": [
    "a[2]   # 특정한 위치의 값을 불러냄 : 인덱싱"
   ]
  },
  {
   "cell_type": "code",
   "execution_count": 137,
   "id": "506f02b7",
   "metadata": {},
   "outputs": [
    {
     "data": {
      "text/plain": [
       "array([2, 3])"
      ]
     },
     "execution_count": 137,
     "metadata": {},
     "output_type": "execute_result"
    }
   ],
   "source": [
    "a[1:-1]   # 1번지부터 2번지(3번지 - 1)까지 호출(슬라이싱)"
   ]
  },
  {
   "cell_type": "code",
   "execution_count": 138,
   "id": "d8217b02",
   "metadata": {},
   "outputs": [],
   "source": [
    "ar = np.arange(1, 46)   # 1부터 45(46 - 1)까지의 값을 가진 배열 생성"
   ]
  },
  {
   "cell_type": "code",
   "execution_count": 139,
   "id": "4ef04126",
   "metadata": {},
   "outputs": [
    {
     "data": {
      "text/plain": [
       "array([ 1,  2,  3,  4,  5,  6,  7,  8,  9, 10, 11, 12, 13, 14, 15, 16, 17,\n",
       "       18, 19, 20, 21, 22, 23, 24, 25, 26, 27, 28, 29, 30, 31, 32, 33, 34,\n",
       "       35, 36, 37, 38, 39, 40, 41, 42, 43, 44, 45])"
      ]
     },
     "execution_count": 139,
     "metadata": {},
     "output_type": "execute_result"
    }
   ],
   "source": [
    "ar"
   ]
  },
  {
   "cell_type": "markdown",
   "id": "2a4633dc",
   "metadata": {},
   "source": [
    "#### ar.shape = 3, 4  \n",
    "-> 값이 45개라 3행 4열에는 다 들어가지 못해 에러"
   ]
  },
  {
   "cell_type": "code",
   "execution_count": 140,
   "id": "85d6fbfd",
   "metadata": {},
   "outputs": [],
   "source": [
    "ar.shape = 5, 9"
   ]
  },
  {
   "cell_type": "code",
   "execution_count": 141,
   "id": "00b3f7c6",
   "metadata": {},
   "outputs": [
    {
     "data": {
      "text/plain": [
       "array([[ 1,  2,  3,  4,  5,  6,  7,  8,  9],\n",
       "       [10, 11, 12, 13, 14, 15, 16, 17, 18],\n",
       "       [19, 20, 21, 22, 23, 24, 25, 26, 27],\n",
       "       [28, 29, 30, 31, 32, 33, 34, 35, 36],\n",
       "       [37, 38, 39, 40, 41, 42, 43, 44, 45]])"
      ]
     },
     "execution_count": 141,
     "metadata": {},
     "output_type": "execute_result"
    }
   ],
   "source": [
    "ar"
   ]
  },
  {
   "cell_type": "code",
   "execution_count": 142,
   "id": "b2fab260",
   "metadata": {},
   "outputs": [
    {
     "data": {
      "text/plain": [
       "array([ 1, 10, 19, 28, 37])"
      ]
     },
     "execution_count": 142,
     "metadata": {},
     "output_type": "execute_result"
    }
   ],
   "source": [
    "ar[:,0]   # 슬라이싱, 전체 행, 0번째 인덱스 열"
   ]
  },
  {
   "cell_type": "markdown",
   "id": "e3889ff2",
   "metadata": {},
   "source": [
    "#행을 골라내어 출력"
   ]
  },
  {
   "cell_type": "code",
   "execution_count": 143,
   "id": "c79e6057",
   "metadata": {},
   "outputs": [
    {
     "data": {
      "text/plain": [
       "array([37, 38, 39, 40, 41, 42, 43, 44, 45])"
      ]
     },
     "execution_count": 143,
     "metadata": {},
     "output_type": "execute_result"
    }
   ],
   "source": [
    "ar[4]   # 2차원 배열 시 행만 입력 시 열 전체로 인식"
   ]
  },
  {
   "cell_type": "code",
   "execution_count": 144,
   "id": "88c8baaf",
   "metadata": {},
   "outputs": [
    {
     "data": {
      "text/plain": [
       "array([[37, 38, 39, 40, 41, 42, 43, 44, 45]])"
      ]
     },
     "execution_count": 144,
     "metadata": {},
     "output_type": "execute_result"
    }
   ],
   "source": [
    "ar[-1:]   # [-1:] : 행의 마지막"
   ]
  },
  {
   "cell_type": "code",
   "execution_count": 145,
   "id": "87e7baae",
   "metadata": {},
   "outputs": [
    {
     "data": {
      "text/plain": [
       "array([[37, 38, 39, 40, 41, 42, 43, 44, 45]])"
      ]
     },
     "execution_count": 145,
     "metadata": {},
     "output_type": "execute_result"
    }
   ],
   "source": [
    "ar[4:]"
   ]
  },
  {
   "cell_type": "code",
   "execution_count": 146,
   "id": "d37ea633",
   "metadata": {},
   "outputs": [],
   "source": [
    "ar = np.array([1, 2, 3, 4, 5, 6, 7, 8])"
   ]
  },
  {
   "cell_type": "markdown",
   "id": "515f8c3f",
   "metadata": {},
   "source": [
    "배열 전치 : 행의 인덱스와 열의 인덱스를 바꾸는 것  \n",
    "    1) T 속성 => 배열명.T  \n",
    "    2) transpose 함수 => np.transpose(배열명)"
   ]
  },
  {
   "cell_type": "code",
   "execution_count": 147,
   "id": "40571ddc",
   "metadata": {},
   "outputs": [
    {
     "data": {
      "text/plain": [
       "array([1, 2, 3, 4, 5, 6, 7, 8])"
      ]
     },
     "execution_count": 147,
     "metadata": {},
     "output_type": "execute_result"
    }
   ],
   "source": [
    "ar.T"
   ]
  },
  {
   "cell_type": "code",
   "execution_count": 148,
   "id": "37f5d338",
   "metadata": {},
   "outputs": [],
   "source": [
    "b = np.array([[1, 2, 3, 4, 5, 6, 7, 8]])"
   ]
  },
  {
   "cell_type": "code",
   "execution_count": 149,
   "id": "6f879472",
   "metadata": {},
   "outputs": [
    {
     "data": {
      "text/plain": [
       "1"
      ]
     },
     "execution_count": 149,
     "metadata": {},
     "output_type": "execute_result"
    }
   ],
   "source": [
    "ar.ndim"
   ]
  },
  {
   "cell_type": "code",
   "execution_count": 150,
   "id": "24cedbbf",
   "metadata": {},
   "outputs": [
    {
     "data": {
      "text/plain": [
       "2"
      ]
     },
     "execution_count": 150,
     "metadata": {},
     "output_type": "execute_result"
    }
   ],
   "source": [
    "b.ndim"
   ]
  },
  {
   "cell_type": "code",
   "execution_count": 151,
   "id": "eb9aacdb",
   "metadata": {},
   "outputs": [],
   "source": [
    "ar = np.array([ar])   # 기존의 ar배열을 2차원배열로 바꿔 만듬"
   ]
  },
  {
   "cell_type": "code",
   "execution_count": 152,
   "id": "5b39e3ed",
   "metadata": {},
   "outputs": [
    {
     "data": {
      "text/plain": [
       "2"
      ]
     },
     "execution_count": 152,
     "metadata": {},
     "output_type": "execute_result"
    }
   ],
   "source": [
    "ar.ndim"
   ]
  },
  {
   "cell_type": "code",
   "execution_count": 153,
   "id": "e42a91e4",
   "metadata": {},
   "outputs": [
    {
     "data": {
      "text/plain": [
       "array([[1, 2, 3, 4, 5, 6, 7, 8]])"
      ]
     },
     "execution_count": 153,
     "metadata": {},
     "output_type": "execute_result"
    }
   ],
   "source": [
    "ar"
   ]
  },
  {
   "cell_type": "code",
   "execution_count": 154,
   "id": "9da3e971",
   "metadata": {},
   "outputs": [
    {
     "data": {
      "text/plain": [
       "array([[1],\n",
       "       [2],\n",
       "       [3],\n",
       "       [4],\n",
       "       [5],\n",
       "       [6],\n",
       "       [7],\n",
       "       [8]])"
      ]
     },
     "execution_count": 154,
     "metadata": {},
     "output_type": "execute_result"
    }
   ],
   "source": [
    "ar.T   # 전치"
   ]
  },
  {
   "cell_type": "code",
   "execution_count": 155,
   "id": "53d1b34f",
   "metadata": {},
   "outputs": [
    {
     "data": {
      "text/plain": [
       "array([[1, 2, 3, 4, 5, 6, 7, 8]])"
      ]
     },
     "execution_count": 155,
     "metadata": {},
     "output_type": "execute_result"
    }
   ],
   "source": [
    "ar"
   ]
  },
  {
   "cell_type": "code",
   "execution_count": 156,
   "id": "6e89dd90",
   "metadata": {},
   "outputs": [
    {
     "data": {
      "text/plain": [
       "array([[1],\n",
       "       [2],\n",
       "       [3],\n",
       "       [4],\n",
       "       [5],\n",
       "       [6],\n",
       "       [7],\n",
       "       [8]])"
      ]
     },
     "execution_count": 156,
     "metadata": {},
     "output_type": "execute_result"
    }
   ],
   "source": [
    "np.transpose(ar)"
   ]
  },
  {
   "cell_type": "code",
   "execution_count": 157,
   "id": "dd2fbc85",
   "metadata": {},
   "outputs": [
    {
     "data": {
      "text/plain": [
       "array([[1, 2, 3, 4, 5, 6, 7, 8]])"
      ]
     },
     "execution_count": 157,
     "metadata": {},
     "output_type": "execute_result"
    }
   ],
   "source": [
    "ar"
   ]
  },
  {
   "cell_type": "markdown",
   "id": "7f86253f",
   "metadata": {},
   "source": [
    "유니버셜 함수 - 논리함수"
   ]
  },
  {
   "cell_type": "code",
   "execution_count": 158,
   "id": "3443508b",
   "metadata": {},
   "outputs": [],
   "source": [
    "a = np.array([True, False, True, False])"
   ]
  },
  {
   "cell_type": "code",
   "execution_count": 159,
   "id": "52b66961",
   "metadata": {},
   "outputs": [],
   "source": [
    "b = np.array([False, False, True, True])"
   ]
  },
  {
   "cell_type": "code",
   "execution_count": 160,
   "id": "22f2475d",
   "metadata": {},
   "outputs": [
    {
     "data": {
      "text/plain": [
       "array([False, False,  True, False])"
      ]
     },
     "execution_count": 160,
     "metadata": {},
     "output_type": "execute_result"
    }
   ],
   "source": [
    "np.logical_and(a, b)   # and연산"
   ]
  },
  {
   "cell_type": "code",
   "execution_count": 161,
   "id": "66099057",
   "metadata": {},
   "outputs": [
    {
     "data": {
      "text/plain": [
       "array([ True, False,  True,  True])"
      ]
     },
     "execution_count": 161,
     "metadata": {},
     "output_type": "execute_result"
    }
   ],
   "source": [
    "np.logical_or(a, b)   # or연산"
   ]
  },
  {
   "cell_type": "code",
   "execution_count": 162,
   "id": "508fc4bc",
   "metadata": {},
   "outputs": [],
   "source": [
    "a = np.array([True, False, False, True])"
   ]
  },
  {
   "cell_type": "code",
   "execution_count": 163,
   "id": "002528e4",
   "metadata": {},
   "outputs": [],
   "source": [
    "b = np.array([[True, False], [True, False]])"
   ]
  },
  {
   "cell_type": "markdown",
   "id": "834f8802",
   "metadata": {},
   "source": [
    "#### np.logical_or(a, b)  \n",
    "-> 배열의 개수가 같지 않으면 에러발생"
   ]
  },
  {
   "cell_type": "code",
   "execution_count": 164,
   "id": "cd8a4000",
   "metadata": {},
   "outputs": [],
   "source": [
    "a = np.array([True, False, False, True]).reshape(2, 2)   # 2차원배열로 변경"
   ]
  },
  {
   "cell_type": "code",
   "execution_count": 165,
   "id": "2ef57978",
   "metadata": {},
   "outputs": [
    {
     "data": {
      "text/plain": [
       "array([[ True, False],\n",
       "       [ True,  True]])"
      ]
     },
     "execution_count": 165,
     "metadata": {},
     "output_type": "execute_result"
    }
   ],
   "source": [
    "np.logical_or(a, b)"
   ]
  },
  {
   "cell_type": "code",
   "execution_count": 166,
   "id": "b066c660",
   "metadata": {},
   "outputs": [
    {
     "data": {
      "text/plain": [
       "array([[False,  True],\n",
       "       [False,  True]])"
      ]
     },
     "execution_count": 166,
     "metadata": {},
     "output_type": "execute_result"
    }
   ],
   "source": [
    "np.logical_not(b)   # 논리형 배열의 값을 반대로 바꿈"
   ]
  },
  {
   "cell_type": "markdown",
   "id": "2c1edfb5",
   "metadata": {},
   "source": [
    "배열을 사용한 데이터 처리하기  \n",
    "- 배열연산으로 조건절을 표현  => 논리조건식, where 함수 이용  \n",
    "- 수학함수  \n",
    "- 불리언(bool) 배열을 위한 함수"
   ]
  },
  {
   "cell_type": "code",
   "execution_count": 167,
   "id": "32f9744b",
   "metadata": {},
   "outputs": [],
   "source": [
    "a = np.array([1, 2, 3, 4, 5])"
   ]
  },
  {
   "cell_type": "code",
   "execution_count": 168,
   "id": "82a23cbc",
   "metadata": {},
   "outputs": [
    {
     "data": {
      "text/plain": [
       "3"
      ]
     },
     "execution_count": 168,
     "metadata": {},
     "output_type": "execute_result"
    }
   ],
   "source": [
    "a[2]"
   ]
  },
  {
   "cell_type": "markdown",
   "id": "059135f4",
   "metadata": {},
   "source": [
    "논리식 검색 - 논리 인덱싱"
   ]
  },
  {
   "cell_type": "code",
   "execution_count": 169,
   "id": "34157faf",
   "metadata": {},
   "outputs": [],
   "source": [
    "ar = np.array([[80, 90, 80],\n",
    "              [75, 60, 80],\n",
    "              [95, 100, 90]])"
   ]
  },
  {
   "cell_type": "code",
   "execution_count": 170,
   "id": "8552c8a1",
   "metadata": {},
   "outputs": [
    {
     "data": {
      "text/plain": [
       "75"
      ]
     },
     "execution_count": 170,
     "metadata": {},
     "output_type": "execute_result"
    }
   ],
   "source": [
    "ar[1,0]"
   ]
  },
  {
   "cell_type": "code",
   "execution_count": 171,
   "id": "8844a3d7",
   "metadata": {},
   "outputs": [
    {
     "data": {
      "text/plain": [
       "array([ 90,  95, 100,  90])"
      ]
     },
     "execution_count": 171,
     "metadata": {},
     "output_type": "execute_result"
    }
   ],
   "source": [
    "ar[ar>=85]   # 조건에 맞는 데이터를 1차원함수로 표시"
   ]
  },
  {
   "cell_type": "markdown",
   "id": "f7fe6d19",
   "metadata": {},
   "source": [
    "where 함수 => np.where(조건절)"
   ]
  },
  {
   "cell_type": "code",
   "execution_count": 172,
   "id": "cc9765fc",
   "metadata": {},
   "outputs": [
    {
     "data": {
      "text/plain": [
       "(array([0, 2, 2, 2], dtype=int64), array([1, 0, 1, 2], dtype=int64))"
      ]
     },
     "execution_count": 172,
     "metadata": {},
     "output_type": "execute_result"
    }
   ],
   "source": [
    "np.where(ar >= 85)   # np모듈안에 있는 where함수  \n",
    "# 앞의 array : 행을 의미, 뒤의 array : 열을 의미  \n",
    "# => 0행 1열, 2행0열, 2행1열, 2행2열이 조건에 해당된다는 의미"
   ]
  },
  {
   "cell_type": "code",
   "execution_count": 173,
   "id": "71d7cd2c",
   "metadata": {},
   "outputs": [],
   "source": [
    "ar.shape=9"
   ]
  },
  {
   "cell_type": "code",
   "execution_count": 174,
   "id": "1c22de42",
   "metadata": {},
   "outputs": [
    {
     "data": {
      "text/plain": [
       "array([ 80,  90,  80,  75,  60,  80,  95, 100,  90])"
      ]
     },
     "execution_count": 174,
     "metadata": {},
     "output_type": "execute_result"
    }
   ],
   "source": [
    "ar"
   ]
  },
  {
   "cell_type": "code",
   "execution_count": 175,
   "id": "ba0ff360",
   "metadata": {},
   "outputs": [
    {
     "data": {
      "text/plain": [
       "(array([1, 6, 7, 8], dtype=int64),)"
      ]
     },
     "execution_count": 175,
     "metadata": {},
     "output_type": "execute_result"
    }
   ],
   "source": [
    "np.where(ar>=85)  \n",
    "# 1차원배열은 조건에 해당하는 인덱스 번호 반환함"
   ]
  },
  {
   "cell_type": "code",
   "execution_count": 176,
   "id": "c2f19412",
   "metadata": {},
   "outputs": [
    {
     "data": {
      "text/plain": [
       "75"
      ]
     },
     "execution_count": 176,
     "metadata": {},
     "output_type": "execute_result"
    }
   ],
   "source": [
    "ar[3]"
   ]
  },
  {
   "cell_type": "code",
   "execution_count": 177,
   "id": "2511bd93",
   "metadata": {},
   "outputs": [
    {
     "data": {
      "text/plain": [
       "array([ 90,  95, 100,  90])"
      ]
     },
     "execution_count": 177,
     "metadata": {},
     "output_type": "execute_result"
    }
   ],
   "source": [
    "ar[np.where(ar>=85)]   # 조건에 해당하는 인덱스에 해당되는 값을 반환"
   ]
  },
  {
   "cell_type": "code",
   "execution_count": 178,
   "id": "14cdc4a8",
   "metadata": {},
   "outputs": [
    {
     "data": {
      "text/plain": [
       "array([ 80,  90,  80,  75,  60,  80,  95, 100,  90])"
      ]
     },
     "execution_count": 178,
     "metadata": {},
     "output_type": "execute_result"
    }
   ],
   "source": [
    "ar"
   ]
  },
  {
   "cell_type": "code",
   "execution_count": 179,
   "id": "f7d6b5ed",
   "metadata": {},
   "outputs": [
    {
     "data": {
      "text/plain": [
       "9"
      ]
     },
     "execution_count": 179,
     "metadata": {},
     "output_type": "execute_result"
    }
   ],
   "source": [
    "ar.size"
   ]
  },
  {
   "cell_type": "code",
   "execution_count": 180,
   "id": "60775e8a",
   "metadata": {},
   "outputs": [],
   "source": [
    "ar.shape=3,3"
   ]
  },
  {
   "cell_type": "code",
   "execution_count": 181,
   "id": "075b16a4",
   "metadata": {},
   "outputs": [
    {
     "data": {
      "text/plain": [
       "(3, 3)"
      ]
     },
     "execution_count": 181,
     "metadata": {},
     "output_type": "execute_result"
    }
   ],
   "source": [
    "ar.shape"
   ]
  },
  {
   "cell_type": "code",
   "execution_count": 182,
   "id": "9f8c56d0",
   "metadata": {},
   "outputs": [
    {
     "data": {
      "text/plain": [
       "array([[ 80,  90,  80],\n",
       "       [ 75,  60,  80],\n",
       "       [ 95, 100,  90]])"
      ]
     },
     "execution_count": 182,
     "metadata": {},
     "output_type": "execute_result"
    }
   ],
   "source": [
    "ar"
   ]
  },
  {
   "cell_type": "code",
   "execution_count": 183,
   "id": "9acd9548",
   "metadata": {},
   "outputs": [
    {
     "data": {
      "text/plain": [
       "array([[  0,  90,   0],\n",
       "       [  0,   0,   0],\n",
       "       [ 95, 100,  90]])"
      ]
     },
     "execution_count": 183,
     "metadata": {},
     "output_type": "execute_result"
    }
   ],
   "source": [
    "np.where(ar>=85, ar, 0)  \n",
    "# 조건, 조건이 참일때 출력될 값(위치의 값 그대로), 조건이 거짓일때 출력될 값"
   ]
  },
  {
   "cell_type": "code",
   "execution_count": 184,
   "id": "161351f0",
   "metadata": {},
   "outputs": [
    {
     "data": {
      "text/plain": [
       "array([[ 80,  90,  80],\n",
       "       [ 75,  60,  80],\n",
       "       [ 95, 100,  90]])"
      ]
     },
     "execution_count": 184,
     "metadata": {},
     "output_type": "execute_result"
    }
   ],
   "source": [
    "ar"
   ]
  },
  {
   "cell_type": "code",
   "execution_count": 185,
   "id": "758dd8c0",
   "metadata": {},
   "outputs": [
    {
     "data": {
      "text/plain": [
       "array([ 90,  95, 100,  90])"
      ]
     },
     "execution_count": 185,
     "metadata": {},
     "output_type": "execute_result"
    }
   ],
   "source": [
    "ar[ar>=85]"
   ]
  },
  {
   "cell_type": "code",
   "execution_count": 186,
   "id": "dd5a7976",
   "metadata": {},
   "outputs": [
    {
     "data": {
      "text/plain": [
       "(array([0, 2, 2, 2], dtype=int64), array([1, 0, 1, 2], dtype=int64))"
      ]
     },
     "execution_count": 186,
     "metadata": {},
     "output_type": "execute_result"
    }
   ],
   "source": [
    "np.where(ar>=85)   # 조건에 맞는 인덱스 위치 확인  \n",
    "# => where절 사용 시 인덱스 값이 추출됨"
   ]
  },
  {
   "cell_type": "code",
   "execution_count": 187,
   "id": "448f9503",
   "metadata": {},
   "outputs": [
    {
     "data": {
      "text/plain": [
       "array([ 90,  95, 100,  90])"
      ]
     },
     "execution_count": 187,
     "metadata": {},
     "output_type": "execute_result"
    }
   ],
   "source": [
    "ar[np.where(ar>=85)]   # 조건에 맞는 값 확인\n",
    "# => 조건에 맞는 값을 보고싶을 때"
   ]
  },
  {
   "cell_type": "markdown",
   "id": "8d97ec28",
   "metadata": {},
   "source": [
    "수학 함수  \n",
    "- np.함수이름(a, b) => a, b 배열은 요소개수와 차원이 같아야 함  \n",
    "- 함수이름 : add(덧셈), subtract(뺄셈), multiply(곱셈), divide(나눗셈), mod(나머지), remainder(나머지), divmod(몫과 나머지)"
   ]
  },
  {
   "cell_type": "code",
   "execution_count": 188,
   "id": "389e3320",
   "metadata": {},
   "outputs": [],
   "source": [
    "a=np.array([1, 2, 3])\n",
    "b=np.array([2, 3, 4])"
   ]
  },
  {
   "cell_type": "code",
   "execution_count": 189,
   "id": "12a8d443",
   "metadata": {},
   "outputs": [
    {
     "data": {
      "text/plain": [
       "array([3, 5, 7])"
      ]
     },
     "execution_count": 189,
     "metadata": {},
     "output_type": "execute_result"
    }
   ],
   "source": [
    "a + b"
   ]
  },
  {
   "cell_type": "code",
   "execution_count": 190,
   "id": "affafd5b",
   "metadata": {},
   "outputs": [
    {
     "data": {
      "text/plain": [
       "array([3, 5, 7])"
      ]
     },
     "execution_count": 190,
     "metadata": {},
     "output_type": "execute_result"
    }
   ],
   "source": [
    "np.add(a, b)"
   ]
  },
  {
   "cell_type": "code",
   "execution_count": 191,
   "id": "10f2f6a1",
   "metadata": {},
   "outputs": [
    {
     "data": {
      "text/plain": [
       "array([2.        , 1.5       , 1.33333333])"
      ]
     },
     "execution_count": 191,
     "metadata": {},
     "output_type": "execute_result"
    }
   ],
   "source": [
    "np.divide(b, a)"
   ]
  },
  {
   "cell_type": "code",
   "execution_count": 192,
   "id": "95edcbd9",
   "metadata": {},
   "outputs": [
    {
     "data": {
      "text/plain": [
       "(array([2, 1, 1], dtype=int32), array([0, 1, 1], dtype=int32))"
      ]
     },
     "execution_count": 192,
     "metadata": {},
     "output_type": "execute_result"
    }
   ],
   "source": [
    "np.divmod(b, a)\n",
    "# 앞 array : 몫\n",
    "# 뒤 array : 나머지"
   ]
  },
  {
   "cell_type": "markdown",
   "id": "ad048d0f",
   "metadata": {},
   "source": [
    "소수점 이하 처리 함수  \n",
    "- np.함수이름(배열, [자리수])  \n",
    "- 함수 종류 : fix(x), trunc(x), ceil(x), floor(x), round(x, [y]), around"
   ]
  },
  {
   "cell_type": "code",
   "execution_count": 193,
   "id": "1608ede4",
   "metadata": {},
   "outputs": [],
   "source": [
    "a = np.array([1.435, 5.76, 3.44, 6.55])"
   ]
  },
  {
   "cell_type": "code",
   "execution_count": 194,
   "id": "323dc50e",
   "metadata": {},
   "outputs": [
    {
     "data": {
      "text/plain": [
       "array([1., 5., 3., 6.])"
      ]
     },
     "execution_count": 194,
     "metadata": {},
     "output_type": "execute_result"
    }
   ],
   "source": [
    "np.fix(a)   # fix(x) : 배열의 값들을 0에 가깝게 만듬, 소숫점 모두 버림"
   ]
  },
  {
   "cell_type": "code",
   "execution_count": 195,
   "id": "e128be93",
   "metadata": {},
   "outputs": [],
   "source": [
    "b = np.array([-1.435, -5.76, -3.44, -6.55])"
   ]
  },
  {
   "cell_type": "code",
   "execution_count": 196,
   "id": "fd9f14dc",
   "metadata": {},
   "outputs": [
    {
     "data": {
      "text/plain": [
       "array([-1., -5., -3., -6.])"
      ]
     },
     "execution_count": 196,
     "metadata": {},
     "output_type": "execute_result"
    }
   ],
   "source": [
    "np.fix(b)"
   ]
  },
  {
   "cell_type": "code",
   "execution_count": 197,
   "id": "32cca127",
   "metadata": {},
   "outputs": [
    {
     "data": {
      "text/plain": [
       "array([1., 6., 3., 7.])"
      ]
     },
     "execution_count": 197,
     "metadata": {},
     "output_type": "execute_result"
    }
   ],
   "source": [
    "np.round(a)   # round(x) : 반올림 함수"
   ]
  },
  {
   "cell_type": "code",
   "execution_count": 198,
   "id": "7fae7c45",
   "metadata": {},
   "outputs": [
    {
     "data": {
      "text/plain": [
       "array([1.4, 5.8, 3.4, 6.6])"
      ]
     },
     "execution_count": 198,
     "metadata": {},
     "output_type": "execute_result"
    }
   ],
   "source": [
    "np.round(a, 1)   # round(x, 인수) : 인수에 해당하는 소숫점 자리만큼 표시"
   ]
  },
  {
   "cell_type": "markdown",
   "id": "df908865",
   "metadata": {},
   "source": [
    "부호, 제곱 처리 함수  \n",
    "- np.함수이름(배열명, [y])  \n",
    "- 함수종류 : sign(x), abs(x), positive(x), negative(x), square(x), power(x, [y])"
   ]
  },
  {
   "cell_type": "code",
   "execution_count": 199,
   "id": "1c0b7c4a",
   "metadata": {},
   "outputs": [],
   "source": [
    "a=np.array([-10, 20, -30])"
   ]
  },
  {
   "cell_type": "code",
   "execution_count": 200,
   "id": "e2c1d77f",
   "metadata": {},
   "outputs": [
    {
     "data": {
      "text/plain": [
       "array([-1,  1, -1])"
      ]
     },
     "execution_count": 200,
     "metadata": {},
     "output_type": "execute_result"
    }
   ],
   "source": [
    "np.sign(a)"
   ]
  },
  {
   "cell_type": "code",
   "execution_count": 201,
   "id": "638d1707",
   "metadata": {},
   "outputs": [
    {
     "data": {
      "text/plain": [
       "array([ 10, -20,  30])"
      ]
     },
     "execution_count": 201,
     "metadata": {},
     "output_type": "execute_result"
    }
   ],
   "source": [
    "np.negative(a)   # negative : 부정, 부호가 바뀌어 출력"
   ]
  },
  {
   "cell_type": "code",
   "execution_count": 202,
   "id": "248199d7",
   "metadata": {},
   "outputs": [
    {
     "data": {
      "text/plain": [
       "array([100, 400, 900], dtype=int32)"
      ]
     },
     "execution_count": 202,
     "metadata": {},
     "output_type": "execute_result"
    }
   ],
   "source": [
    "np.square(a)   # square : 제곱"
   ]
  },
  {
   "cell_type": "code",
   "execution_count": 203,
   "id": "bddd546e",
   "metadata": {},
   "outputs": [
    {
     "data": {
      "text/plain": [
       "array([ -1000,   8000, -27000], dtype=int32)"
      ]
     },
     "execution_count": 203,
     "metadata": {},
     "output_type": "execute_result"
    }
   ],
   "source": [
    "np.power(a, 3)   # power : 두번째 인수만큼 제곱"
   ]
  },
  {
   "cell_type": "markdown",
   "id": "49a1a9e6",
   "metadata": {},
   "source": [
    "기본 삼각 함수  \n",
    "- np.함수이름(x)  \n",
    "- 함수종류 : six(x), cos(x), tan(x)"
   ]
  },
  {
   "cell_type": "code",
   "execution_count": 204,
   "id": "a43f75c2",
   "metadata": {},
   "outputs": [],
   "source": [
    "ar = np.array([0.,30.,45.,60.,90.])"
   ]
  },
  {
   "cell_type": "code",
   "execution_count": 205,
   "id": "956d2da3",
   "metadata": {},
   "outputs": [
    {
     "data": {
      "text/plain": [
       "array([0.        , 0.5       , 0.70710678, 0.8660254 , 1.        ])"
      ]
     },
     "execution_count": 205,
     "metadata": {},
     "output_type": "execute_result"
    }
   ],
   "source": [
    "np.sin(ar*np.pi/180)"
   ]
  },
  {
   "cell_type": "code",
   "execution_count": 206,
   "id": "9d90c0e8",
   "metadata": {},
   "outputs": [
    {
     "data": {
      "text/plain": [
       "array([0.        , 0.5       , 0.70710678, 0.8660254 , 1.        ])"
      ]
     },
     "execution_count": 206,
     "metadata": {},
     "output_type": "execute_result"
    }
   ],
   "source": [
    "np.sin(np.radians(ar))"
   ]
  },
  {
   "cell_type": "code",
   "execution_count": 207,
   "id": "d422c85d",
   "metadata": {},
   "outputs": [
    {
     "data": {
      "text/plain": [
       "<matplotlib.legend.Legend at 0x1dc640787c0>"
      ]
     },
     "execution_count": 207,
     "metadata": {},
     "output_type": "execute_result"
    },
    {
     "data": {
      "image/png": "[encoded data removed]",
      "text/plain": [
       "<Figure size 432x288 with 1 Axes>"
      ]
     },
     "metadata": {
      "needs_background": "light"
     },
     "output_type": "display_data"
    }
   ],
   "source": [
    "from matplotlib import pyplot as plt\n",
    "x=np.linspace(-5, 5, 50)   # linspace(a, b, c) : a부터 b까지 c개\n",
    "sin = np.sin(x)\n",
    "plt.plot(x,sin,label='sine')   # x축, y축, label\n",
    "plt.legend()   # 전체 데이터 차트를 보여줌"
   ]
  },
  {
   "cell_type": "markdown",
   "id": "b325305c",
   "metadata": {},
   "source": [
    "비교 연산 함수  \n",
    "- np.함수이름(x, y) : x, y배열(두개의 배열을 비교)  \n",
    "- 함수종류 : less (x<y), greater (x>y), equal (x=y), less_equal (x<=y), greater_equal (x>=y), not_equal (x!=y)"
   ]
  },
  {
   "cell_type": "code",
   "execution_count": 208,
   "id": "2c8f5df4",
   "metadata": {},
   "outputs": [],
   "source": [
    "a = np.array([90, 50, 70, 80])"
   ]
  },
  {
   "cell_type": "code",
   "execution_count": 209,
   "id": "5af6da7b",
   "metadata": {},
   "outputs": [
    {
     "data": {
      "text/plain": [
       "array([ True, False, False,  True])"
      ]
     },
     "execution_count": 209,
     "metadata": {},
     "output_type": "execute_result"
    }
   ],
   "source": [
    "np.greater_equal(a, 80)   # 80이상인 것을 검색"
   ]
  },
  {
   "cell_type": "code",
   "execution_count": 210,
   "id": "d254aef4",
   "metadata": {},
   "outputs": [
    {
     "data": {
      "text/plain": [
       "array([90, 80])"
      ]
     },
     "execution_count": 210,
     "metadata": {},
     "output_type": "execute_result"
    }
   ],
   "source": [
    "a[np.greater_equal(a, 80)]   # 조건에 맞는 데이터를 꺼냄"
   ]
  },
  {
   "cell_type": "code",
   "execution_count": 211,
   "id": "081928fd",
   "metadata": {},
   "outputs": [
    {
     "data": {
      "text/plain": [
       "array([90, 80])"
      ]
     },
     "execution_count": 211,
     "metadata": {},
     "output_type": "execute_result"
    }
   ],
   "source": [
    "a[a>=80]"
   ]
  },
  {
   "cell_type": "markdown",
   "id": "3d8695d1",
   "metadata": {},
   "source": [
    "통계함수  \n",
    "- np.함수이름(배열, [axis=0 or 1][out=배열])   # 0 : 행, 1 : 열, out : 결과를 넣을 배열 지정  \n",
    "- max : 최대값  \n",
    "- argmax : 최대값의 인덱스  \n",
    "- min : 최소값  \n",
    "- argmin : 최소값의 인덱스  \n",
    "- median : 위치적으로 중앙값  \n",
    "- mean : 평균값  \n",
    "- nanmean : NaN값을 제외한 평균"
   ]
  },
  {
   "cell_type": "code",
   "execution_count": 212,
   "id": "d895abdd",
   "metadata": {},
   "outputs": [],
   "source": [
    "a = np.array([[1, 2, 3], [4, 5, 6], [9, 11, 10]])"
   ]
  },
  {
   "cell_type": "code",
   "execution_count": 213,
   "id": "927b7748",
   "metadata": {},
   "outputs": [
    {
     "data": {
      "text/plain": [
       "11"
      ]
     },
     "execution_count": 213,
     "metadata": {},
     "output_type": "execute_result"
    }
   ],
   "source": [
    "np.max(a)"
   ]
  },
  {
   "cell_type": "code",
   "execution_count": 214,
   "id": "13ad5d68",
   "metadata": {},
   "outputs": [
    {
     "data": {
      "text/plain": [
       "7"
      ]
     },
     "execution_count": 214,
     "metadata": {},
     "output_type": "execute_result"
    }
   ],
   "source": [
    "np.argmax(a)   # 2차원배열을 1차원취급하여 계산"
   ]
  },
  {
   "cell_type": "code",
   "execution_count": 215,
   "id": "8ed9a134",
   "metadata": {},
   "outputs": [
    {
     "data": {
      "text/plain": [
       "array([ 9, 11, 10])"
      ]
     },
     "execution_count": 215,
     "metadata": {},
     "output_type": "execute_result"
    }
   ],
   "source": [
    "np.max(a,axis=0)   # 각 열의 최대값"
   ]
  },
  {
   "cell_type": "code",
   "execution_count": 216,
   "id": "9a050781",
   "metadata": {},
   "outputs": [
    {
     "data": {
      "text/plain": [
       "array([ 3,  6, 11])"
      ]
     },
     "execution_count": 216,
     "metadata": {},
     "output_type": "execute_result"
    }
   ],
   "source": [
    "np.max(a,axis=1)   # 각 행의 최대값"
   ]
  },
  {
   "cell_type": "code",
   "execution_count": 217,
   "id": "b255d04d",
   "metadata": {},
   "outputs": [],
   "source": [
    "b = np.sort(a)"
   ]
  },
  {
   "cell_type": "code",
   "execution_count": 218,
   "id": "01520e0c",
   "metadata": {
    "scrolled": true
   },
   "outputs": [
    {
     "data": {
      "text/plain": [
       "array([[ 1,  2,  3],\n",
       "       [ 4,  5,  6],\n",
       "       [ 9, 10, 11]])"
      ]
     },
     "execution_count": 218,
     "metadata": {},
     "output_type": "execute_result"
    }
   ],
   "source": [
    "b"
   ]
  },
  {
   "cell_type": "code",
   "execution_count": 219,
   "id": "db26bb4f",
   "metadata": {},
   "outputs": [
    {
     "data": {
      "text/plain": [
       "5.0"
      ]
     },
     "execution_count": 219,
     "metadata": {},
     "output_type": "execute_result"
    }
   ],
   "source": [
    "np.median(a)   # 오름차순으로 정리 후 가운데에 있는 값을 출력\n",
    "# 개수가 짝수일 경우 가운데 두 값의 평균을 출력"
   ]
  },
  {
   "cell_type": "code",
   "execution_count": 220,
   "id": "97712fe8",
   "metadata": {},
   "outputs": [
    {
     "data": {
      "text/plain": [
       "5.666666666666667"
      ]
     },
     "execution_count": 220,
     "metadata": {},
     "output_type": "execute_result"
    }
   ],
   "source": [
    "np.mean(a)   # 평균 출력"
   ]
  },
  {
   "cell_type": "code",
   "execution_count": 221,
   "id": "c53fc137",
   "metadata": {},
   "outputs": [],
   "source": [
    "a = np.array([6, 3, 7, 2, 5, 4, 9])"
   ]
  },
  {
   "cell_type": "markdown",
   "id": "88ef7e8d",
   "metadata": {},
   "source": [
    "배열 정렬  \n",
    "- 오름차순 : np.sort(배열)  \n",
    "- 내림차순 : np.sort(배열)[::-1] // 배열명[np.argsort(-배열명)]"
   ]
  },
  {
   "cell_type": "code",
   "execution_count": 222,
   "id": "9f4f3f5e",
   "metadata": {},
   "outputs": [
    {
     "data": {
      "text/plain": [
       "array([2, 3, 4, 5, 6, 7, 9])"
      ]
     },
     "execution_count": 222,
     "metadata": {},
     "output_type": "execute_result"
    }
   ],
   "source": [
    "np.sort(a)"
   ]
  },
  {
   "cell_type": "code",
   "execution_count": 223,
   "id": "b6cc0b87",
   "metadata": {},
   "outputs": [
    {
     "data": {
      "text/plain": [
       "array([9, 7, 6, 5, 4, 3, 2])"
      ]
     },
     "execution_count": 223,
     "metadata": {},
     "output_type": "execute_result"
    }
   ],
   "source": [
    "np.sort(a)[::-1]"
   ]
  },
  {
   "cell_type": "code",
   "execution_count": 224,
   "id": "7d6e0748",
   "metadata": {},
   "outputs": [
    {
     "data": {
      "text/plain": [
       "array([9, 7, 6, 5, 4, 3, 2])"
      ]
     },
     "execution_count": 224,
     "metadata": {},
     "output_type": "execute_result"
    }
   ],
   "source": [
    "a[np.argsort(-a)]"
   ]
  },
  {
   "cell_type": "markdown",
   "id": "9b6ed1fd",
   "metadata": {},
   "source": [
    "random 모듈  \n",
    "- 난수생성  \n",
    "- choice, randint, random, randn  \n",
    "- np.random.함수이름(x, size, replace, p)\n",
    "-- x : 1차원 배열이나 정수 (x가 정수 : arange(정수))  \n",
    "-- size : 1개만 써있을 경우 -> 개수, (x,y) -> 튜플형태  \n",
    "-- replace : 중복허용여부  \n",
    "-- p : 가중값(나올 수 있는 확률)"
   ]
  },
  {
   "cell_type": "markdown",
   "id": "323a31f6",
   "metadata": {},
   "source": [
    "0 ~ 10 미만인 정수 중에서 3개 추출(중복 허용)"
   ]
  },
  {
   "cell_type": "code",
   "execution_count": 226,
   "id": "b2bfe160",
   "metadata": {},
   "outputs": [
    {
     "data": {
      "text/plain": [
       "array([3, 9, 4])"
      ]
     },
     "execution_count": 226,
     "metadata": {},
     "output_type": "execute_result"
    }
   ],
   "source": [
    "np.random.choice(10, 3, True)   # 0~9까지 3개 중복 허용하여 추출"
   ]
  },
  {
   "cell_type": "code",
   "execution_count": 227,
   "id": "3d002633",
   "metadata": {},
   "outputs": [
    {
     "data": {
      "text/plain": [
       "array([[6, 7],\n",
       "       [3, 8]])"
      ]
     },
     "execution_count": 227,
     "metadata": {},
     "output_type": "execute_result"
    }
   ],
   "source": [
    "np.random.choice(10, (2,2), False)   # 0~9까지 4개 중복허용하지않고 튜플형태로 추출"
   ]
  },
  {
   "cell_type": "code",
   "execution_count": null,
   "id": "f9986b4a",
   "metadata": {},
   "outputs": [],
   "source": []
  }
 ],
 "metadata": {
  "kernelspec": {
   "display_name": "Python 3 (ipykernel)",
   "language": "python",
   "name": "python3"
  },
  "language_info": {
   "codemirror_mode": {
    "name": "ipython",
    "version": 3
   },
   "file_extension": ".py",
   "mimetype": "text/x-python",
   "name": "python",
   "nbconvert_exporter": "python",
   "pygments_lexer": "ipython3",
   "version": "3.9.12"
  }
 },
 "nbformat": 4,
 "nbformat_minor": 5
}
