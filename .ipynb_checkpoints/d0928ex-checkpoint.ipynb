{
 "cells": [
  {
   "cell_type": "code",
   "execution_count": 3,
   "id": "03aebfbb",
   "metadata": {},
   "outputs": [],
   "source": [
    "import numpy as np"
   ]
  },
  {
   "cell_type": "markdown",
   "id": "8b981408",
   "metadata": {},
   "source": [
    "1. 다음 배열을 만들고 조건에 맞는 코드를 작성하시오."
   ]
  },
  {
   "cell_type": "code",
   "execution_count": 4,
   "id": "7d8610af",
   "metadata": {},
   "outputs": [],
   "source": [
    "a=np.array([[80,90,85],[75,60,80],[95,100,90]])"
   ]
  },
  {
   "cell_type": "markdown",
   "id": "745b0e3e",
   "metadata": {},
   "source": [
    "1) 위 배열에서 85 이상인 값을 추출하시오"
   ]
  },
  {
   "cell_type": "code",
   "execution_count": 5,
   "id": "92fbc609",
   "metadata": {},
   "outputs": [
    {
     "data": {
      "text/plain": [
       "array([ 90,  85,  95, 100,  90])"
      ]
     },
     "execution_count": 5,
     "metadata": {},
     "output_type": "execute_result"
    }
   ],
   "source": [
    "a[a>=85]"
   ]
  },
  {
   "cell_type": "markdown",
   "id": "ca12bc3c",
   "metadata": {},
   "source": [
    "2) 위 배열에서 85이상인 값의 인덱스를 추출하시오"
   ]
  },
  {
   "cell_type": "code",
   "execution_count": 6,
   "id": "0e6c2eef",
   "metadata": {},
   "outputs": [
    {
     "data": {
      "text/plain": [
       "(array([0, 0, 2, 2, 2], dtype=int64), array([1, 2, 0, 1, 2], dtype=int64))"
      ]
     },
     "execution_count": 6,
     "metadata": {},
     "output_type": "execute_result"
    }
   ],
   "source": [
    "np.where(a>=85)\n",
    "# 0행1열, 0행2열, 2행0열, 2행1열, 2행2열"
   ]
  },
  {
   "cell_type": "markdown",
   "id": "29cf9ae9",
   "metadata": {},
   "source": [
    "3) 위 배열에서 85이상인 값을 3행 3열의 배열로 추출하되, 조건에 만족하지 않는 경우 0 출력"
   ]
  },
  {
   "cell_type": "code",
   "execution_count": 7,
   "id": "f4148621",
   "metadata": {},
   "outputs": [
    {
     "data": {
      "text/plain": [
       "array([[  0,  90,  85],\n",
       "       [  0,   0,   0],\n",
       "       [ 95, 100,  90]])"
      ]
     },
     "execution_count": 7,
     "metadata": {},
     "output_type": "execute_result"
    }
   ],
   "source": [
    "np.where(a>=85, a, 0)\n",
    "# 두번째 인수 : 조건에 맞을 때 출력될 값\n",
    "# 세번째 인수 : 조건에 맞지 않을 때 출력될 값"
   ]
  },
  {
   "cell_type": "markdown",
   "id": "cc6d138e",
   "metadata": {},
   "source": [
    "2. 다음 두 개의 배열을 만들고 조건에 맞는 코드를 작성하시오."
   ]
  },
  {
   "cell_type": "code",
   "execution_count": 8,
   "id": "87126778",
   "metadata": {},
   "outputs": [],
   "source": [
    "a=np.array([80,90,85])\n",
    "b=np.array([95,100,90])"
   ]
  },
  {
   "cell_type": "markdown",
   "id": "a6f82da1",
   "metadata": {},
   "source": [
    "1) 두 배열의 덧셈 결과"
   ]
  },
  {
   "cell_type": "code",
   "execution_count": 9,
   "id": "ec2800c6",
   "metadata": {},
   "outputs": [
    {
     "data": {
      "text/plain": [
       "array([175, 190, 175])"
      ]
     },
     "execution_count": 9,
     "metadata": {},
     "output_type": "execute_result"
    }
   ],
   "source": [
    "a+b"
   ]
  },
  {
   "cell_type": "code",
   "execution_count": 10,
   "id": "6be24a0e",
   "metadata": {},
   "outputs": [
    {
     "data": {
      "text/plain": [
       "array([175, 190, 175])"
      ]
     },
     "execution_count": 10,
     "metadata": {},
     "output_type": "execute_result"
    }
   ],
   "source": [
    "np.add(a,b)"
   ]
  },
  {
   "cell_type": "markdown",
   "id": "80126fdc",
   "metadata": {},
   "source": [
    "2)  두 배열의 뺄셈결과"
   ]
  },
  {
   "cell_type": "code",
   "execution_count": 11,
   "id": "f35590c7",
   "metadata": {},
   "outputs": [
    {
     "data": {
      "text/plain": [
       "array([-15, -10,  -5])"
      ]
     },
     "execution_count": 11,
     "metadata": {},
     "output_type": "execute_result"
    }
   ],
   "source": [
    "a-b"
   ]
  },
  {
   "cell_type": "code",
   "execution_count": 12,
   "id": "78393112",
   "metadata": {},
   "outputs": [
    {
     "data": {
      "text/plain": [
       "array([-15, -10,  -5])"
      ]
     },
     "execution_count": 12,
     "metadata": {},
     "output_type": "execute_result"
    }
   ],
   "source": [
    "np.subtract(a,b)"
   ]
  },
  {
   "cell_type": "markdown",
   "id": "f34602de",
   "metadata": {},
   "source": [
    "3) 두 배열의 곱셈결과"
   ]
  },
  {
   "cell_type": "code",
   "execution_count": 13,
   "id": "52d18f40",
   "metadata": {},
   "outputs": [
    {
     "data": {
      "text/plain": [
       "array([7600, 9000, 7650])"
      ]
     },
     "execution_count": 13,
     "metadata": {},
     "output_type": "execute_result"
    }
   ],
   "source": [
    "a*b"
   ]
  },
  {
   "cell_type": "code",
   "execution_count": 14,
   "id": "b6e66cb1",
   "metadata": {},
   "outputs": [
    {
     "data": {
      "text/plain": [
       "array([7600, 9000, 7650])"
      ]
     },
     "execution_count": 14,
     "metadata": {},
     "output_type": "execute_result"
    }
   ],
   "source": [
    "np.multiply(a,b)"
   ]
  },
  {
   "cell_type": "markdown",
   "id": "004ff993",
   "metadata": {},
   "source": [
    "4) 두 배열의 나눈결과"
   ]
  },
  {
   "cell_type": "code",
   "execution_count": 15,
   "id": "83ace7b0",
   "metadata": {},
   "outputs": [
    {
     "data": {
      "text/plain": [
       "array([0.84210526, 0.9       , 0.94444444])"
      ]
     },
     "execution_count": 15,
     "metadata": {},
     "output_type": "execute_result"
    }
   ],
   "source": [
    "a/b"
   ]
  },
  {
   "cell_type": "code",
   "execution_count": 16,
   "id": "f5511fcf",
   "metadata": {},
   "outputs": [
    {
     "data": {
      "text/plain": [
       "array([0.84210526, 0.9       , 0.94444444])"
      ]
     },
     "execution_count": 16,
     "metadata": {},
     "output_type": "execute_result"
    }
   ],
   "source": [
    "np.divide(a,b)"
   ]
  },
  {
   "cell_type": "markdown",
   "id": "15ea950b",
   "metadata": {},
   "source": [
    "5) 두 배열의 나머지"
   ]
  },
  {
   "cell_type": "code",
   "execution_count": 17,
   "id": "1965069b",
   "metadata": {},
   "outputs": [
    {
     "data": {
      "text/plain": [
       "array([80, 90, 85], dtype=int32)"
      ]
     },
     "execution_count": 17,
     "metadata": {},
     "output_type": "execute_result"
    }
   ],
   "source": [
    "a%b"
   ]
  },
  {
   "cell_type": "code",
   "execution_count": 18,
   "id": "f5d14793",
   "metadata": {},
   "outputs": [
    {
     "data": {
      "text/plain": [
       "array([80, 90, 85], dtype=int32)"
      ]
     },
     "execution_count": 18,
     "metadata": {},
     "output_type": "execute_result"
    }
   ],
   "source": [
    "np.mod(a,b)"
   ]
  },
  {
   "cell_type": "markdown",
   "id": "2108c48e",
   "metadata": {},
   "source": [
    "6) 두 배열의 몫과 나머지"
   ]
  },
  {
   "cell_type": "code",
   "execution_count": 19,
   "id": "98b0f808",
   "metadata": {},
   "outputs": [
    {
     "data": {
      "text/plain": [
       "(array([0, 0, 0], dtype=int32), array([80, 90, 85], dtype=int32))"
      ]
     },
     "execution_count": 19,
     "metadata": {},
     "output_type": "execute_result"
    }
   ],
   "source": [
    "np.divmod(a,b)"
   ]
  },
  {
   "cell_type": "markdown",
   "id": "88d6fe56",
   "metadata": {},
   "source": [
    "3. 다음 배열을 만들고 조건에 맞는 코드 작성"
   ]
  },
  {
   "cell_type": "code",
   "execution_count": 20,
   "id": "09888bc9",
   "metadata": {},
   "outputs": [],
   "source": [
    "a=np.array([80,70,90,65,100,85])"
   ]
  },
  {
   "cell_type": "markdown",
   "id": "afa537f4",
   "metadata": {},
   "source": [
    "1) 80~100 사이 값 출력"
   ]
  },
  {
   "cell_type": "code",
   "execution_count": 21,
   "id": "a2d9816b",
   "metadata": {},
   "outputs": [
    {
     "data": {
      "text/plain": [
       "array([ 80,  90, 100,  85])"
      ]
     },
     "execution_count": 21,
     "metadata": {},
     "output_type": "execute_result"
    }
   ],
   "source": [
    "a[np.logical_and(a>=80, a<=100)]\n",
    "# logical_and : 논리연산 and"
   ]
  },
  {
   "cell_type": "markdown",
   "id": "d1ad6e3e",
   "metadata": {},
   "source": [
    "2) 85 이상인 값 출력"
   ]
  },
  {
   "cell_type": "code",
   "execution_count": 22,
   "id": "d3ccfb83",
   "metadata": {},
   "outputs": [
    {
     "data": {
      "text/plain": [
       "array([ 90, 100,  85])"
      ]
     },
     "execution_count": 22,
     "metadata": {},
     "output_type": "execute_result"
    }
   ],
   "source": [
    "a[a>=85]"
   ]
  },
  {
   "cell_type": "code",
   "execution_count": 23,
   "id": "35b9a685",
   "metadata": {},
   "outputs": [
    {
     "data": {
      "text/plain": [
       "array([ 90, 100,  85])"
      ]
     },
     "execution_count": 23,
     "metadata": {},
     "output_type": "execute_result"
    }
   ],
   "source": [
    "a[np.greater_equal(a,85)]"
   ]
  },
  {
   "cell_type": "markdown",
   "id": "acc401fb",
   "metadata": {},
   "source": [
    "3) 홀수값 출력"
   ]
  },
  {
   "cell_type": "code",
   "execution_count": 24,
   "id": "7b75f5e9",
   "metadata": {},
   "outputs": [
    {
     "data": {
      "text/plain": [
       "array([65, 85])"
      ]
     },
     "execution_count": 24,
     "metadata": {},
     "output_type": "execute_result"
    }
   ],
   "source": [
    "a[a%2==1]"
   ]
  },
  {
   "cell_type": "code",
   "execution_count": 25,
   "id": "91b45f00",
   "metadata": {},
   "outputs": [
    {
     "data": {
      "text/plain": [
       "array([65, 85])"
      ]
     },
     "execution_count": 25,
     "metadata": {},
     "output_type": "execute_result"
    }
   ],
   "source": [
    "a[np.equal(np.mod(a,2),1)]"
   ]
  },
  {
   "cell_type": "markdown",
   "id": "66a39d3c",
   "metadata": {},
   "source": [
    "4. 다음 배열을 만들고 조건에 맞는 코드 작성"
   ]
  },
  {
   "cell_type": "code",
   "execution_count": 26,
   "id": "6a82ecde",
   "metadata": {},
   "outputs": [],
   "source": [
    "a=np.array([80,np.nan,90,65,100,85])\n",
    "# nan : not a number\n",
    "# 다차원 배열의 값들은 모두 타입이 일치해야함\n",
    "# => numpy에서 제공하는 nan값을 사용하면 정수타입이 됨"
   ]
  },
  {
   "cell_type": "markdown",
   "id": "19d88738",
   "metadata": {},
   "source": [
    "1) 위 배열에서 최대값을 출력"
   ]
  },
  {
   "cell_type": "code",
   "execution_count": 27,
   "id": "6b524f06",
   "metadata": {},
   "outputs": [
    {
     "data": {
      "text/plain": [
       "nan"
      ]
     },
     "execution_count": 27,
     "metadata": {},
     "output_type": "execute_result"
    }
   ],
   "source": [
    "np.max(a)  # nan값이 있을 경우 max든 min이든 결과는 nan값이 됨"
   ]
  },
  {
   "cell_type": "code",
   "execution_count": 28,
   "id": "8900e214",
   "metadata": {},
   "outputs": [
    {
     "data": {
      "text/plain": [
       "100.0"
      ]
     },
     "execution_count": 28,
     "metadata": {},
     "output_type": "execute_result"
    }
   ],
   "source": [
    "np.nanmax(a)  # nan을 제외한 최대값을 계산"
   ]
  },
  {
   "cell_type": "markdown",
   "id": "a80521c7",
   "metadata": {},
   "source": [
    "2) 위 배열에서 최소값을 b 배열을 만들어서 b 배열에 저장"
   ]
  },
  {
   "cell_type": "code",
   "execution_count": 29,
   "id": "4410eb46",
   "metadata": {},
   "outputs": [
    {
     "data": {
      "text/plain": [
       "65.0"
      ]
     },
     "execution_count": 29,
     "metadata": {},
     "output_type": "execute_result"
    }
   ],
   "source": [
    "b=np.nanmin(a)\n",
    "b"
   ]
  },
  {
   "cell_type": "markdown",
   "id": "07d6a8f7",
   "metadata": {},
   "source": [
    "3) 위 배열의 평균값 출력"
   ]
  },
  {
   "cell_type": "code",
   "execution_count": 30,
   "id": "e5c3afd5",
   "metadata": {},
   "outputs": [
    {
     "data": {
      "text/plain": [
       "84.0"
      ]
     },
     "execution_count": 30,
     "metadata": {},
     "output_type": "execute_result"
    }
   ],
   "source": [
    "np.nanmean(a)"
   ]
  },
  {
   "cell_type": "markdown",
   "id": "44382c89",
   "metadata": {},
   "source": [
    "4) 위 배열을 오른차순 정렬"
   ]
  },
  {
   "cell_type": "code",
   "execution_count": 31,
   "id": "fa95f417",
   "metadata": {},
   "outputs": [
    {
     "data": {
      "text/plain": [
       "array([ 65.,  80.,  85.,  90., 100.,  nan])"
      ]
     },
     "execution_count": 31,
     "metadata": {},
     "output_type": "execute_result"
    }
   ],
   "source": [
    "np.sort(a)  # nan값을 100보다 크다고 인식함"
   ]
  },
  {
   "cell_type": "code",
   "execution_count": 32,
   "id": "460f55ba",
   "metadata": {},
   "outputs": [
    {
     "data": {
      "text/plain": [
       "array([ 65.,  80.,  85.,  90., 100.])"
      ]
     },
     "execution_count": 32,
     "metadata": {},
     "output_type": "execute_result"
    }
   ],
   "source": [
    "np.sort(a[np.logical_not(np.isnan(a))])\n",
    "# logical_not : 논리함수 not\n",
    "# isnan : nan인 것은 True로 반환됨\n",
    "# => not함수로 nan은 False로, 나머지는 True로 반환됨"
   ]
  },
  {
   "cell_type": "code",
   "execution_count": 33,
   "id": "7517e03d",
   "metadata": {},
   "outputs": [
    {
     "data": {
      "text/plain": [
       "array([ 65.,  80.,  85.,  90., 100.])"
      ]
     },
     "execution_count": 33,
     "metadata": {},
     "output_type": "execute_result"
    }
   ],
   "source": [
    "np.sort(a[~np.isnan(a)])\n",
    "# ~ : logical_not과 동일"
   ]
  },
  {
   "cell_type": "markdown",
   "id": "496a8479",
   "metadata": {},
   "source": [
    "5) 위 배열을 내림차순 출력"
   ]
  },
  {
   "cell_type": "code",
   "execution_count": 34,
   "id": "f9203e43",
   "metadata": {},
   "outputs": [
    {
     "data": {
      "text/plain": [
       "array([ nan, 100.,  90.,  85.,  80.,  65.])"
      ]
     },
     "execution_count": 34,
     "metadata": {},
     "output_type": "execute_result"
    }
   ],
   "source": [
    "np.sort(a)[::-1]\n",
    "# 오름차순 정렬 후 내림차순으로 변경"
   ]
  },
  {
   "cell_type": "code",
   "execution_count": 35,
   "id": "a6d14132",
   "metadata": {},
   "outputs": [
    {
     "data": {
      "text/plain": [
       "array([100.,  90.,  85.,  80.,  65.])"
      ]
     },
     "execution_count": 35,
     "metadata": {},
     "output_type": "execute_result"
    }
   ],
   "source": [
    "np.sort(a[~np.isnan(a)])[::-1]"
   ]
  },
  {
   "cell_type": "markdown",
   "id": "f9b7587d",
   "metadata": {},
   "source": [
    "5. 다음 배열을 만들고 조건에 맞는 코드 작성"
   ]
  },
  {
   "cell_type": "code",
   "execution_count": 36,
   "id": "92771d56",
   "metadata": {},
   "outputs": [],
   "source": [
    "a=np.array([[80,90,85],[75,60,80],[95,100,90]])"
   ]
  },
  {
   "cell_type": "markdown",
   "id": "6166a803",
   "metadata": {},
   "source": [
    "1) 위 배열에서 행별 최대값"
   ]
  },
  {
   "cell_type": "code",
   "execution_count": 37,
   "id": "777ec8fb",
   "metadata": {},
   "outputs": [
    {
     "data": {
      "text/plain": [
       "array([[ 80,  90,  85],\n",
       "       [ 75,  60,  80],\n",
       "       [ 95, 100,  90]])"
      ]
     },
     "execution_count": 37,
     "metadata": {},
     "output_type": "execute_result"
    }
   ],
   "source": [
    "a\n",
    "# 2차원 배열 시 axis = 0 -> 열\n",
    "# 2차원 배열 시 axis = 1 -> 행"
   ]
  },
  {
   "cell_type": "code",
   "execution_count": 38,
   "id": "472f6b53",
   "metadata": {
    "scrolled": true
   },
   "outputs": [
    {
     "data": {
      "text/plain": [
       "array([ 90,  80, 100])"
      ]
     },
     "execution_count": 38,
     "metadata": {},
     "output_type": "execute_result"
    }
   ],
   "source": [
    "np.max(a,axis=1)\n",
    "# axis = 축"
   ]
  },
  {
   "cell_type": "code",
   "execution_count": 39,
   "id": "632ff04d",
   "metadata": {},
   "outputs": [
    {
     "data": {
      "text/plain": [
       "array([1, 2, 1], dtype=int64)"
      ]
     },
     "execution_count": 39,
     "metadata": {},
     "output_type": "execute_result"
    }
   ],
   "source": [
    "np.argmax(a,axis=1)"
   ]
  },
  {
   "cell_type": "markdown",
   "id": "12566a24",
   "metadata": {},
   "source": [
    "2) 위 배열에서 열별 최대값"
   ]
  },
  {
   "cell_type": "code",
   "execution_count": 40,
   "id": "18d7dbf3",
   "metadata": {},
   "outputs": [
    {
     "data": {
      "text/plain": [
       "array([ 95, 100,  90])"
      ]
     },
     "execution_count": 40,
     "metadata": {},
     "output_type": "execute_result"
    }
   ],
   "source": [
    "np.max(a, axis=0)"
   ]
  },
  {
   "cell_type": "code",
   "execution_count": 41,
   "id": "3848911b",
   "metadata": {},
   "outputs": [
    {
     "data": {
      "text/plain": [
       "array([2, 2, 2], dtype=int64)"
      ]
     },
     "execution_count": 41,
     "metadata": {},
     "output_type": "execute_result"
    }
   ],
   "source": [
    "np.argmax(a, axis=0)"
   ]
  },
  {
   "cell_type": "markdown",
   "id": "45ef2db5",
   "metadata": {},
   "source": [
    "3) 전체 최대값"
   ]
  },
  {
   "cell_type": "code",
   "execution_count": 42,
   "id": "ac24fa1c",
   "metadata": {},
   "outputs": [
    {
     "data": {
      "text/plain": [
       "100"
      ]
     },
     "execution_count": 42,
     "metadata": {},
     "output_type": "execute_result"
    }
   ],
   "source": [
    "np.max(a)"
   ]
  },
  {
   "cell_type": "markdown",
   "id": "35884aae",
   "metadata": {},
   "source": [
    "6) 전체 최대값 인덱스"
   ]
  },
  {
   "cell_type": "code",
   "execution_count": 43,
   "id": "ec3bbdaa",
   "metadata": {},
   "outputs": [
    {
     "data": {
      "text/plain": [
       "7"
      ]
     },
     "execution_count": 43,
     "metadata": {},
     "output_type": "execute_result"
    }
   ],
   "source": [
    "np.argmax(a)"
   ]
  },
  {
   "cell_type": "markdown",
   "id": "8926b0b6",
   "metadata": {},
   "source": [
    "6. 0~50 사이의 랜덤값 10개 출력( 중복 허용 )"
   ]
  },
  {
   "cell_type": "code",
   "execution_count": 44,
   "id": "d093e255",
   "metadata": {},
   "outputs": [
    {
     "data": {
      "text/plain": [
       "array([ 8, 31, 35, 24, 42,  6, 24, 23, 49,  2])"
      ]
     },
     "execution_count": 44,
     "metadata": {},
     "output_type": "execute_result"
    }
   ],
   "source": [
    "np.random.choice(51, 10)  \n",
    "# 50이 포함되어야 하므로 +1\n",
    "# 두번째 인수 : 개수"
   ]
  },
  {
   "cell_type": "markdown",
   "id": "fb725a3c",
   "metadata": {},
   "source": [
    "7. 2~30 사이의 랜덤값 5개 출력( 중복 불가 )"
   ]
  },
  {
   "cell_type": "code",
   "execution_count": 45,
   "id": "289d5a1b",
   "metadata": {},
   "outputs": [
    {
     "data": {
      "text/plain": [
       "array([23, 20, 17,  3,  7])"
      ]
     },
     "execution_count": 45,
     "metadata": {},
     "output_type": "execute_result"
    }
   ],
   "source": [
    "np.random.choice(np.arange(2, 31),5,replace=False)\n",
    "# 첫번째 인수로 범위값을 지정하여 하나의 인수처럼 수행시킴\n",
    "# replace 명명하지 않을 시 default값은 True"
   ]
  },
  {
   "cell_type": "code",
   "execution_count": 46,
   "id": "e4fe3f8d",
   "metadata": {},
   "outputs": [
    {
     "data": {
      "text/plain": [
       "array([11, 12,  6, 24, 12])"
      ]
     },
     "execution_count": 46,
     "metadata": {},
     "output_type": "execute_result"
    }
   ],
   "source": [
    "np.random.randint(2, 31, 5)\n",
    "# randint함수 사용 시 replace를 지정할 수 없음 -> 중복값 발생함"
   ]
  },
  {
   "cell_type": "markdown",
   "id": "5bfa740e",
   "metadata": {},
   "source": [
    "8. 3~10 사이의 수를 1씩 증가시켜 열 벡터 생성"
   ]
  },
  {
   "cell_type": "code",
   "execution_count": 69,
   "id": "49067351",
   "metadata": {},
   "outputs": [
    {
     "data": {
      "text/plain": [
       "array([[ 3],\n",
       "       [ 4],\n",
       "       [ 5],\n",
       "       [ 6],\n",
       "       [ 7],\n",
       "       [ 8],\n",
       "       [ 9],\n",
       "       [10]])"
      ]
     },
     "execution_count": 69,
     "metadata": {},
     "output_type": "execute_result"
    }
   ],
   "source": [
    "a=np.arange(3,11)  # 행렬 또는 행벡터가 만들어짐\n",
    "a=a.reshape(len(a),1)  # 행벡터를 열벡터로 변경\n",
    "a\n",
    "# 하나의 행으로 표시되는 벡터 : 행벡터\n",
    "# 하나의 열로 표시되는 벡터 : 열벡터"
   ]
  },
  {
   "cell_type": "markdown",
   "id": "95ff738e",
   "metadata": {},
   "source": [
    "9. 10에서 5까지 1씩 감소하는 행 벡터를 생성하고 행 벡터의 크기를 구하시오"
   ]
  },
  {
   "cell_type": "code",
   "execution_count": 48,
   "id": "33ecbc03",
   "metadata": {},
   "outputs": [
    {
     "data": {
      "text/plain": [
       "array([10,  9,  8,  7,  6,  5])"
      ]
     },
     "execution_count": 48,
     "metadata": {},
     "output_type": "execute_result"
    }
   ],
   "source": [
    "a=np.arange(10,4,-1)\n",
    "a"
   ]
  },
  {
   "cell_type": "code",
   "execution_count": 49,
   "id": "734769ed",
   "metadata": {},
   "outputs": [
    {
     "data": {
      "text/plain": [
       "18.841443681416774"
      ]
     },
     "execution_count": 49,
     "metadata": {},
     "output_type": "execute_result"
    }
   ],
   "source": [
    "np.linalg.norm(a)\n",
    "# linalg : 선형배수\n",
    "# norm : 행 벡터의 크기를 계산"
   ]
  },
  {
   "cell_type": "markdown",
   "id": "bf1ddf77",
   "metadata": {},
   "source": [
    "10. 다음 두 벡터를 생성하고 벡터의 내적와 외적을 구하시오"
   ]
  },
  {
   "cell_type": "code",
   "execution_count": 50,
   "id": "652a875b",
   "metadata": {},
   "outputs": [],
   "source": [
    "a=np.array([6,2])\n",
    "b=np.array([4,5])"
   ]
  },
  {
   "cell_type": "code",
   "execution_count": 51,
   "id": "958c481a",
   "metadata": {},
   "outputs": [
    {
     "data": {
      "text/plain": [
       "34"
      ]
     },
     "execution_count": 51,
     "metadata": {},
     "output_type": "execute_result"
    }
   ],
   "source": [
    "a@b"
   ]
  },
  {
   "cell_type": "code",
   "execution_count": 52,
   "id": "95618120",
   "metadata": {},
   "outputs": [
    {
     "data": {
      "text/plain": [
       "34"
      ]
     },
     "execution_count": 52,
     "metadata": {},
     "output_type": "execute_result"
    }
   ],
   "source": [
    "np.dot(a,b)"
   ]
  },
  {
   "cell_type": "code",
   "execution_count": 53,
   "id": "54562758",
   "metadata": {},
   "outputs": [
    {
     "data": {
      "text/plain": [
       "array(22)"
      ]
     },
     "execution_count": 53,
     "metadata": {},
     "output_type": "execute_result"
    }
   ],
   "source": [
    "np.cross(a,b)\n",
    "# cross : 벡터의 외적을 구하는 함수"
   ]
  },
  {
   "cell_type": "markdown",
   "id": "5920033e",
   "metadata": {},
   "source": [
    "11. 다음 행렬을 만들고 행렬의 전치 행렬을 구하시오."
   ]
  },
  {
   "cell_type": "code",
   "execution_count": 54,
   "id": "783790f2",
   "metadata": {},
   "outputs": [
    {
     "data": {
      "text/plain": [
       "array([[80, 90, 85],\n",
       "       [75, 60, 80]])"
      ]
     },
     "execution_count": 54,
     "metadata": {},
     "output_type": "execute_result"
    }
   ],
   "source": [
    "a=np.array([[80,90,85],[75,60,80]])\n",
    "a\n",
    "# 전치행렬 : "
   ]
  },
  {
   "cell_type": "code",
   "execution_count": 55,
   "id": "8accad56",
   "metadata": {},
   "outputs": [
    {
     "data": {
      "text/plain": [
       "array([[80, 75],\n",
       "       [90, 60],\n",
       "       [85, 80]])"
      ]
     },
     "execution_count": 55,
     "metadata": {},
     "output_type": "execute_result"
    }
   ],
   "source": [
    "a.T\n",
    "# T : 가로로 된 행렬을 세로로 바꿔줌"
   ]
  },
  {
   "cell_type": "markdown",
   "id": "140f3057",
   "metadata": {},
   "source": [
    "12. 4행 4열의 항등행렬을 구하시오"
   ]
  },
  {
   "cell_type": "code",
   "execution_count": 56,
   "id": "c561e795",
   "metadata": {},
   "outputs": [
    {
     "data": {
      "text/plain": [
       "array([[1., 0., 0., 0.],\n",
       "       [0., 1., 0., 0.],\n",
       "       [0., 0., 1., 0.],\n",
       "       [0., 0., 0., 1.]])"
      ]
     },
     "execution_count": 56,
     "metadata": {},
     "output_type": "execute_result"
    }
   ],
   "source": [
    "np.eye(4)\n",
    "# 항등행렬(단위행렬) : 정사각형 행렬, 대각선의 값은 1, 나머지는 0"
   ]
  },
  {
   "cell_type": "markdown",
   "id": "0ed81daa",
   "metadata": {},
   "source": [
    "13. 다음 행렬을 생성하고 역행렬을 구하시오."
   ]
  },
  {
   "cell_type": "code",
   "execution_count": 57,
   "id": "2b3b427b",
   "metadata": {},
   "outputs": [
    {
     "data": {
      "text/plain": [
       "array([[80, 90],\n",
       "       [75, 60]])"
      ]
     },
     "execution_count": 57,
     "metadata": {},
     "output_type": "execute_result"
    }
   ],
   "source": [
    "a=np.array([[80,90],[75,60]])\n",
    "a"
   ]
  },
  {
   "cell_type": "code",
   "execution_count": 58,
   "id": "3adffe16",
   "metadata": {},
   "outputs": [
    {
     "data": {
      "text/plain": [
       "array([[-0.03076923,  0.04615385],\n",
       "       [ 0.03846154, -0.04102564]])"
      ]
     },
     "execution_count": 58,
     "metadata": {},
     "output_type": "execute_result"
    }
   ],
   "source": [
    "np.linalg.inv(a)\n",
    "# 역행렬 : 곱한 결과가 단위 행렬인 행렬을 갖는 행렬"
   ]
  },
  {
   "cell_type": "markdown",
   "id": "6af75840",
   "metadata": {},
   "source": [
    "14. 다음 선형 연립방정식의 해를 구하시오.  \n",
    "2x - y = 14  \n",
    "  -2x + 4y = 10"
   ]
  },
  {
   "cell_type": "code",
   "execution_count": 59,
   "id": "b40622f1",
   "metadata": {},
   "outputs": [],
   "source": [
    "A=np.array([[2,-1],[-2,4]])\n",
    "b=np.array([14,10])"
   ]
  },
  {
   "cell_type": "code",
   "execution_count": 60,
   "id": "9ec2e069",
   "metadata": {},
   "outputs": [
    {
     "data": {
      "text/plain": [
       "array([11.,  8.])"
      ]
     },
     "execution_count": 60,
     "metadata": {},
     "output_type": "execute_result"
    }
   ],
   "source": [
    "np.linalg.solve(A,b)\n",
    "# 방적식의 개수와 미지수가 같을 경우 solve()함수 사용"
   ]
  },
  {
   "cell_type": "code",
   "execution_count": 61,
   "id": "6f93cd20",
   "metadata": {},
   "outputs": [
    {
     "data": {
      "text/plain": [
       "array([11.,  8.])"
      ]
     },
     "execution_count": 61,
     "metadata": {},
     "output_type": "execute_result"
    }
   ],
   "source": [
    "invA=np.linalg.inv(A)\n",
    "x=np.dot(invA,b)\n",
    "x"
   ]
  },
  {
   "cell_type": "markdown",
   "id": "03b97e38",
   "metadata": {},
   "source": [
    "15. 다음 선형 연립방정식의 해를 구하시오  \n",
    "2x + 4y + 3z = 34  \n",
    "  -3x + 4y + 3z = 25"
   ]
  },
  {
   "cell_type": "code",
   "execution_count": 62,
   "id": "4b3314e4",
   "metadata": {},
   "outputs": [],
   "source": [
    "A=np.array([[2,4,3],[-3,4,3]])\n",
    "b=np.array([34,25])"
   ]
  },
  {
   "cell_type": "code",
   "execution_count": 63,
   "id": "5890d984",
   "metadata": {},
   "outputs": [
    {
     "data": {
      "text/plain": [
       "array([1.8  , 4.864, 3.648])"
      ]
     },
     "execution_count": 63,
     "metadata": {},
     "output_type": "execute_result"
    }
   ],
   "source": [
    "x=np.linalg.lstsq(A,b,rcond=None)[0]\n",
    "x\n",
    "# 방적식의 개수와 미지수가 다를 경우 lstsq()함수 사용"
   ]
  },
  {
   "cell_type": "markdown",
   "id": "c7402fa7",
   "metadata": {},
   "source": [
    "16. 다음 행렬의 행렬식을 구하시오"
   ]
  },
  {
   "cell_type": "code",
   "execution_count": 64,
   "id": "ce26a56e",
   "metadata": {},
   "outputs": [
    {
     "data": {
      "text/plain": [
       "array([[ 8,  9],\n",
       "       [11,  6]])"
      ]
     },
     "execution_count": 64,
     "metadata": {},
     "output_type": "execute_result"
    }
   ],
   "source": [
    "a=np.array([[8,9],[11,6]])\n",
    "a\n",
    "# 행렬식 : 대각선으로 곱한 값을 뺌\n",
    "# ex) (8 * 6) - (9 * 11)"
   ]
  },
  {
   "cell_type": "code",
   "execution_count": 65,
   "id": "3284b18f",
   "metadata": {},
   "outputs": [
    {
     "data": {
      "text/plain": [
       "-51.00000000000002"
      ]
     },
     "execution_count": 65,
     "metadata": {},
     "output_type": "execute_result"
    }
   ],
   "source": [
    "np.linalg.det(a)\n",
    "# numpy.linalg : 선형대수 함수\n",
    "# det : 행렬식을 구하는 함수"
   ]
  },
  {
   "cell_type": "markdown",
   "id": "b4420b79",
   "metadata": {},
   "source": [
    "17. 다음 행렬식을 구하시오."
   ]
  },
  {
   "cell_type": "code",
   "execution_count": 66,
   "id": "50405fad",
   "metadata": {},
   "outputs": [
    {
     "data": {
      "text/plain": [
       "array([[ 9, 11,  5],\n",
       "       [ 6, 13, 12],\n",
       "       [ 7,  3,  6]])"
      ]
     },
     "execution_count": 66,
     "metadata": {},
     "output_type": "execute_result"
    }
   ],
   "source": [
    "a=np.array([[9,11,5],[6,13,12],[7,3,6]])\n",
    "a"
   ]
  },
  {
   "cell_type": "code",
   "execution_count": 67,
   "id": "6c99a801",
   "metadata": {},
   "outputs": [
    {
     "data": {
      "text/plain": [
       "541.0000000000002"
      ]
     },
     "execution_count": 67,
     "metadata": {},
     "output_type": "execute_result"
    }
   ],
   "source": [
    "np.linalg.det(a)"
   ]
  },
  {
   "cell_type": "code",
   "execution_count": null,
   "id": "2076dd51",
   "metadata": {},
   "outputs": [],
   "source": []
  }
 ],
 "metadata": {
  "kernelspec": {
   "display_name": "Python 3 (ipykernel)",
   "language": "python",
   "name": "python3"
  },
  "language_info": {
   "codemirror_mode": {
    "name": "ipython",
    "version": 3
   },
   "file_extension": ".py",
   "mimetype": "text/x-python",
   "name": "python",
   "nbconvert_exporter": "python",
   "pygments_lexer": "ipython3",
   "version": "3.9.12"
  }
 },
 "nbformat": 4,
 "nbformat_minor": 5
}
