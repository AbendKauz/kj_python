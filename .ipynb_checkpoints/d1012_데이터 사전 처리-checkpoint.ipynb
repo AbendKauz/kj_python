{
 "cells": [
  {
   "cell_type": "markdown",
   "id": "a303396b",
   "metadata": {
    "id": "a303396b"
   },
   "source": [
    "1. 누락 데이터 처리\n",
    "\n",
    "  - 머신러닝 등 데이터 분석의 정확도는 분석 데이터의 품질에 의해 좌우된다. 데이터 품질을 높이기 위해서는 누락 데이터, 중복 데이터 등 \n",
    "    오류를 수정하고 분석 목적에 맞게 변형하는 과정이 필요하다.\n",
    "  - 일반적으로 유효한 데이터 값이 존재하지 않는 누락 데이터를 NaN으로 표시한다.\n",
    "  - 머신러닝 분석 모형에 데이터를 입력하기 전에 반드시 누락 데이터를 제거하거나 다른 적절한 값으로 대체하는 과정이 필요하다.\n",
    "    누락데이터가 많아지면 데이터의 품질이 떨어지고, 머신러닝 분석 알고리즘을 왜곡하는 현상이 발생하기 때문이다."
   ]
  },
  {
   "cell_type": "markdown",
   "id": "f0d11177",
   "metadata": {
    "id": "f0d11177"
   },
   "source": [
    "  1) 누락 데이터 확인\n",
    "    \n",
    "    seaborn 패키지의 'titanic' 데이터 셋을 사용하여 첫 5행을 출력해봅시다."
   ]
  },
  {
   "cell_type": "markdown",
   "id": "4401b9af",
   "metadata": {
    "id": "4401b9af"
   },
   "source": [
    "  - info() 메소드로 데이터프레임의 요약 정보 출력. 각 열의 데이터 중 유효한(non-null) 값의 개수를 보여준다."
   ]
  },
  {
   "cell_type": "markdown",
   "id": "646dcd0e",
   "metadata": {
    "id": "646dcd0e"
   },
   "source": [
    "  - value_countes() 메소드를 이용하여 'deck' 열에 누락 데이터 개수 파악 가능\n",
    "    \n",
    "    value_counts( normalize=False, # False면 개수, True면 상대 비율\n",
    "                sort=True, # True면 개수 기준, False면 유일한 값 기준 정렬\n",
    "                ascending=False, # False면 내림차순, True면 오름차순\n",
    "                dropna=True , # True면 NaN 무시, False면 유일값에 NaN 포함)"
   ]
  },
  {
   "cell_type": "markdown",
   "id": "e630eae7",
   "metadata": {
    "id": "e630eae7"
   },
   "source": [
    "  - deck 필드의 유일한 값별 개수를 구하기 / NaN의 개수도 구해야 하므로 dropna 속성에 False 사용"
   ]
  },
  {
   "cell_type": "markdown",
   "id": "125858d2",
   "metadata": {
    "id": "125858d2"
   },
   "source": [
    "  - age 필드의 유일한 값별 개수를 구하기"
   ]
  },
  {
   "cell_type": "markdown",
   "id": "01f4c9a9",
   "metadata": {
    "id": "01f4c9a9"
   },
   "source": [
    "▶ 누락데이터 직접 찾는 방법\n",
    "\n",
    "  - isnull() 또는 notnull()함수와 sum() 함수를 이용하여 구함\n",
    "    \n",
    "    - isnull -> 누락 데이터이면 True, 그렇지 않으면 False\n",
    "    - notnull -> 유효한 값이면 True, 누락 데이터이면 False\n",
    "    - True는 1, False는 0으로 환산되므로, sum(axis=0) 함수와 융합하면 누락 데이터의 개수를 구할 수 있음\n",
    "    - df.isnull().sum(axis=0)"
   ]
  },
  {
   "cell_type": "markdown",
   "id": "6baf2b4d",
   "metadata": {
    "id": "6baf2b4d"
   },
   "source": [
    " 2) 누락 데이터 제거하기\n",
    "    \n",
    "    - 누락 데이터를 확인하여 너무 많은 누락데이터가 존재하는 열은 삭제하고 그렇지 않은 경우 누락 데이터를 적절한 데이터로 치환\n",
    "    "
   ]
  },
  {
   "cell_type": "markdown",
   "id": "366d92cf",
   "metadata": {
    "id": "366d92cf"
   },
   "source": [
    "  (1) 누락 데이터 확인\n",
    "    \n",
    "    - df.isnull().sum(axis=0)\n",
    "    - deck 열의 경우는 너무 많은 데이터가 누락됨 => 열 자체를 삭제하는 것이 적합"
   ]
  },
  {
   "cell_type": "markdown",
   "id": "0fd0fd65",
   "metadata": {
    "id": "0fd0fd65"
   },
   "source": [
    "  (2) 누락 데이터 제거\n",
    "    \n",
    "    - dropna 함수 : NaN 또는 np.nan이 포함된 행 또는 열 삭제\n",
    "        [형식] df.dropna(subset, how, axis, thresh)\n",
    "        - subset : 삭제하고자 하는 행 또는 열 이름이 있는 배열\n",
    "        - how : 행 또는 열을 삭제하는 방법 [any | all]\n",
    "            - any : NaN이 하나라도 존재하면 삭제\n",
    "            - all : 모든 데이터가 NaN일 경우에만 삭제\n",
    "        - axis : 행(0), 열(1)\n",
    "        - thresh : 행 또는 열을 삭제하기 위한 최소 비결측값 수"
   ]
  },
  {
   "cell_type": "code",
   "execution_count": null,
   "id": "5f84947d",
   "metadata": {},
   "outputs": [],
   "source": []
  }
 ],
 "metadata": {
  "colab": {
   "collapsed_sections": [],
   "provenance": []
  },
  "kernelspec": {
   "display_name": "Python 3 (ipykernel)",
   "language": "python",
   "name": "python3"
  },
  "language_info": {
   "codemirror_mode": {
    "name": "ipython",
    "version": 3
   },
   "file_extension": ".py",
   "mimetype": "text/x-python",
   "name": "python",
   "nbconvert_exporter": "python",
   "pygments_lexer": "ipython3",
   "version": "3.9.12"
  }
 },
 "nbformat": 4,
 "nbformat_minor": 5
}
