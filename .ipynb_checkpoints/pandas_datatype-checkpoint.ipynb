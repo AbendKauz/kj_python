{
 "cells": [
  {
   "cell_type": "markdown",
   "id": "53e1a7a0",
   "metadata": {},
   "source": [
    "Series 데이터 생성 방법\n",
    "[형식] pd.Series(data, index=인덱스)\n",
    " - data : Series로 만들 데이터 (딕셔너리, 리스트, 스칼라, numpy 배열)\n",
    " - index : 축 레이블의 리스트"
   ]
  },
  {
   "cell_type": "markdown",
   "id": "779ae93b",
   "metadata": {},
   "source": [
    "1) 딕셔너리 이용한 Series 데이터 생성"
   ]
  },
  {
   "cell_type": "code",
   "execution_count": null,
   "id": "4c88815f",
   "metadata": {},
   "outputs": [],
   "source": []
  },
  {
   "cell_type": "markdown",
   "id": "75956b2e",
   "metadata": {},
   "source": [
    "2) numpy 배열을 이용한 데이터 생성"
   ]
  },
  {
   "cell_type": "code",
   "execution_count": null,
   "id": "15f5665c",
   "metadata": {},
   "outputs": [],
   "source": []
  },
  {
   "cell_type": "markdown",
   "id": "8920685d",
   "metadata": {},
   "source": [
    "DataFrame  생성 방법\n",
    "[형식] pd.DataFrame(data, index=인덱스, columns=레이블 목록, dtype=데이터 타입)\n",
    "- data : DataFrame으로 만들 데이터(딕셔너리, 리스트, 스칼라, numpy 배열, DataFrame 객체)\n",
    "- index : 축(행)레이블의 리스트를 할당 / 인덱스 값이 없으면 0-Based index\n",
    "- columns : 열 레이블의 리스트 할당 / 인덱스 값이 없으면 0-Based index\n",
    "- dtype : column마다 데이터 유형을 명기함"
   ]
  },
  {
   "cell_type": "markdown",
   "id": "c6a81e08",
   "metadata": {},
   "source": [
    "1) numpy 배열을 이용한 생성"
   ]
  },
  {
   "cell_type": "code",
   "execution_count": null,
   "id": "4a148ecc",
   "metadata": {},
   "outputs": [],
   "source": []
  },
  {
   "cell_type": "markdown",
   "id": "06d2b7ed",
   "metadata": {},
   "source": [
    "2) 딕셔너리를 이용한 생성"
   ]
  },
  {
   "cell_type": "code",
   "execution_count": null,
   "id": "a674040a",
   "metadata": {},
   "outputs": [],
   "source": []
  },
  {
   "cell_type": "markdown",
   "id": "fb783fb5",
   "metadata": {},
   "source": [
    "색인 객체의 생성 방법\n",
    "[형식] index객체명=pd.Index(index list, dtype=None, name=None)\n",
    "- index list : 인덱스 이름 목록\n",
    "- dtype : 데이터의 유형 / None이면 가장 적합한 데이터 유형을 찾음\n",
    "- name : 인덱스 객체의 이름"
   ]
  },
  {
   "cell_type": "markdown",
   "id": "9a8c64a8",
   "metadata": {},
   "source": [
    "1) 색인 객체 만들기"
   ]
  },
  {
   "cell_type": "code",
   "execution_count": null,
   "id": "dfe8a0eb",
   "metadata": {},
   "outputs": [],
   "source": []
  },
  {
   "cell_type": "markdown",
   "id": "0a5694d5",
   "metadata": {},
   "source": [
    "2) Series 객체 생성"
   ]
  },
  {
   "cell_type": "code",
   "execution_count": null,
   "id": "0521492d",
   "metadata": {},
   "outputs": [],
   "source": []
  },
  {
   "cell_type": "markdown",
   "id": "0e6e8ff8",
   "metadata": {},
   "source": [
    "3) 생성된 Series 객체에 색인 객체 할당"
   ]
  },
  {
   "cell_type": "code",
   "execution_count": null,
   "id": "b49ef3d0",
   "metadata": {},
   "outputs": [],
   "source": []
  }
 ],
 "metadata": {
  "kernelspec": {
   "display_name": "Python 3 (ipykernel)",
   "language": "python",
   "name": "python3"
  },
  "language_info": {
   "codemirror_mode": {
    "name": "ipython",
    "version": 3
   },
   "file_extension": ".py",
   "mimetype": "text/x-python",
   "name": "python",
   "nbconvert_exporter": "python",
   "pygments_lexer": "ipython3",
   "version": "3.9.12"
  }
 },
 "nbformat": 4,
 "nbformat_minor": 5
}
