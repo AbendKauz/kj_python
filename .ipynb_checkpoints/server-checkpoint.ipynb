{
 "cells": [
  {
   "cell_type": "code",
   "execution_count": 1,
   "id": "8260a243",
   "metadata": {},
   "outputs": [],
   "source": [
    "import pandas as pd\n",
    "from sklearn.preprocessing import MinMaxScaler\n",
    "import joblib"
   ]
  },
  {
   "cell_type": "code",
   "execution_count": 2,
   "id": "e2150948",
   "metadata": {},
   "outputs": [],
   "source": [
    "def preprocessing(uid, area, level, length, time, water, toilet, mart, keyword):\n",
    "    data = pd.read_csv(\"testest.csv\", encoding=\"utf-8\")\n",
    "    data = data.append({\"uid\":uid, \"area\":area, \"level\":level, \"length\":length, \"time\":time, \"water\":water, \"toilet\":toilet, \"mart\":mart, \"keyword\":keyword}, ignore_index=True)\n",
    "    data = data.astype({\"length\":\"float\", \"time\":\"int\", \"uid\":\"object\"})\n",
    "    X = data.iloc[:, :-1]\n",
    "    y = data.iloc[:, -1]\n",
    "    area_dum = pd.get_dummies(data[\"area\"])\n",
    "    X = pd.concat([X, area_dum], axis=1)\n",
    "    X.drop([\"area\"], inplace=True, axis=1)\n",
    "    level_dum = pd.get_dummies(data[\"level\"])\n",
    "    X = pd.concat([X, level_dum], axis=1)\n",
    "    X.drop([\"level\"], inplace=True, axis=1)\n",
    "    ID_dum = pd.get_dummies(data[\"uid\"])\n",
    "    X = pd.concat([X, ID_dum], axis=1)\n",
    "    X.drop([\"uid\"], inplace=True, axis=1)\n",
    "    keyword_dum = pd.get_dummies(data[\"keyword\"])\n",
    "    X = pd.concat([X, keyword_dum], axis=1)\n",
    "    X.drop([\"keyword\"], inplace=True, axis=1)\n",
    "    sc = MinMaxScaler()\n",
    "    X = sc.fit_transform(X)\n",
    "    return X[-1].reshape(1, 42)"
   ]
  },
  {
   "cell_type": "code",
   "execution_count": 3,
   "id": "d697bae1",
   "metadata": {},
   "outputs": [
    {
     "name": "stdout",
     "output_type": "stream",
     "text": [
      " * Serving Flask app \"__main__\" (lazy loading)\n",
      " * Environment: production\n",
      "\u001b[31m   WARNING: This is a development server. Do not use it in a production deployment.\u001b[0m\n",
      "\u001b[2m   Use a production WSGI server instead.\u001b[0m\n",
      " * Debug mode: off\n"
     ]
    },
    {
     "name": "stderr",
     "output_type": "stream",
     "text": [
      " * Running on http://localhost:5000/ (Press CTRL+C to quit)\n",
      "C:\\Users\\axels\\AppData\\Local\\Temp\\ipykernel_8924\\3863908304.py:3: FutureWarning: The frame.append method is deprecated and will be removed from pandas in a future version. Use pandas.concat instead.\n",
      "  data = data.append({\"uid\":uid, \"area\":area, \"level\":level, \"length\":length, \"time\":time, \"water\":water, \"toilet\":toilet, \"mart\":mart, \"keyword\":keyword}, ignore_index=True)\n",
      "C:\\ProgramData\\Anaconda3\\lib\\site-packages\\sklearn\\utils\\validation.py:1688: FutureWarning: Feature names only support names that are all strings. Got feature names with dtypes: ['int', 'str']. An error will be raised in 1.2.\n",
      "  warnings.warn(\n",
      "C:\\ProgramData\\Anaconda3\\lib\\site-packages\\sklearn\\utils\\validation.py:1688: FutureWarning: Feature names only support names that are all strings. Got feature names with dtypes: ['int', 'str']. An error will be raised in 1.2.\n",
      "  warnings.warn(\n",
      "[2022-12-24 15:50:49,241] ERROR in app: Exception on /predict [GET]\n",
      "Traceback (most recent call last):\n",
      "  File \"C:\\ProgramData\\Anaconda3\\lib\\site-packages\\flask\\app.py\", line 2447, in wsgi_app\n",
      "    response = self.full_dispatch_request()\n",
      "  File \"C:\\ProgramData\\Anaconda3\\lib\\site-packages\\flask\\app.py\", line 1952, in full_dispatch_request\n",
      "    rv = self.handle_user_exception(e)\n",
      "  File \"C:\\Users\\axels\\AppData\\Roaming\\Python\\Python39\\site-packages\\flask_cors\\extension.py\", line 165, in wrapped_function\n",
      "    return cors_after_request(app.make_response(f(*args, **kwargs)))\n",
      "  File \"C:\\ProgramData\\Anaconda3\\lib\\site-packages\\flask\\app.py\", line 1821, in handle_user_exception\n",
      "    reraise(exc_type, exc_value, tb)\n",
      "  File \"C:\\ProgramData\\Anaconda3\\lib\\site-packages\\flask\\_compat.py\", line 39, in reraise\n",
      "    raise value\n",
      "  File \"C:\\ProgramData\\Anaconda3\\lib\\site-packages\\flask\\app.py\", line 1950, in full_dispatch_request\n",
      "    rv = self.dispatch_request()\n",
      "  File \"C:\\ProgramData\\Anaconda3\\lib\\site-packages\\flask\\app.py\", line 1936, in dispatch_request\n",
      "    return self.view_functions[rule.endpoint](**req.view_args)\n",
      "  File \"C:\\Users\\axels\\AppData\\Local\\Temp\\ipykernel_8924\\1231353301.py\", line 23, in predict\n",
      "    result = model.predict(user_data)\n",
      "  File \"C:\\ProgramData\\Anaconda3\\lib\\site-packages\\sklearn\\ensemble\\_forest.py\", line 808, in predict\n",
      "    proba = self.predict_proba(X)\n",
      "  File \"C:\\ProgramData\\Anaconda3\\lib\\site-packages\\sklearn\\ensemble\\_forest.py\", line 850, in predict_proba\n",
      "    X = self._validate_X_predict(X)\n",
      "  File \"C:\\ProgramData\\Anaconda3\\lib\\site-packages\\sklearn\\ensemble\\_forest.py\", line 579, in _validate_X_predict\n",
      "    X = self._validate_data(X, dtype=DTYPE, accept_sparse=\"csr\", reset=False)\n",
      "  File \"C:\\ProgramData\\Anaconda3\\lib\\site-packages\\sklearn\\base.py\", line 566, in _validate_data\n",
      "    X = check_array(X, **check_params)\n",
      "  File \"C:\\ProgramData\\Anaconda3\\lib\\site-packages\\sklearn\\utils\\validation.py\", line 769, in check_array\n",
      "    raise ValueError(\n",
      "ValueError: Expected 2D array, got 1D array instead:\n",
      "array=[0.5540691 0.0076442 0.        0.        0.        0.        0.\n",
      " 0.        0.        0.        0.        0.        0.        1.\n",
      " 0.        0.        0.        0.        0.        0.        0.\n",
      " 0.        0.        0.        0.        0.        0.        1.\n",
      " 0.        0.        0.        0.        0.        0.        0.\n",
      " 0.        0.        0.        1.        0.        0.        0.\n",
      " 0.        0.       ].\n",
      "Reshape your data either using array.reshape(-1, 1) if your data has a single feature or array.reshape(1, -1) if it contains a single sample.\n",
      "127.0.0.1 - - [24/Dec/2022 15:50:49] \"GET /predict?uid=0&area=서울&level=1&length=50.0&time=60&water=0&toilet=0&mart=0&keywork=자연 HTTP/1.1\" 500 -\n"
     ]
    }
   ],
   "source": [
    "from flask import Flask, request\n",
    "from flask_cors import CORS\n",
    "\n",
    "app = Flask(__name__)\n",
    "CORS(app)\n",
    "\n",
    "# 일반적인 라우트 방식입니다.\n",
    "@app.route('/predict')\n",
    "def predict():\n",
    "    uid = request.args.get('uid')\n",
    "    area = request.args.get('area')\n",
    "    level = request.args.get('level')\n",
    "    length = request.args.get('length')\n",
    "    time = request.args.get('time')\n",
    "    water = request.args.get('water')\n",
    "    toilet = request.args.get('toilet')\n",
    "    mart = request.args.get('mart')\n",
    "    keyword = request.args.get('keyword')\n",
    "    \n",
    "    model = joblib.load('./model_v2.pkl')\n",
    "    user_data = preprocessing(uid, area, level, length, time, water, toilet, mart, keyword)\n",
    "    #user_data = preprocessing(2, \"경남\", 1, 4.0, 80, 0, 1, 1, \"자연\")\n",
    "    result = model.predict(user_data)\n",
    "    \n",
    "    return result[0]\n",
    "\n",
    "# URL 에 매개변수를 받아 진행하는 방식입니다.\n",
    "#@app.route('/board/<article_idx>')\n",
    "#def board_view(article_idx):\n",
    "#    return article_idx\n",
    "\n",
    "# 위에 있는것이 Endpoint 역활을 해줍니다.\n",
    "#@app.route('/boards',defaults={'page':'index'})\n",
    "#@app.route('/boards/<page>')\n",
    "#def boards(page):\n",
    "#    return page+\"페이지입니다.\"\n",
    "\n",
    "app.run(host=\"localhost\",port=5000)"
   ]
  },
  {
   "cell_type": "code",
   "execution_count": null,
   "id": "11b07b58",
   "metadata": {},
   "outputs": [],
   "source": []
  }
 ],
 "metadata": {
  "kernelspec": {
   "display_name": "Python 3 (ipykernel)",
   "language": "python",
   "name": "python3"
  },
  "language_info": {
   "codemirror_mode": {
    "name": "ipython",
    "version": 3
   },
   "file_extension": ".py",
   "mimetype": "text/x-python",
   "name": "python",
   "nbconvert_exporter": "python",
   "pygments_lexer": "ipython3",
   "version": "3.9.12"
  },
  "toc": {
   "base_numbering": 1,
   "nav_menu": {},
   "number_sections": true,
   "sideBar": true,
   "skip_h1_title": false,
   "title_cell": "Table of Contents",
   "title_sidebar": "Contents",
   "toc_cell": false,
   "toc_position": {},
   "toc_section_display": true,
   "toc_window_display": false
  }
 },
 "nbformat": 4,
 "nbformat_minor": 5
}
