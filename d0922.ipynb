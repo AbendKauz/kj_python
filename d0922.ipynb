{
 "cells": [
  {
   "cell_type": "code",
   "execution_count": 1,
   "id": "5d187064",
   "metadata": {},
   "outputs": [],
   "source": [
    "import numpy as np"
   ]
  },
  {
   "cell_type": "markdown",
   "id": "47b0a31e",
   "metadata": {},
   "source": [
    "# array이용 ndarray 생성"
   ]
  },
  {
   "cell_type": "code",
   "execution_count": 2,
   "id": "a98306a4",
   "metadata": {},
   "outputs": [],
   "source": [
    "arr = np.array([1, 2, 3, 4])   # 1차원 배열"
   ]
  },
  {
   "cell_type": "code",
   "execution_count": 3,
   "id": "5e0e1711",
   "metadata": {},
   "outputs": [],
   "source": [
    "arr2 = np.array([ [1, 2],[3, 4], [5, 6] ])   # 2차원 배열(3행 2열)"
   ]
  },
  {
   "cell_type": "code",
   "execution_count": 4,
   "id": "0e45b547",
   "metadata": {},
   "outputs": [],
   "source": [
    "arr3 = np.array([[ [1, 2], [3, 4], [5, 6] ]])  # 3차원 배열(1면 3행 2열)"
   ]
  },
  {
   "cell_type": "code",
   "execution_count": 5,
   "id": "8efe60ea",
   "metadata": {},
   "outputs": [],
   "source": [
    "ex1 = np.array([10])   # 대괄호가 1개 : 1차원 배열"
   ]
  },
  {
   "cell_type": "code",
   "execution_count": 6,
   "id": "75da9ec0",
   "metadata": {},
   "outputs": [],
   "source": [
    "ex2 = np.array([[10]])   # 대괄호가 2개 : 2차원 배열"
   ]
  },
  {
   "cell_type": "code",
   "execution_count": 7,
   "id": "8c79b925",
   "metadata": {},
   "outputs": [
    {
     "data": {
      "text/plain": [
       "(1,)"
      ]
     },
     "execution_count": 7,
     "metadata": {},
     "output_type": "execute_result"
    }
   ],
   "source": [
    "ex1.shape   # shape : 차원 확인(튜플형태)"
   ]
  },
  {
   "cell_type": "code",
   "execution_count": 8,
   "id": "8c942593",
   "metadata": {},
   "outputs": [
    {
     "data": {
      "text/plain": [
       "(1, 1)"
      ]
     },
     "execution_count": 8,
     "metadata": {},
     "output_type": "execute_result"
    }
   ],
   "source": [
    "ex2.shape"
   ]
  },
  {
   "cell_type": "code",
   "execution_count": 9,
   "id": "f3e7881b",
   "metadata": {},
   "outputs": [],
   "source": [
    "arr = np.arange(1, 11)   # arange(시작값, 마지막값) : 시작값부터 마지막 - 1까지"
   ]
  },
  {
   "cell_type": "code",
   "execution_count": 10,
   "id": "c9bbd3c2",
   "metadata": {},
   "outputs": [
    {
     "data": {
      "text/plain": [
       "array([ 1,  2,  3,  4,  5,  6,  7,  8,  9, 10])"
      ]
     },
     "execution_count": 10,
     "metadata": {},
     "output_type": "execute_result"
    }
   ],
   "source": [
    "arr"
   ]
  },
  {
   "cell_type": "code",
   "execution_count": 11,
   "id": "4422bfee",
   "metadata": {},
   "outputs": [],
   "source": [
    "arr = np.empty((2, 3))   # 비어있는 행열 생성"
   ]
  },
  {
   "cell_type": "code",
   "execution_count": 12,
   "id": "e4aff22b",
   "metadata": {},
   "outputs": [
    {
     "data": {
      "text/plain": [
       "array([[6.23042070e-307, 4.67296746e-307, 1.69121096e-306],\n",
       "       [1.05695252e-307, 1.42419938e-306, 7.56603881e-307]])"
      ]
     },
     "execution_count": 12,
     "metadata": {},
     "output_type": "execute_result"
    }
   ],
   "source": [
    "arr"
   ]
  },
  {
   "cell_type": "code",
   "execution_count": 13,
   "id": "beb8df52",
   "metadata": {},
   "outputs": [],
   "source": [
    "arr = np.ones((2, 3))   # ones : 1(실수)로 초기화한 후 배열 생성"
   ]
  },
  {
   "cell_type": "code",
   "execution_count": 14,
   "id": "764680f2",
   "metadata": {
    "scrolled": true
   },
   "outputs": [
    {
     "data": {
      "text/plain": [
       "array([[1., 1., 1.],\n",
       "       [1., 1., 1.]])"
      ]
     },
     "execution_count": 14,
     "metadata": {},
     "output_type": "execute_result"
    }
   ],
   "source": [
    "arr"
   ]
  },
  {
   "cell_type": "code",
   "execution_count": 15,
   "id": "8ce72e0e",
   "metadata": {},
   "outputs": [
    {
     "data": {
      "text/plain": [
       "numpy.ndarray"
      ]
     },
     "execution_count": 15,
     "metadata": {},
     "output_type": "execute_result"
    }
   ],
   "source": [
    "type(arr)"
   ]
  },
  {
   "cell_type": "code",
   "execution_count": 16,
   "id": "1ee61a2a",
   "metadata": {},
   "outputs": [
    {
     "data": {
      "text/plain": [
       "dtype('float64')"
      ]
     },
     "execution_count": 16,
     "metadata": {},
     "output_type": "execute_result"
    }
   ],
   "source": [
    "arr.dtype   # dtype : dataType확인"
   ]
  },
  {
   "cell_type": "code",
   "execution_count": 17,
   "id": "39dec44b",
   "metadata": {},
   "outputs": [],
   "source": [
    "arr = np.empty((2, 3))   # 초기화 할 경우 empty로 생성 시 초기화 된 값으로 초기화됨"
   ]
  },
  {
   "cell_type": "code",
   "execution_count": 18,
   "id": "4af8da0c",
   "metadata": {},
   "outputs": [
    {
     "data": {
      "text/plain": [
       "array([[1., 1., 1.],\n",
       "       [1., 1., 1.]])"
      ]
     },
     "execution_count": 18,
     "metadata": {},
     "output_type": "execute_result"
    }
   ],
   "source": [
    "arr"
   ]
  },
  {
   "cell_type": "code",
   "execution_count": 19,
   "id": "4bd95908",
   "metadata": {},
   "outputs": [],
   "source": [
    "arr = np.zeros((2, 3))   # zeros : 0(실수)로 초기화한 후 배열 생성"
   ]
  },
  {
   "cell_type": "code",
   "execution_count": 20,
   "id": "e5acb5cf",
   "metadata": {},
   "outputs": [
    {
     "data": {
      "text/plain": [
       "array([[0., 0., 0.],\n",
       "       [0., 0., 0.]])"
      ]
     },
     "execution_count": 20,
     "metadata": {},
     "output_type": "execute_result"
    }
   ],
   "source": [
    "arr"
   ]
  },
  {
   "cell_type": "code",
   "execution_count": 21,
   "id": "e03b7319",
   "metadata": {},
   "outputs": [],
   "source": [
    "arr = np.full((2, 3), 5)   # full((행,열), 값) : 값으로 다 채운 배열 생성"
   ]
  },
  {
   "cell_type": "code",
   "execution_count": 22,
   "id": "087967eb",
   "metadata": {},
   "outputs": [
    {
     "data": {
      "text/plain": [
       "array([[5, 5, 5],\n",
       "       [5, 5, 5]])"
      ]
     },
     "execution_count": 22,
     "metadata": {},
     "output_type": "execute_result"
    }
   ],
   "source": [
    "arr"
   ]
  },
  {
   "cell_type": "code",
   "execution_count": 23,
   "id": "f7034bc7",
   "metadata": {},
   "outputs": [
    {
     "data": {
      "text/plain": [
       "dtype('int32')"
      ]
     },
     "execution_count": 23,
     "metadata": {},
     "output_type": "execute_result"
    }
   ],
   "source": [
    "arr.dtype"
   ]
  },
  {
   "cell_type": "code",
   "execution_count": 24,
   "id": "6df3a5d5",
   "metadata": {},
   "outputs": [],
   "source": [
    "arr = np.eye(5)   # eye : 배열의 행의 개수와 열의 개수가 같은 배열 생성(단위행렬)"
   ]
  },
  {
   "cell_type": "code",
   "execution_count": 25,
   "id": "39d0e454",
   "metadata": {},
   "outputs": [],
   "source": [
    "# 행과 열이 같은 위치는 1, 나머지는 0으로 채워짐"
   ]
  },
  {
   "cell_type": "code",
   "execution_count": 26,
   "id": "8f4db0a1",
   "metadata": {},
   "outputs": [
    {
     "data": {
      "text/plain": [
       "array([[1., 0., 0., 0., 0.],\n",
       "       [0., 1., 0., 0., 0.],\n",
       "       [0., 0., 1., 0., 0.],\n",
       "       [0., 0., 0., 1., 0.],\n",
       "       [0., 0., 0., 0., 1.]])"
      ]
     },
     "execution_count": 26,
     "metadata": {},
     "output_type": "execute_result"
    }
   ],
   "source": [
    "arr"
   ]
  },
  {
   "cell_type": "code",
   "execution_count": 27,
   "id": "cf631c8b",
   "metadata": {},
   "outputs": [
    {
     "data": {
      "text/plain": [
       "dtype('float64')"
      ]
     },
     "execution_count": 27,
     "metadata": {},
     "output_type": "execute_result"
    }
   ],
   "source": [
    "arr.dtype"
   ]
  },
  {
   "cell_type": "code",
   "execution_count": 28,
   "id": "f26681dd",
   "metadata": {},
   "outputs": [
    {
     "data": {
      "text/plain": [
       "array([[1, 0, 0, 0, 0],\n",
       "       [0, 1, 0, 0, 0],\n",
       "       [0, 0, 1, 0, 0],\n",
       "       [0, 0, 0, 1, 0],\n",
       "       [0, 0, 0, 0, 1]])"
      ]
     },
     "execution_count": 28,
     "metadata": {},
     "output_type": "execute_result"
    }
   ],
   "source": [
    "arr.astype(np.int32)   #astype : 타입을 변경"
   ]
  },
  {
   "cell_type": "code",
   "execution_count": 29,
   "id": "dc10058d",
   "metadata": {},
   "outputs": [],
   "source": [
    "# astype으로 타입 변경 시 변수에 저장하지 않으면 다시 돌아감"
   ]
  },
  {
   "cell_type": "code",
   "execution_count": 30,
   "id": "b3302c14",
   "metadata": {},
   "outputs": [],
   "source": [
    "arr = arr.astype(np.int32)"
   ]
  },
  {
   "cell_type": "code",
   "execution_count": 31,
   "id": "1e82374f",
   "metadata": {},
   "outputs": [
    {
     "data": {
      "text/plain": [
       "array([[1, 0, 0, 0, 0],\n",
       "       [0, 1, 0, 0, 0],\n",
       "       [0, 0, 1, 0, 0],\n",
       "       [0, 0, 0, 1, 0],\n",
       "       [0, 0, 0, 0, 1]])"
      ]
     },
     "execution_count": 31,
     "metadata": {},
     "output_type": "execute_result"
    }
   ],
   "source": [
    "arr"
   ]
  },
  {
   "cell_type": "code",
   "execution_count": 32,
   "id": "a1929932",
   "metadata": {},
   "outputs": [
    {
     "data": {
      "text/plain": [
       "dtype('int32')"
      ]
     },
     "execution_count": 32,
     "metadata": {},
     "output_type": "execute_result"
    }
   ],
   "source": [
    "arr.dtype"
   ]
  },
  {
   "cell_type": "code",
   "execution_count": 33,
   "id": "cfa7f925",
   "metadata": {},
   "outputs": [],
   "source": [
    "arr = arr.astype(np.int16)"
   ]
  },
  {
   "cell_type": "code",
   "execution_count": 34,
   "id": "7f208bb6",
   "metadata": {},
   "outputs": [
    {
     "data": {
      "text/plain": [
       "dtype('int16')"
      ]
     },
     "execution_count": 34,
     "metadata": {},
     "output_type": "execute_result"
    }
   ],
   "source": [
    "arr.dtype"
   ]
  },
  {
   "cell_type": "code",
   "execution_count": 35,
   "id": "e653accc",
   "metadata": {},
   "outputs": [
    {
     "data": {
      "text/plain": [
       "25"
      ]
     },
     "execution_count": 35,
     "metadata": {},
     "output_type": "execute_result"
    }
   ],
   "source": [
    "arr.size   # size : 배열의 요소의 개수"
   ]
  },
  {
   "cell_type": "code",
   "execution_count": 36,
   "id": "9c1ce8e0",
   "metadata": {},
   "outputs": [
    {
     "data": {
      "text/plain": [
       "2"
      ]
     },
     "execution_count": 36,
     "metadata": {},
     "output_type": "execute_result"
    }
   ],
   "source": [
    "arr.itemsize   # itemsize : 배열요소의 데이터사이즈"
   ]
  },
  {
   "cell_type": "code",
   "execution_count": 37,
   "id": "3a80f70b",
   "metadata": {},
   "outputs": [],
   "source": [
    "# int 16 = 16bit = 2byte"
   ]
  },
  {
   "cell_type": "code",
   "execution_count": 38,
   "id": "98d39565",
   "metadata": {},
   "outputs": [],
   "source": [
    "arr = arr.astype(np.int64)"
   ]
  },
  {
   "cell_type": "code",
   "execution_count": 39,
   "id": "50b3ecce",
   "metadata": {},
   "outputs": [
    {
     "data": {
      "text/plain": [
       "dtype('int64')"
      ]
     },
     "execution_count": 39,
     "metadata": {},
     "output_type": "execute_result"
    }
   ],
   "source": [
    "arr.dtype"
   ]
  },
  {
   "cell_type": "code",
   "execution_count": 40,
   "id": "79ccddd4",
   "metadata": {},
   "outputs": [
    {
     "data": {
      "text/plain": [
       "8"
      ]
     },
     "execution_count": 40,
     "metadata": {},
     "output_type": "execute_result"
    }
   ],
   "source": [
    "arr.itemsize   # int 64 = 64bit = 8byte"
   ]
  },
  {
   "cell_type": "code",
   "execution_count": 41,
   "id": "af0b440e",
   "metadata": {},
   "outputs": [
    {
     "data": {
      "text/plain": [
       "25"
      ]
     },
     "execution_count": 41,
     "metadata": {},
     "output_type": "execute_result"
    }
   ],
   "source": [
    "np.size(arr)"
   ]
  },
  {
   "cell_type": "markdown",
   "id": "48fe1f56",
   "metadata": {},
   "source": [
    "속성 사용 => 배열명.속성명  \n",
    "ex) arr.size  \n",
    "함수 사용 => 모듈명.함수명(배열명)  \n",
    "np.size(arr)  "
   ]
  },
  {
   "cell_type": "code",
   "execution_count": 42,
   "id": "d5bf5eb7",
   "metadata": {},
   "outputs": [],
   "source": [
    "arr = np.array([1, 2, 3])"
   ]
  },
  {
   "cell_type": "code",
   "execution_count": 43,
   "id": "4f2acb6b",
   "metadata": {},
   "outputs": [
    {
     "data": {
      "text/plain": [
       "dtype('int32')"
      ]
     },
     "execution_count": 43,
     "metadata": {},
     "output_type": "execute_result"
    }
   ],
   "source": [
    "arr.dtype"
   ]
  },
  {
   "cell_type": "code",
   "execution_count": 44,
   "id": "cf8a3a84",
   "metadata": {},
   "outputs": [],
   "source": [
    "arr = np.array([1, 2, 3], dtype = np.float64)   # dataType을 float64로 변경 후 생성"
   ]
  },
  {
   "cell_type": "code",
   "execution_count": 45,
   "id": "766f3dda",
   "metadata": {},
   "outputs": [
    {
     "data": {
      "text/plain": [
       "dtype('float64')"
      ]
     },
     "execution_count": 45,
     "metadata": {},
     "output_type": "execute_result"
    }
   ],
   "source": [
    "arr.dtype"
   ]
  },
  {
   "cell_type": "code",
   "execution_count": 46,
   "id": "62a6cb41",
   "metadata": {},
   "outputs": [
    {
     "data": {
      "text/plain": [
       "8"
      ]
     },
     "execution_count": 46,
     "metadata": {},
     "output_type": "execute_result"
    }
   ],
   "source": [
    "arr.itemsize"
   ]
  },
  {
   "cell_type": "code",
   "execution_count": 47,
   "id": "764474e3",
   "metadata": {},
   "outputs": [
    {
     "data": {
      "text/plain": [
       "8"
      ]
     },
     "execution_count": 47,
     "metadata": {},
     "output_type": "execute_result"
    }
   ],
   "source": [
    "arr[0].itemsize"
   ]
  },
  {
   "cell_type": "code",
   "execution_count": 48,
   "id": "3d5346d3",
   "metadata": {},
   "outputs": [
    {
     "data": {
      "text/plain": [
       "array([1., 2., 3.])"
      ]
     },
     "execution_count": 48,
     "metadata": {},
     "output_type": "execute_result"
    }
   ],
   "source": [
    "arr"
   ]
  },
  {
   "cell_type": "code",
   "execution_count": 49,
   "id": "1afc4f2b",
   "metadata": {},
   "outputs": [
    {
     "data": {
      "text/plain": [
       "1.0"
      ]
     },
     "execution_count": 49,
     "metadata": {},
     "output_type": "execute_result"
    }
   ],
   "source": [
    "arr[0]   # 인덱싱"
   ]
  },
  {
   "cell_type": "code",
   "execution_count": 50,
   "id": "284f0f8c",
   "metadata": {},
   "outputs": [],
   "source": [
    "arr = np.array([[1, 2, 3], [3, 4, 5]])"
   ]
  },
  {
   "cell_type": "code",
   "execution_count": 51,
   "id": "e471140f",
   "metadata": {},
   "outputs": [
    {
     "data": {
      "text/plain": [
       "2"
      ]
     },
     "execution_count": 51,
     "metadata": {},
     "output_type": "execute_result"
    }
   ],
   "source": [
    "arr[0, 1]   # 인덱싱"
   ]
  },
  {
   "cell_type": "markdown",
   "id": "577bbf97",
   "metadata": {},
   "source": [
    "배열의 차원(축) 확인하고 변경하기"
   ]
  },
  {
   "cell_type": "code",
   "execution_count": 52,
   "id": "007383dc",
   "metadata": {},
   "outputs": [
    {
     "data": {
      "text/plain": [
       "(2, 3)"
      ]
     },
     "execution_count": 52,
     "metadata": {},
     "output_type": "execute_result"
    }
   ],
   "source": [
    "arr.shape"
   ]
  },
  {
   "cell_type": "code",
   "execution_count": 53,
   "id": "455c28a6",
   "metadata": {},
   "outputs": [
    {
     "data": {
      "text/plain": [
       "2"
      ]
     },
     "execution_count": 53,
     "metadata": {},
     "output_type": "execute_result"
    }
   ],
   "source": [
    "arr.ndim   # ndim : 배열의 차원 확인"
   ]
  },
  {
   "cell_type": "code",
   "execution_count": 54,
   "id": "b808eaef",
   "metadata": {},
   "outputs": [
    {
     "data": {
      "text/plain": [
       "2"
      ]
     },
     "execution_count": 54,
     "metadata": {},
     "output_type": "execute_result"
    }
   ],
   "source": [
    "np.ndim(arr)"
   ]
  },
  {
   "cell_type": "code",
   "execution_count": 55,
   "id": "027cefc1",
   "metadata": {},
   "outputs": [],
   "source": [
    "a = np.array([1, 2, 3])"
   ]
  },
  {
   "cell_type": "code",
   "execution_count": 56,
   "id": "d5488b63",
   "metadata": {},
   "outputs": [
    {
     "data": {
      "text/plain": [
       "1"
      ]
     },
     "execution_count": 56,
     "metadata": {},
     "output_type": "execute_result"
    }
   ],
   "source": [
    "a.ndim"
   ]
  },
  {
   "cell_type": "code",
   "execution_count": 57,
   "id": "43e2ed39",
   "metadata": {},
   "outputs": [],
   "source": [
    "a = np.array([[1, 2, 3]])"
   ]
  },
  {
   "cell_type": "code",
   "execution_count": 58,
   "id": "ce03e0fd",
   "metadata": {},
   "outputs": [
    {
     "data": {
      "text/plain": [
       "2"
      ]
     },
     "execution_count": 58,
     "metadata": {},
     "output_type": "execute_result"
    }
   ],
   "source": [
    "a.ndim"
   ]
  },
  {
   "cell_type": "code",
   "execution_count": 59,
   "id": "916760fb",
   "metadata": {},
   "outputs": [],
   "source": [
    "a = np.array([[[1, 2, 3]]])"
   ]
  },
  {
   "cell_type": "code",
   "execution_count": 60,
   "id": "e48c9337",
   "metadata": {},
   "outputs": [
    {
     "data": {
      "text/plain": [
       "3"
      ]
     },
     "execution_count": 60,
     "metadata": {},
     "output_type": "execute_result"
    }
   ],
   "source": [
    "a.ndim"
   ]
  },
  {
   "cell_type": "code",
   "execution_count": 61,
   "id": "b54b6f15",
   "metadata": {},
   "outputs": [
    {
     "data": {
      "text/plain": [
       "(1, 1, 3)"
      ]
     },
     "execution_count": 61,
     "metadata": {},
     "output_type": "execute_result"
    }
   ],
   "source": [
    "a.shape"
   ]
  },
  {
   "cell_type": "markdown",
   "id": "0112c2f9",
   "metadata": {},
   "source": [
    "1차원배열을 다차원배열로 변경"
   ]
  },
  {
   "cell_type": "markdown",
   "id": "633f61cf",
   "metadata": {},
   "source": [
    "1) shape 속성을 이용해서 변경"
   ]
  },
  {
   "cell_type": "code",
   "execution_count": 62,
   "id": "aaaaba4b",
   "metadata": {},
   "outputs": [],
   "source": [
    "arr = np.array([1, 2, 3, 4, 5, 6])"
   ]
  },
  {
   "cell_type": "code",
   "execution_count": 63,
   "id": "d9413dc5",
   "metadata": {},
   "outputs": [
    {
     "data": {
      "text/plain": [
       "array([1, 2, 3, 4, 5, 6])"
      ]
     },
     "execution_count": 63,
     "metadata": {},
     "output_type": "execute_result"
    }
   ],
   "source": [
    "arr"
   ]
  },
  {
   "cell_type": "markdown",
   "id": "4f3ce076",
   "metadata": {},
   "source": [
    "배열명.shape = 행, 열"
   ]
  },
  {
   "cell_type": "code",
   "execution_count": 64,
   "id": "d71e1c5d",
   "metadata": {},
   "outputs": [],
   "source": [
    "arr.shape = 2,3   # 1차원 배열의 요소의 개수가 딱 맞아야함"
   ]
  },
  {
   "cell_type": "code",
   "execution_count": 65,
   "id": "1d24dbb9",
   "metadata": {},
   "outputs": [
    {
     "data": {
      "text/plain": [
       "array([[1, 2, 3],\n",
       "       [4, 5, 6]])"
      ]
     },
     "execution_count": 65,
     "metadata": {},
     "output_type": "execute_result"
    }
   ],
   "source": [
    "arr"
   ]
  },
  {
   "cell_type": "code",
   "execution_count": 66,
   "id": "057e5fd6",
   "metadata": {},
   "outputs": [],
   "source": [
    "arr.shape = 3,2"
   ]
  },
  {
   "cell_type": "code",
   "execution_count": 67,
   "id": "cf2e2036",
   "metadata": {},
   "outputs": [
    {
     "data": {
      "text/plain": [
       "array([[1, 2],\n",
       "       [3, 4],\n",
       "       [5, 6]])"
      ]
     },
     "execution_count": 67,
     "metadata": {},
     "output_type": "execute_result"
    }
   ],
   "source": [
    "arr"
   ]
  },
  {
   "cell_type": "markdown",
   "id": "87d5a55e",
   "metadata": {},
   "source": [
    "2) resize함수를 이용"
   ]
  },
  {
   "cell_type": "code",
   "execution_count": 68,
   "id": "20ebc582",
   "metadata": {},
   "outputs": [],
   "source": [
    "arr = np.array([1, 2, 3, 4, 5, 6, 7, 8])"
   ]
  },
  {
   "cell_type": "code",
   "execution_count": 69,
   "id": "03ea9457",
   "metadata": {},
   "outputs": [
    {
     "data": {
      "text/plain": [
       "array([1, 2, 3, 4, 5, 6, 7, 8])"
      ]
     },
     "execution_count": 69,
     "metadata": {},
     "output_type": "execute_result"
    }
   ],
   "source": [
    "arr"
   ]
  },
  {
   "cell_type": "code",
   "execution_count": 70,
   "id": "5f281be0",
   "metadata": {},
   "outputs": [],
   "source": [
    "arr.resize(2, 4)   # 배열명.resize(행, 열)"
   ]
  },
  {
   "cell_type": "code",
   "execution_count": 71,
   "id": "065bef30",
   "metadata": {},
   "outputs": [
    {
     "data": {
      "text/plain": [
       "array([[1, 2, 3, 4],\n",
       "       [5, 6, 7, 8]])"
      ]
     },
     "execution_count": 71,
     "metadata": {},
     "output_type": "execute_result"
    }
   ],
   "source": [
    "arr"
   ]
  },
  {
   "cell_type": "code",
   "execution_count": 72,
   "id": "3a8e4572",
   "metadata": {},
   "outputs": [
    {
     "data": {
      "text/plain": [
       "(2, 4)"
      ]
     },
     "execution_count": 72,
     "metadata": {},
     "output_type": "execute_result"
    }
   ],
   "source": [
    "arr.shape"
   ]
  },
  {
   "cell_type": "markdown",
   "id": "5d1c6d62",
   "metadata": {},
   "source": [
    "다차원배열을 1차원배열로 변경"
   ]
  },
  {
   "cell_type": "code",
   "execution_count": 73,
   "id": "0ca7dac2",
   "metadata": {},
   "outputs": [],
   "source": [
    "arr = np.array([[1, 2, 3], [3, 4, 5]])"
   ]
  },
  {
   "cell_type": "code",
   "execution_count": 74,
   "id": "df72ff2c",
   "metadata": {},
   "outputs": [
    {
     "data": {
      "text/plain": [
       "(2, 3)"
      ]
     },
     "execution_count": 74,
     "metadata": {},
     "output_type": "execute_result"
    }
   ],
   "source": [
    "arr.shape"
   ]
  },
  {
   "cell_type": "code",
   "execution_count": 75,
   "id": "9233b8b4",
   "metadata": {},
   "outputs": [
    {
     "data": {
      "text/plain": [
       "2"
      ]
     },
     "execution_count": 75,
     "metadata": {},
     "output_type": "execute_result"
    }
   ],
   "source": [
    "arr.ndim"
   ]
  },
  {
   "cell_type": "code",
   "execution_count": 76,
   "id": "1ada9b02",
   "metadata": {},
   "outputs": [],
   "source": [
    "arr.shape = 6   # 1차원배열로 변경"
   ]
  },
  {
   "cell_type": "code",
   "execution_count": 77,
   "id": "dafcd6ea",
   "metadata": {},
   "outputs": [
    {
     "data": {
      "text/plain": [
       "array([1, 2, 3, 3, 4, 5])"
      ]
     },
     "execution_count": 77,
     "metadata": {},
     "output_type": "execute_result"
    }
   ],
   "source": [
    "arr"
   ]
  },
  {
   "cell_type": "code",
   "execution_count": 78,
   "id": "ccd72614",
   "metadata": {},
   "outputs": [],
   "source": [
    "arr.shape = arr.size   # 배열의 개수만큼 열을 지정(배열의 값이 많을 때)"
   ]
  },
  {
   "cell_type": "code",
   "execution_count": 79,
   "id": "add7cdd6",
   "metadata": {},
   "outputs": [
    {
     "data": {
      "text/plain": [
       "array([1, 2, 3, 3, 4, 5])"
      ]
     },
     "execution_count": 79,
     "metadata": {},
     "output_type": "execute_result"
    }
   ],
   "source": [
    "arr"
   ]
  },
  {
   "cell_type": "code",
   "execution_count": 80,
   "id": "c1f85c1d",
   "metadata": {},
   "outputs": [],
   "source": [
    "arr = np.array([[1, 2, 3],[3, 4, 5]])"
   ]
  },
  {
   "cell_type": "code",
   "execution_count": 81,
   "id": "7a44478a",
   "metadata": {},
   "outputs": [],
   "source": [
    "arr.resize(arr.size)"
   ]
  },
  {
   "cell_type": "code",
   "execution_count": 82,
   "id": "50b9a116",
   "metadata": {},
   "outputs": [
    {
     "data": {
      "text/plain": [
       "array([1, 2, 3, 3, 4, 5])"
      ]
     },
     "execution_count": 82,
     "metadata": {},
     "output_type": "execute_result"
    }
   ],
   "source": [
    "arr"
   ]
  },
  {
   "cell_type": "markdown",
   "id": "e7afe0ca",
   "metadata": {},
   "source": [
    "배열 공유(view함수, reshape함수)"
   ]
  },
  {
   "cell_type": "code",
   "execution_count": 83,
   "id": "e99e01e7",
   "metadata": {},
   "outputs": [],
   "source": [
    "a1 = np.array([1, 2, 3])"
   ]
  },
  {
   "cell_type": "code",
   "execution_count": 84,
   "id": "a1445363",
   "metadata": {},
   "outputs": [],
   "source": [
    "a2 = np.array([1, 2, 3])"
   ]
  },
  {
   "cell_type": "code",
   "execution_count": 85,
   "id": "3279f72a",
   "metadata": {},
   "outputs": [
    {
     "data": {
      "text/plain": [
       "array([1, 2, 3])"
      ]
     },
     "execution_count": 85,
     "metadata": {},
     "output_type": "execute_result"
    }
   ],
   "source": [
    "a1"
   ]
  },
  {
   "cell_type": "code",
   "execution_count": 86,
   "id": "f64490f4",
   "metadata": {},
   "outputs": [
    {
     "data": {
      "text/plain": [
       "array([1, 2, 3])"
      ]
     },
     "execution_count": 86,
     "metadata": {},
     "output_type": "execute_result"
    }
   ],
   "source": [
    "a2"
   ]
  },
  {
   "cell_type": "code",
   "execution_count": 87,
   "id": "4664d1a8",
   "metadata": {},
   "outputs": [],
   "source": [
    "a1[0] = 5"
   ]
  },
  {
   "cell_type": "code",
   "execution_count": 88,
   "id": "5df24809",
   "metadata": {},
   "outputs": [
    {
     "data": {
      "text/plain": [
       "array([5, 2, 3])"
      ]
     },
     "execution_count": 88,
     "metadata": {},
     "output_type": "execute_result"
    }
   ],
   "source": [
    "a1"
   ]
  },
  {
   "cell_type": "code",
   "execution_count": 89,
   "id": "fca120f4",
   "metadata": {},
   "outputs": [
    {
     "data": {
      "text/plain": [
       "array([1, 2, 3])"
      ]
     },
     "execution_count": 89,
     "metadata": {},
     "output_type": "execute_result"
    }
   ],
   "source": [
    "a2"
   ]
  },
  {
   "cell_type": "code",
   "execution_count": 90,
   "id": "41f8500b",
   "metadata": {},
   "outputs": [],
   "source": [
    "b1 = np.array([1, 2, 3, 4])"
   ]
  },
  {
   "cell_type": "code",
   "execution_count": 91,
   "id": "d997d662",
   "metadata": {},
   "outputs": [],
   "source": [
    "b2 = b1   # 같은 메모리를 참조(배열의 공유)"
   ]
  },
  {
   "cell_type": "code",
   "execution_count": 92,
   "id": "cdd2c178",
   "metadata": {},
   "outputs": [
    {
     "data": {
      "text/plain": [
       "array([1, 2, 3, 4])"
      ]
     },
     "execution_count": 92,
     "metadata": {},
     "output_type": "execute_result"
    }
   ],
   "source": [
    "b1"
   ]
  },
  {
   "cell_type": "code",
   "execution_count": 93,
   "id": "0c4c1461",
   "metadata": {},
   "outputs": [
    {
     "data": {
      "text/plain": [
       "array([1, 2, 3, 4])"
      ]
     },
     "execution_count": 93,
     "metadata": {},
     "output_type": "execute_result"
    }
   ],
   "source": [
    "b2"
   ]
  },
  {
   "cell_type": "code",
   "execution_count": 94,
   "id": "8a75574f",
   "metadata": {},
   "outputs": [],
   "source": [
    "b2[0] = 7"
   ]
  },
  {
   "cell_type": "code",
   "execution_count": 95,
   "id": "628dfffb",
   "metadata": {},
   "outputs": [
    {
     "data": {
      "text/plain": [
       "array([7, 2, 3, 4])"
      ]
     },
     "execution_count": 95,
     "metadata": {},
     "output_type": "execute_result"
    }
   ],
   "source": [
    "b2"
   ]
  },
  {
   "cell_type": "code",
   "execution_count": 96,
   "id": "b436614b",
   "metadata": {},
   "outputs": [
    {
     "data": {
      "text/plain": [
       "array([7, 2, 3, 4])"
      ]
     },
     "execution_count": 96,
     "metadata": {},
     "output_type": "execute_result"
    }
   ],
   "source": [
    "b1"
   ]
  },
  {
   "cell_type": "code",
   "execution_count": 97,
   "id": "86445a75",
   "metadata": {},
   "outputs": [
    {
     "data": {
      "text/plain": [
       "True"
      ]
     },
     "execution_count": 97,
     "metadata": {},
     "output_type": "execute_result"
    }
   ],
   "source": [
    "b1 is b2   # b1과 b2가 같은지 확인하는 연산"
   ]
  },
  {
   "cell_type": "code",
   "execution_count": 98,
   "id": "10b02ce8",
   "metadata": {},
   "outputs": [],
   "source": [
    "c1 = np.array([1, 2, 3])"
   ]
  },
  {
   "cell_type": "code",
   "execution_count": 99,
   "id": "7bb9b2a4",
   "metadata": {},
   "outputs": [],
   "source": [
    "c2 = c1.view()   # 하나의 배열을 공유해서 참조"
   ]
  },
  {
   "cell_type": "code",
   "execution_count": 100,
   "id": "e2012d11",
   "metadata": {},
   "outputs": [
    {
     "data": {
      "text/plain": [
       "array([1, 2, 3])"
      ]
     },
     "execution_count": 100,
     "metadata": {},
     "output_type": "execute_result"
    }
   ],
   "source": [
    "c1"
   ]
  },
  {
   "cell_type": "code",
   "execution_count": 101,
   "id": "f29a687e",
   "metadata": {},
   "outputs": [
    {
     "data": {
      "text/plain": [
       "array([1, 2, 3])"
      ]
     },
     "execution_count": 101,
     "metadata": {},
     "output_type": "execute_result"
    }
   ],
   "source": [
    "c2"
   ]
  },
  {
   "cell_type": "code",
   "execution_count": 102,
   "id": "e98d66f8",
   "metadata": {},
   "outputs": [],
   "source": [
    "c1[0] = 5"
   ]
  },
  {
   "cell_type": "code",
   "execution_count": 103,
   "id": "05bdff32",
   "metadata": {},
   "outputs": [
    {
     "data": {
      "text/plain": [
       "array([5, 2, 3])"
      ]
     },
     "execution_count": 103,
     "metadata": {},
     "output_type": "execute_result"
    }
   ],
   "source": [
    "c1"
   ]
  },
  {
   "cell_type": "code",
   "execution_count": 104,
   "id": "7c3e2fd6",
   "metadata": {},
   "outputs": [
    {
     "data": {
      "text/plain": [
       "array([5, 2, 3])"
      ]
     },
     "execution_count": 104,
     "metadata": {},
     "output_type": "execute_result"
    }
   ],
   "source": [
    "c2"
   ]
  },
  {
   "cell_type": "code",
   "execution_count": 105,
   "id": "d4e18c9a",
   "metadata": {},
   "outputs": [
    {
     "data": {
      "text/plain": [
       "False"
      ]
     },
     "execution_count": 105,
     "metadata": {},
     "output_type": "execute_result"
    }
   ],
   "source": [
    "c1 is c2   # 같은것은 아님을 의미"
   ]
  },
  {
   "cell_type": "code",
   "execution_count": 106,
   "id": "5f40630e",
   "metadata": {},
   "outputs": [],
   "source": [
    "d = np.array([1, 2, 3, 4, 5, 6])"
   ]
  },
  {
   "cell_type": "code",
   "execution_count": 107,
   "id": "2ffe5b0b",
   "metadata": {},
   "outputs": [],
   "source": [
    "e = d.reshape(6)   # reshape : shape를 다시 정의(차원변경 가능)"
   ]
  },
  {
   "cell_type": "code",
   "execution_count": 108,
   "id": "e2f670e6",
   "metadata": {},
   "outputs": [
    {
     "data": {
      "text/plain": [
       "array([1, 2, 3, 4, 5, 6])"
      ]
     },
     "execution_count": 108,
     "metadata": {},
     "output_type": "execute_result"
    }
   ],
   "source": [
    "d"
   ]
  },
  {
   "cell_type": "code",
   "execution_count": 109,
   "id": "38d74d25",
   "metadata": {},
   "outputs": [
    {
     "data": {
      "text/plain": [
       "array([1, 2, 3, 4, 5, 6])"
      ]
     },
     "execution_count": 109,
     "metadata": {},
     "output_type": "execute_result"
    }
   ],
   "source": [
    "e"
   ]
  },
  {
   "cell_type": "code",
   "execution_count": 110,
   "id": "54811093",
   "metadata": {},
   "outputs": [
    {
     "data": {
      "text/plain": [
       "False"
      ]
     },
     "execution_count": 110,
     "metadata": {},
     "output_type": "execute_result"
    }
   ],
   "source": [
    "d is e"
   ]
  },
  {
   "cell_type": "code",
   "execution_count": 111,
   "id": "4e7a2e37",
   "metadata": {},
   "outputs": [
    {
     "data": {
      "text/plain": [
       "(6,)"
      ]
     },
     "execution_count": 111,
     "metadata": {},
     "output_type": "execute_result"
    }
   ],
   "source": [
    "d.shape"
   ]
  },
  {
   "cell_type": "code",
   "execution_count": 112,
   "id": "8c044c64",
   "metadata": {},
   "outputs": [
    {
     "data": {
      "text/plain": [
       "(6,)"
      ]
     },
     "execution_count": 112,
     "metadata": {},
     "output_type": "execute_result"
    }
   ],
   "source": [
    "e.shape"
   ]
  },
  {
   "cell_type": "code",
   "execution_count": 113,
   "id": "df9019c6",
   "metadata": {},
   "outputs": [],
   "source": [
    "f = d.reshape(2, 3)"
   ]
  },
  {
   "cell_type": "code",
   "execution_count": 114,
   "id": "b2867ef2",
   "metadata": {},
   "outputs": [
    {
     "data": {
      "text/plain": [
       "array([[1, 2, 3],\n",
       "       [4, 5, 6]])"
      ]
     },
     "execution_count": 114,
     "metadata": {},
     "output_type": "execute_result"
    }
   ],
   "source": [
    "f"
   ]
  },
  {
   "cell_type": "code",
   "execution_count": 115,
   "id": "63da68b8",
   "metadata": {},
   "outputs": [],
   "source": [
    "d[0] = 5"
   ]
  },
  {
   "cell_type": "code",
   "execution_count": 116,
   "id": "7ce88e57",
   "metadata": {},
   "outputs": [
    {
     "data": {
      "text/plain": [
       "array([5, 2, 3, 4, 5, 6])"
      ]
     },
     "execution_count": 116,
     "metadata": {},
     "output_type": "execute_result"
    }
   ],
   "source": [
    "d"
   ]
  },
  {
   "cell_type": "code",
   "execution_count": 117,
   "id": "88f29ec5",
   "metadata": {},
   "outputs": [
    {
     "data": {
      "text/plain": [
       "array([[5, 2, 3],\n",
       "       [4, 5, 6]])"
      ]
     },
     "execution_count": 117,
     "metadata": {},
     "output_type": "execute_result"
    }
   ],
   "source": [
    "f"
   ]
  },
  {
   "cell_type": "code",
   "execution_count": 118,
   "id": "454f309a",
   "metadata": {},
   "outputs": [],
   "source": [
    "f[1, 1] = 7"
   ]
  },
  {
   "cell_type": "code",
   "execution_count": 119,
   "id": "460aaebf",
   "metadata": {},
   "outputs": [
    {
     "data": {
      "text/plain": [
       "array([[5, 2, 3],\n",
       "       [4, 7, 6]])"
      ]
     },
     "execution_count": 119,
     "metadata": {},
     "output_type": "execute_result"
    }
   ],
   "source": [
    "f"
   ]
  },
  {
   "cell_type": "code",
   "execution_count": 120,
   "id": "d7304211",
   "metadata": {},
   "outputs": [
    {
     "data": {
      "text/plain": [
       "array([5, 2, 3, 4, 7, 6])"
      ]
     },
     "execution_count": 120,
     "metadata": {},
     "output_type": "execute_result"
    }
   ],
   "source": [
    "d"
   ]
  },
  {
   "cell_type": "code",
   "execution_count": 121,
   "id": "fd9880f7",
   "metadata": {},
   "outputs": [],
   "source": [
    "aa = np.array([1, 2, 3, 4, 5, 6])"
   ]
  },
  {
   "cell_type": "code",
   "execution_count": 122,
   "id": "0a9b1af7",
   "metadata": {},
   "outputs": [],
   "source": [
    "av = aa.view()"
   ]
  },
  {
   "cell_type": "code",
   "execution_count": 123,
   "id": "92a585c6",
   "metadata": {},
   "outputs": [],
   "source": [
    "ar = aa.reshape(3, 2)"
   ]
  },
  {
   "cell_type": "code",
   "execution_count": 124,
   "id": "1928a954",
   "metadata": {},
   "outputs": [
    {
     "data": {
      "text/plain": [
       "array([1, 2, 3, 4, 5, 6])"
      ]
     },
     "execution_count": 124,
     "metadata": {},
     "output_type": "execute_result"
    }
   ],
   "source": [
    "aa"
   ]
  },
  {
   "cell_type": "code",
   "execution_count": 125,
   "id": "9edb7437",
   "metadata": {},
   "outputs": [
    {
     "data": {
      "text/plain": [
       "array([1, 2, 3, 4, 5, 6])"
      ]
     },
     "execution_count": 125,
     "metadata": {},
     "output_type": "execute_result"
    }
   ],
   "source": [
    "av"
   ]
  },
  {
   "cell_type": "code",
   "execution_count": 126,
   "id": "2931c80b",
   "metadata": {},
   "outputs": [
    {
     "data": {
      "text/plain": [
       "array([[1, 2],\n",
       "       [3, 4],\n",
       "       [5, 6]])"
      ]
     },
     "execution_count": 126,
     "metadata": {},
     "output_type": "execute_result"
    }
   ],
   "source": [
    "ar"
   ]
  },
  {
   "cell_type": "code",
   "execution_count": 127,
   "id": "573054f8",
   "metadata": {},
   "outputs": [
    {
     "data": {
      "text/plain": [
       "array([1, 2, 3, 4, 5, 6])"
      ]
     },
     "execution_count": 127,
     "metadata": {},
     "output_type": "execute_result"
    }
   ],
   "source": [
    "av.base   # base : 참조변수의 원본 찾는 속성, 원본을 출력"
   ]
  },
  {
   "cell_type": "code",
   "execution_count": 128,
   "id": "dcc59f6f",
   "metadata": {},
   "outputs": [],
   "source": [
    "aa.base   # 원본일 경우 base속성은 아무것도 표시되지 않음"
   ]
  },
  {
   "cell_type": "markdown",
   "id": "b0721921",
   "metadata": {},
   "source": [
    "배열가공하기  \n",
    "● 배열과 스칼라 간의 연산  \n",
    "● 색인과 슬라이싱  \n",
    "● 배열 전치와 축 바꾸기"
   ]
  },
  {
   "cell_type": "code",
   "execution_count": 129,
   "id": "7ffa5264",
   "metadata": {},
   "outputs": [],
   "source": [
    "a = np.array(45)"
   ]
  },
  {
   "cell_type": "code",
   "execution_count": 130,
   "id": "cd992c1e",
   "metadata": {},
   "outputs": [
    {
     "data": {
      "text/plain": [
       "0"
      ]
     },
     "execution_count": 130,
     "metadata": {},
     "output_type": "execute_result"
    }
   ],
   "source": [
    "a.ndim"
   ]
  },
  {
   "cell_type": "code",
   "execution_count": 131,
   "id": "33d4252f",
   "metadata": {},
   "outputs": [
    {
     "data": {
      "text/plain": [
       "()"
      ]
     },
     "execution_count": 131,
     "metadata": {},
     "output_type": "execute_result"
    }
   ],
   "source": [
    "a.shape"
   ]
  },
  {
   "cell_type": "code",
   "execution_count": 132,
   "id": "c9919e2d",
   "metadata": {},
   "outputs": [],
   "source": [
    "b = np.array([45])"
   ]
  },
  {
   "cell_type": "code",
   "execution_count": 133,
   "id": "75a475b5",
   "metadata": {},
   "outputs": [
    {
     "data": {
      "text/plain": [
       "1"
      ]
     },
     "execution_count": 133,
     "metadata": {},
     "output_type": "execute_result"
    }
   ],
   "source": [
    "b.ndim"
   ]
  },
  {
   "cell_type": "code",
   "execution_count": 134,
   "id": "dd063859",
   "metadata": {},
   "outputs": [
    {
     "data": {
      "text/plain": [
       "(1,)"
      ]
     },
     "execution_count": 134,
     "metadata": {},
     "output_type": "execute_result"
    }
   ],
   "source": [
    "b.shape"
   ]
  },
  {
   "cell_type": "markdown",
   "id": "fd09cbd4",
   "metadata": {},
   "source": [
    "스칼라의 자료형"
   ]
  },
  {
   "cell_type": "markdown",
   "id": "9e6180dc",
   "metadata": {},
   "source": [
    "int, float, None, bool"
   ]
  },
  {
   "cell_type": "code",
   "execution_count": 135,
   "id": "dc0d42ad",
   "metadata": {},
   "outputs": [
    {
     "data": {
      "text/plain": [
       "10"
      ]
     },
     "execution_count": 135,
     "metadata": {},
     "output_type": "execute_result"
    }
   ],
   "source": [
    "10 "
   ]
  },
  {
   "cell_type": "code",
   "execution_count": 136,
   "id": "1a9c9a1b",
   "metadata": {},
   "outputs": [
    {
     "data": {
      "text/plain": [
       "6"
      ]
     },
     "execution_count": 136,
     "metadata": {},
     "output_type": "execute_result"
    }
   ],
   "source": [
    "0b110   # b : 2진수"
   ]
  },
  {
   "cell_type": "code",
   "execution_count": 137,
   "id": "a9e06dbd",
   "metadata": {},
   "outputs": [
    {
     "data": {
      "text/plain": [
       "8"
      ]
     },
     "execution_count": 137,
     "metadata": {},
     "output_type": "execute_result"
    }
   ],
   "source": [
    "0o10   # o : 8진수"
   ]
  },
  {
   "cell_type": "code",
   "execution_count": 138,
   "id": "006a672b",
   "metadata": {},
   "outputs": [
    {
     "data": {
      "text/plain": [
       "16"
      ]
     },
     "execution_count": 138,
     "metadata": {},
     "output_type": "execute_result"
    }
   ],
   "source": [
    "0x10   # x : 16진수"
   ]
  },
  {
   "cell_type": "code",
   "execution_count": 139,
   "id": "a44ba1b6",
   "metadata": {},
   "outputs": [
    {
     "data": {
      "text/plain": [
       "5"
      ]
     },
     "execution_count": 139,
     "metadata": {},
     "output_type": "execute_result"
    }
   ],
   "source": [
    "int(5)"
   ]
  },
  {
   "cell_type": "code",
   "execution_count": 140,
   "id": "757ffc95",
   "metadata": {},
   "outputs": [
    {
     "data": {
      "text/plain": [
       "5"
      ]
     },
     "execution_count": 140,
     "metadata": {},
     "output_type": "execute_result"
    }
   ],
   "source": [
    "int(5.4)"
   ]
  },
  {
   "cell_type": "code",
   "execution_count": 141,
   "id": "a4ac2be5",
   "metadata": {},
   "outputs": [
    {
     "data": {
      "text/plain": [
       "13"
      ]
     },
     "execution_count": 141,
     "metadata": {},
     "output_type": "execute_result"
    }
   ],
   "source": [
    "int(\"13\")"
   ]
  },
  {
   "cell_type": "code",
   "execution_count": 142,
   "id": "12f45c62",
   "metadata": {},
   "outputs": [
    {
     "data": {
      "text/plain": [
       "12.5"
      ]
     },
     "execution_count": 142,
     "metadata": {},
     "output_type": "execute_result"
    }
   ],
   "source": [
    "float(\"12.5\")"
   ]
  },
  {
   "cell_type": "code",
   "execution_count": 143,
   "id": "21a5a5a5",
   "metadata": {},
   "outputs": [
    {
     "data": {
      "text/plain": [
       "12"
      ]
     },
     "execution_count": 143,
     "metadata": {},
     "output_type": "execute_result"
    }
   ],
   "source": [
    "int(float(\"12.5\"))   # 문자형 실수를 정수형으로 변환"
   ]
  },
  {
   "cell_type": "code",
   "execution_count": 144,
   "id": "72925c23",
   "metadata": {},
   "outputs": [
    {
     "data": {
      "text/plain": [
       "16"
      ]
     },
     "execution_count": 144,
     "metadata": {},
     "output_type": "execute_result"
    }
   ],
   "source": [
    "int(\"10\",16)   # \"10\" : 10진수"
   ]
  },
  {
   "cell_type": "code",
   "execution_count": 145,
   "id": "c7669b2a",
   "metadata": {},
   "outputs": [
    {
     "data": {
      "text/plain": [
       "10.0"
      ]
     },
     "execution_count": 145,
     "metadata": {},
     "output_type": "execute_result"
    }
   ],
   "source": [
    "float(10)"
   ]
  },
  {
   "cell_type": "code",
   "execution_count": 146,
   "id": "bc77fd4c",
   "metadata": {},
   "outputs": [
    {
     "data": {
      "text/plain": [
       "12.5"
      ]
     },
     "execution_count": 146,
     "metadata": {},
     "output_type": "execute_result"
    }
   ],
   "source": [
    "float(12.5)"
   ]
  },
  {
   "cell_type": "code",
   "execution_count": 147,
   "id": "cbedeb60",
   "metadata": {},
   "outputs": [
    {
     "data": {
      "text/plain": [
       "12.5"
      ]
     },
     "execution_count": 147,
     "metadata": {},
     "output_type": "execute_result"
    }
   ],
   "source": [
    "float(\"12.5\")"
   ]
  },
  {
   "cell_type": "code",
   "execution_count": 148,
   "id": "fb9e18f9",
   "metadata": {},
   "outputs": [],
   "source": [
    "d = None   # None : 값이 없음"
   ]
  },
  {
   "cell_type": "code",
   "execution_count": 149,
   "id": "60018246",
   "metadata": {},
   "outputs": [],
   "source": [
    "d"
   ]
  },
  {
   "cell_type": "code",
   "execution_count": 150,
   "id": "8f3482d1",
   "metadata": {},
   "outputs": [
    {
     "data": {
      "text/plain": [
       "True"
      ]
     },
     "execution_count": 150,
     "metadata": {},
     "output_type": "execute_result"
    }
   ],
   "source": [
    "True"
   ]
  },
  {
   "cell_type": "code",
   "execution_count": 151,
   "id": "97e8acf4",
   "metadata": {},
   "outputs": [
    {
     "data": {
      "text/plain": [
       "False"
      ]
     },
     "execution_count": 151,
     "metadata": {},
     "output_type": "execute_result"
    }
   ],
   "source": [
    "False"
   ]
  },
  {
   "cell_type": "code",
   "execution_count": 152,
   "id": "2be559c7",
   "metadata": {},
   "outputs": [
    {
     "data": {
      "text/plain": [
       "True"
      ]
     },
     "execution_count": 152,
     "metadata": {},
     "output_type": "execute_result"
    }
   ],
   "source": [
    "bool(3>0)"
   ]
  },
  {
   "cell_type": "code",
   "execution_count": 153,
   "id": "1f543daa",
   "metadata": {},
   "outputs": [
    {
     "data": {
      "text/plain": [
       "False"
      ]
     },
     "execution_count": 153,
     "metadata": {},
     "output_type": "execute_result"
    }
   ],
   "source": [
    "bool(0)   # 0이면 False"
   ]
  },
  {
   "cell_type": "code",
   "execution_count": 154,
   "id": "eee4aa85",
   "metadata": {},
   "outputs": [
    {
     "data": {
      "text/plain": [
       "True"
      ]
     },
     "execution_count": 154,
     "metadata": {},
     "output_type": "execute_result"
    }
   ],
   "source": [
    "bool(5)   # 0이 아니면 True"
   ]
  },
  {
   "cell_type": "code",
   "execution_count": 155,
   "id": "dae2b973",
   "metadata": {},
   "outputs": [
    {
     "data": {
      "text/plain": [
       "True"
      ]
     },
     "execution_count": 155,
     "metadata": {},
     "output_type": "execute_result"
    }
   ],
   "source": [
    "bool(-5)"
   ]
  },
  {
   "cell_type": "code",
   "execution_count": 156,
   "id": "42477d90",
   "metadata": {},
   "outputs": [
    {
     "data": {
      "text/plain": [
       "True"
      ]
     },
     "execution_count": 156,
     "metadata": {},
     "output_type": "execute_result"
    }
   ],
   "source": [
    "bool(1.5)"
   ]
  },
  {
   "cell_type": "code",
   "execution_count": 157,
   "id": "110d8366",
   "metadata": {},
   "outputs": [
    {
     "data": {
      "text/plain": [
       "False"
      ]
     },
     "execution_count": 157,
     "metadata": {},
     "output_type": "execute_result"
    }
   ],
   "source": [
    "bool(0.0)"
   ]
  },
  {
   "cell_type": "code",
   "execution_count": 158,
   "id": "80a3cf3b",
   "metadata": {},
   "outputs": [
    {
     "data": {
      "text/plain": [
       "False"
      ]
     },
     "execution_count": 158,
     "metadata": {},
     "output_type": "execute_result"
    }
   ],
   "source": [
    "bool('')   # 빈 문자열이면 False"
   ]
  },
  {
   "cell_type": "code",
   "execution_count": 159,
   "id": "798ca3c2",
   "metadata": {},
   "outputs": [
    {
     "data": {
      "text/plain": [
       "True"
      ]
     },
     "execution_count": 159,
     "metadata": {},
     "output_type": "execute_result"
    }
   ],
   "source": [
    "bool('1')"
   ]
  },
  {
   "cell_type": "code",
   "execution_count": 160,
   "id": "e93c765a",
   "metadata": {},
   "outputs": [
    {
     "data": {
      "text/plain": [
       "True"
      ]
     },
     "execution_count": 160,
     "metadata": {},
     "output_type": "execute_result"
    }
   ],
   "source": [
    "bool('a')"
   ]
  },
  {
   "cell_type": "code",
   "execution_count": 161,
   "id": "70ed5bd1",
   "metadata": {},
   "outputs": [
    {
     "data": {
      "text/plain": [
       "False"
      ]
     },
     "execution_count": 161,
     "metadata": {},
     "output_type": "execute_result"
    }
   ],
   "source": [
    "bool([])"
   ]
  },
  {
   "cell_type": "code",
   "execution_count": 162,
   "id": "2861dbc0",
   "metadata": {},
   "outputs": [
    {
     "data": {
      "text/plain": [
       "True"
      ]
     },
     "execution_count": 162,
     "metadata": {},
     "output_type": "execute_result"
    }
   ],
   "source": [
    "bool([1])"
   ]
  },
  {
   "cell_type": "code",
   "execution_count": 163,
   "id": "10ac986f",
   "metadata": {},
   "outputs": [
    {
     "data": {
      "text/plain": [
       "False"
      ]
     },
     "execution_count": 163,
     "metadata": {},
     "output_type": "execute_result"
    }
   ],
   "source": [
    "bool({})"
   ]
  },
  {
   "cell_type": "code",
   "execution_count": 164,
   "id": "c493a313",
   "metadata": {},
   "outputs": [
    {
     "data": {
      "text/plain": [
       "True"
      ]
     },
     "execution_count": 164,
     "metadata": {},
     "output_type": "execute_result"
    }
   ],
   "source": [
    "bool({1})"
   ]
  },
  {
   "cell_type": "code",
   "execution_count": 165,
   "id": "9a9ffb55",
   "metadata": {},
   "outputs": [
    {
     "data": {
      "text/plain": [
       "True"
      ]
     },
     "execution_count": 165,
     "metadata": {},
     "output_type": "execute_result"
    }
   ],
   "source": [
    "bool({'name': 123})"
   ]
  },
  {
   "cell_type": "markdown",
   "id": "d33f194f",
   "metadata": {},
   "source": [
    "배열과 스칼라 간의 연산"
   ]
  },
  {
   "cell_type": "code",
   "execution_count": 166,
   "id": "07577ed9",
   "metadata": {},
   "outputs": [],
   "source": [
    "a = np.array([1, 2, 3, 4])"
   ]
  },
  {
   "cell_type": "code",
   "execution_count": 167,
   "id": "90f67300",
   "metadata": {},
   "outputs": [],
   "source": [
    "b = np.array(5)"
   ]
  },
  {
   "cell_type": "code",
   "execution_count": 168,
   "id": "8aeb2137",
   "metadata": {},
   "outputs": [],
   "source": [
    "c = a + b   # 브로드캐스팅 연산"
   ]
  },
  {
   "cell_type": "code",
   "execution_count": 169,
   "id": "9ade7e13",
   "metadata": {},
   "outputs": [
    {
     "data": {
      "text/plain": [
       "array([6, 7, 8, 9])"
      ]
     },
     "execution_count": 169,
     "metadata": {},
     "output_type": "execute_result"
    }
   ],
   "source": [
    "c"
   ]
  },
  {
   "cell_type": "markdown",
   "id": "b0c571c3",
   "metadata": {},
   "source": [
    "배열의 색인과 슬라이싱"
   ]
  },
  {
   "cell_type": "code",
   "execution_count": 170,
   "id": "ff009680",
   "metadata": {},
   "outputs": [],
   "source": [
    "a = np.arange(11)"
   ]
  },
  {
   "cell_type": "code",
   "execution_count": 171,
   "id": "199cf9db",
   "metadata": {},
   "outputs": [
    {
     "data": {
      "text/plain": [
       "array([ 0,  1,  2,  3,  4,  5,  6,  7,  8,  9, 10])"
      ]
     },
     "execution_count": 171,
     "metadata": {},
     "output_type": "execute_result"
    }
   ],
   "source": [
    "a"
   ]
  },
  {
   "cell_type": "code",
   "execution_count": 172,
   "id": "33019109",
   "metadata": {},
   "outputs": [
    {
     "data": {
      "text/plain": [
       "5"
      ]
     },
     "execution_count": 172,
     "metadata": {},
     "output_type": "execute_result"
    }
   ],
   "source": [
    "a[5]"
   ]
  },
  {
   "cell_type": "code",
   "execution_count": 173,
   "id": "f1955289",
   "metadata": {},
   "outputs": [
    {
     "data": {
      "text/plain": [
       "array([2, 3, 4, 5])"
      ]
     },
     "execution_count": 173,
     "metadata": {},
     "output_type": "execute_result"
    }
   ],
   "source": [
    "a[2:6]"
   ]
  },
  {
   "cell_type": "code",
   "execution_count": 174,
   "id": "3bb58f5a",
   "metadata": {},
   "outputs": [
    {
     "data": {
      "text/plain": [
       "array([ 0,  1,  2,  3,  4,  5,  6,  7,  8,  9, 10])"
      ]
     },
     "execution_count": 174,
     "metadata": {},
     "output_type": "execute_result"
    }
   ],
   "source": [
    "a[:]"
   ]
  },
  {
   "cell_type": "code",
   "execution_count": 175,
   "id": "9d368e48",
   "metadata": {},
   "outputs": [
    {
     "data": {
      "text/plain": [
       "array([0, 1, 2, 3, 4, 5, 6, 7, 8, 9])"
      ]
     },
     "execution_count": 175,
     "metadata": {},
     "output_type": "execute_result"
    }
   ],
   "source": [
    "a[:-1]"
   ]
  },
  {
   "cell_type": "code",
   "execution_count": 176,
   "id": "7525e859",
   "metadata": {},
   "outputs": [
    {
     "data": {
      "text/plain": [
       "array([ 0,  1,  2,  3,  4,  5,  6,  7,  8,  9, 10])"
      ]
     },
     "execution_count": 176,
     "metadata": {},
     "output_type": "execute_result"
    }
   ],
   "source": [
    "a"
   ]
  },
  {
   "cell_type": "code",
   "execution_count": 177,
   "id": "66da81e5",
   "metadata": {},
   "outputs": [],
   "source": [
    "b = np.arange(2, 8)"
   ]
  },
  {
   "cell_type": "code",
   "execution_count": 178,
   "id": "9ecbfabb",
   "metadata": {},
   "outputs": [
    {
     "data": {
      "text/plain": [
       "array([2, 3, 4, 5, 6, 7])"
      ]
     },
     "execution_count": 178,
     "metadata": {},
     "output_type": "execute_result"
    }
   ],
   "source": [
    "b"
   ]
  },
  {
   "cell_type": "code",
   "execution_count": 179,
   "id": "3d83e7db",
   "metadata": {},
   "outputs": [],
   "source": [
    "c = np.arange(8, 2)"
   ]
  },
  {
   "cell_type": "code",
   "execution_count": 180,
   "id": "2dda270d",
   "metadata": {},
   "outputs": [
    {
     "data": {
      "text/plain": [
       "array([], dtype=int32)"
      ]
     },
     "execution_count": 180,
     "metadata": {},
     "output_type": "execute_result"
    }
   ],
   "source": [
    "c   # 데이터가 생성이 안됨"
   ]
  },
  {
   "cell_type": "code",
   "execution_count": 181,
   "id": "91364327",
   "metadata": {},
   "outputs": [],
   "source": [
    "d = np.arange(0, 8, 2)   # 시작값, 종료값, 증감값"
   ]
  },
  {
   "cell_type": "code",
   "execution_count": 182,
   "id": "d7435ba5",
   "metadata": {},
   "outputs": [
    {
     "data": {
      "text/plain": [
       "array([0, 2, 4, 6])"
      ]
     },
     "execution_count": 182,
     "metadata": {},
     "output_type": "execute_result"
    }
   ],
   "source": [
    "d"
   ]
  },
  {
   "cell_type": "code",
   "execution_count": 183,
   "id": "66ba7741",
   "metadata": {},
   "outputs": [],
   "source": [
    "e = np.arange(1, 7)"
   ]
  },
  {
   "cell_type": "code",
   "execution_count": 184,
   "id": "9a18f6f4",
   "metadata": {},
   "outputs": [
    {
     "data": {
      "text/plain": [
       "array([1, 2, 3, 4, 5, 6])"
      ]
     },
     "execution_count": 184,
     "metadata": {},
     "output_type": "execute_result"
    }
   ],
   "source": [
    "e"
   ]
  },
  {
   "cell_type": "code",
   "execution_count": 185,
   "id": "10e2094b",
   "metadata": {},
   "outputs": [
    {
     "data": {
      "text/plain": [
       "array([[1, 2, 3],\n",
       "       [4, 5, 6]])"
      ]
     },
     "execution_count": 185,
     "metadata": {},
     "output_type": "execute_result"
    }
   ],
   "source": [
    "np.reshape(e, (2, 3))"
   ]
  },
  {
   "cell_type": "code",
   "execution_count": 186,
   "id": "26ee6d50",
   "metadata": {},
   "outputs": [
    {
     "data": {
      "text/plain": [
       "array([1, 2, 3, 4])"
      ]
     },
     "execution_count": 186,
     "metadata": {},
     "output_type": "execute_result"
    }
   ],
   "source": [
    "e[0:4]"
   ]
  },
  {
   "cell_type": "code",
   "execution_count": 187,
   "id": "55bce686",
   "metadata": {},
   "outputs": [
    {
     "data": {
      "text/plain": [
       "array([[1, 2],\n",
       "       [3, 4]])"
      ]
     },
     "execution_count": 187,
     "metadata": {},
     "output_type": "execute_result"
    }
   ],
   "source": [
    "e[0:4].reshape(2, 2)   # 슬라이싱 한 배열의 차원 변경"
   ]
  },
  {
   "cell_type": "markdown",
   "id": "c3914ddb",
   "metadata": {},
   "source": [
    "배열의 전치 : 배열의 행과 열을 변경"
   ]
  },
  {
   "cell_type": "code",
   "execution_count": 188,
   "id": "051e986a",
   "metadata": {},
   "outputs": [],
   "source": [
    "a = np.array([[1, 2, 3, 4], [2, 3, 4, 5]])"
   ]
  },
  {
   "cell_type": "code",
   "execution_count": 189,
   "id": "76c29f03",
   "metadata": {},
   "outputs": [
    {
     "data": {
      "text/plain": [
       "(2, 4)"
      ]
     },
     "execution_count": 189,
     "metadata": {},
     "output_type": "execute_result"
    }
   ],
   "source": [
    "a.shape"
   ]
  },
  {
   "cell_type": "code",
   "execution_count": 190,
   "id": "1e9d9c05",
   "metadata": {},
   "outputs": [
    {
     "data": {
      "text/plain": [
       "array([[1, 2, 3, 4],\n",
       "       [2, 3, 4, 5]])"
      ]
     },
     "execution_count": 190,
     "metadata": {},
     "output_type": "execute_result"
    }
   ],
   "source": [
    "a"
   ]
  },
  {
   "cell_type": "code",
   "execution_count": 191,
   "id": "8eaf1321",
   "metadata": {},
   "outputs": [
    {
     "data": {
      "text/plain": [
       "array([[1, 2],\n",
       "       [2, 3],\n",
       "       [3, 4],\n",
       "       [4, 5]])"
      ]
     },
     "execution_count": 191,
     "metadata": {},
     "output_type": "execute_result"
    }
   ],
   "source": [
    "a.T   # T : 전치"
   ]
  },
  {
   "cell_type": "markdown",
   "id": "cfed451a",
   "metadata": {},
   "source": [
    "배열 전치 => 배열명.T or np.transpose(배열명)"
   ]
  },
  {
   "cell_type": "code",
   "execution_count": 192,
   "id": "4153f2b9",
   "metadata": {},
   "outputs": [
    {
     "data": {
      "text/plain": [
       "array([[1, 2, 3, 4],\n",
       "       [2, 3, 4, 5]])"
      ]
     },
     "execution_count": 192,
     "metadata": {},
     "output_type": "execute_result"
    }
   ],
   "source": [
    "a   # 변수에 담은게 아니므로 기존모양으로 출력"
   ]
  },
  {
   "cell_type": "code",
   "execution_count": 193,
   "id": "5cb3f605",
   "metadata": {},
   "outputs": [
    {
     "data": {
      "text/plain": [
       "array([[1, 2],\n",
       "       [2, 3],\n",
       "       [3, 4],\n",
       "       [4, 5]])"
      ]
     },
     "execution_count": 193,
     "metadata": {},
     "output_type": "execute_result"
    }
   ],
   "source": [
    "np.transpose(a)   # transpose: 전치"
   ]
  },
  {
   "cell_type": "markdown",
   "id": "f019c36d",
   "metadata": {},
   "source": [
    "배열 원소 빠르게 처리하기 => 유니버셜 함수  \n",
    "- 유니버셜 함수 : 배열 원소 각각에 대해서 원소별로 작업을 해주는 것"
   ]
  },
  {
   "cell_type": "code",
   "execution_count": 194,
   "id": "a74c541e",
   "metadata": {},
   "outputs": [],
   "source": [
    "a = np.array([5, -3, 7, -9, -2])"
   ]
  },
  {
   "cell_type": "code",
   "execution_count": 195,
   "id": "6610aa48",
   "metadata": {},
   "outputs": [
    {
     "data": {
      "text/plain": [
       "array([5, 3, 7, 9, 2])"
      ]
     },
     "execution_count": 195,
     "metadata": {},
     "output_type": "execute_result"
    }
   ],
   "source": [
    "np.abs(a)"
   ]
  },
  {
   "cell_type": "code",
   "execution_count": 196,
   "id": "ba62e46c",
   "metadata": {},
   "outputs": [],
   "source": [
    "b = np.array([1.534, 5.354, 2.212, 4.623])"
   ]
  },
  {
   "cell_type": "code",
   "execution_count": 197,
   "id": "81ccef00",
   "metadata": {},
   "outputs": [
    {
     "data": {
      "text/plain": [
       "array([2., 5., 2., 5.])"
      ]
     },
     "execution_count": 197,
     "metadata": {},
     "output_type": "execute_result"
    }
   ],
   "source": [
    "np.round(b)   # 반올림하여 표시( = b.0)"
   ]
  },
  {
   "cell_type": "code",
   "execution_count": 198,
   "id": "8e63696d",
   "metadata": {},
   "outputs": [
    {
     "data": {
      "text/plain": [
       "array([1.5, 5.4, 2.2, 4.6])"
      ]
     },
     "execution_count": 198,
     "metadata": {},
     "output_type": "execute_result"
    }
   ],
   "source": [
    "np.round(b, 1)   # 소수 1자리까지 표시"
   ]
  },
  {
   "cell_type": "code",
   "execution_count": 199,
   "id": "e1adf642",
   "metadata": {},
   "outputs": [],
   "source": [
    "a = np.array([5, 6, 23, 9])"
   ]
  },
  {
   "cell_type": "code",
   "execution_count": 200,
   "id": "ce0df425",
   "metadata": {},
   "outputs": [],
   "source": [
    "b = np.array([2, 11, 8, 4])"
   ]
  },
  {
   "cell_type": "code",
   "execution_count": 201,
   "id": "875aeb77",
   "metadata": {},
   "outputs": [
    {
     "data": {
      "text/plain": [
       "array([ 5, 11, 23,  9])"
      ]
     },
     "execution_count": 201,
     "metadata": {},
     "output_type": "execute_result"
    }
   ],
   "source": [
    "np.maximum(a, b)   # 두 배열의 같은 열의 값을 비교하여 큰 값을 가져옴"
   ]
  },
  {
   "cell_type": "code",
   "execution_count": 202,
   "id": "dd333fa9",
   "metadata": {},
   "outputs": [
    {
     "data": {
      "text/plain": [
       "array([ 7, 17, 31, 13])"
      ]
     },
     "execution_count": 202,
     "metadata": {},
     "output_type": "execute_result"
    }
   ],
   "source": [
    "a + b"
   ]
  },
  {
   "cell_type": "code",
   "execution_count": 203,
   "id": "b87cbce0",
   "metadata": {},
   "outputs": [],
   "source": [
    "a = np.array([2, 5, 7, 1, 4, 3]).reshape(2, 3)"
   ]
  },
  {
   "cell_type": "code",
   "execution_count": 204,
   "id": "0c4bdd3d",
   "metadata": {},
   "outputs": [
    {
     "data": {
      "text/plain": [
       "array([[2, 5, 7],\n",
       "       [1, 4, 3]])"
      ]
     },
     "execution_count": 204,
     "metadata": {},
     "output_type": "execute_result"
    }
   ],
   "source": [
    "a"
   ]
  },
  {
   "cell_type": "code",
   "execution_count": 205,
   "id": "1d942cbd",
   "metadata": {},
   "outputs": [],
   "source": [
    "b = np.array([[2, 3, 4], [4, 5, 6]])"
   ]
  },
  {
   "cell_type": "code",
   "execution_count": 206,
   "id": "462ef9f9",
   "metadata": {},
   "outputs": [
    {
     "data": {
      "text/plain": [
       "array([[2, 3, 4],\n",
       "       [4, 5, 6]])"
      ]
     },
     "execution_count": 206,
     "metadata": {},
     "output_type": "execute_result"
    }
   ],
   "source": [
    "b"
   ]
  },
  {
   "cell_type": "code",
   "execution_count": 207,
   "id": "ec60d152",
   "metadata": {},
   "outputs": [
    {
     "data": {
      "text/plain": [
       "array([[ 4,  8, 11],\n",
       "       [ 5,  9,  9]])"
      ]
     },
     "execution_count": 207,
     "metadata": {},
     "output_type": "execute_result"
    }
   ],
   "source": [
    "np.add(a,b)"
   ]
  },
  {
   "cell_type": "code",
   "execution_count": null,
   "id": "23ff592b",
   "metadata": {},
   "outputs": [],
   "source": []
  }
 ],
 "metadata": {
  "kernelspec": {
   "display_name": "Python 3 (ipykernel)",
   "language": "python",
   "name": "python3"
  },
  "language_info": {
   "codemirror_mode": {
    "name": "ipython",
    "version": 3
   },
   "file_extension": ".py",
   "mimetype": "text/x-python",
   "name": "python",
   "nbconvert_exporter": "python",
   "pygments_lexer": "ipython3",
   "version": "3.9.12"
  }
 },
 "nbformat": 4,
 "nbformat_minor": 5
}
