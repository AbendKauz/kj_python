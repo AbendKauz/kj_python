{
 "cells": [
  {
   "cell_type": "markdown",
   "id": "e2e7a9ca",
   "metadata": {},
   "source": [
    "np.max(배열[,axis=0 또는 1 [,out=배열]])\n",
    "np.argmax(배열[,axis=0 또는 1 [,out=배열]])\n",
    "np.min(배열[,axis=0 또는 1 [,out=배열]])\n",
    "np.argmin(배열[,axis=0 또는 1 [,out=배열]])\n",
    "np.median(배열[,axis=0 또는 1 [,out=배열]])\n",
    "np.mean(배열[,axis=0 또는 1 [,out=배열]])"
   ]
  },
  {
   "cell_type": "markdown",
   "id": "29ec42ac",
   "metadata": {},
   "source": [
    "np.average(배열[,axis=0 또는 1 [,out=배열]])\n",
    "np.average(배열[,axis=0 또는 1 [,weights=배열]])  - 가중평균\n",
    "np.nanmean(배열[,axis=0 또는 1 [,out=배열]])\n",
    "np.var(배열[,axis=0 또는 1 [,ddof=0]])   - 분산 / 모집단\n",
    "np.var(배열[,axis=0 또는 1],ddof=1)    - 분산 / 표본\n",
    "np.std(배열[,axis=0 또는 1])  - 표준편차"
   ]
  },
  {
   "cell_type": "markdown",
   "id": "74b8b982",
   "metadata": {},
   "source": [
    "np.corrcoef(x,y)[,]  - 상관계수\n",
    "np.cov(x[,y])  - 공분산"
   ]
  },
  {
   "cell_type": "code",
   "execution_count": 2,
   "id": "a0c850df",
   "metadata": {},
   "outputs": [],
   "source": [
    "import numpy as np"
   ]
  },
  {
   "cell_type": "code",
   "execution_count": 3,
   "id": "0bbcb33e",
   "metadata": {},
   "outputs": [],
   "source": [
    "arr=np.array([[80,95,85],\n",
    "             [75,60,80],\n",
    "             [95,100,90]])"
   ]
  },
  {
   "cell_type": "code",
   "execution_count": 10,
   "id": "62af051a",
   "metadata": {},
   "outputs": [],
   "source": [
    "ma=np.array([0,0,0])"
   ]
  },
  {
   "cell_type": "code",
   "execution_count": 11,
   "id": "1b183afc",
   "metadata": {},
   "outputs": [
    {
     "data": {
      "text/plain": [
       "array([ 95,  80, 100])"
      ]
     },
     "execution_count": 11,
     "metadata": {},
     "output_type": "execute_result"
    }
   ],
   "source": [
    "np.max(arr,axis=1, out=ma)"
   ]
  },
  {
   "cell_type": "code",
   "execution_count": 12,
   "id": "b36706d3",
   "metadata": {},
   "outputs": [
    {
     "data": {
      "text/plain": [
       "array([ 95,  80, 100])"
      ]
     },
     "execution_count": 12,
     "metadata": {},
     "output_type": "execute_result"
    }
   ],
   "source": [
    "ma"
   ]
  },
  {
   "cell_type": "code",
   "execution_count": 4,
   "id": "bb7f7232",
   "metadata": {},
   "outputs": [
    {
     "data": {
      "text/plain": [
       "100"
      ]
     },
     "execution_count": 4,
     "metadata": {},
     "output_type": "execute_result"
    }
   ],
   "source": [
    "np.max(arr)"
   ]
  },
  {
   "cell_type": "code",
   "execution_count": 5,
   "id": "2c0e95c5",
   "metadata": {},
   "outputs": [
    {
     "data": {
      "text/plain": [
       "7"
      ]
     },
     "execution_count": 5,
     "metadata": {},
     "output_type": "execute_result"
    }
   ],
   "source": [
    "np.argmax(arr)"
   ]
  },
  {
   "cell_type": "code",
   "execution_count": 18,
   "id": "feaf1f46",
   "metadata": {},
   "outputs": [],
   "source": [
    "a=np.array([6,8,3,4,1,9,7,10])"
   ]
  },
  {
   "cell_type": "code",
   "execution_count": 19,
   "id": "f8cc6104",
   "metadata": {},
   "outputs": [
    {
     "data": {
      "text/plain": [
       "6.5"
      ]
     },
     "execution_count": 19,
     "metadata": {},
     "output_type": "execute_result"
    }
   ],
   "source": [
    "np.median(a)"
   ]
  },
  {
   "cell_type": "code",
   "execution_count": 24,
   "id": "66333a76",
   "metadata": {},
   "outputs": [],
   "source": [
    "a=np.array([5,np.nan,15,20])"
   ]
  },
  {
   "cell_type": "code",
   "execution_count": 27,
   "id": "d7826178",
   "metadata": {},
   "outputs": [
    {
     "data": {
      "text/plain": [
       "13.333333333333334"
      ]
     },
     "execution_count": 27,
     "metadata": {},
     "output_type": "execute_result"
    }
   ],
   "source": [
    "np.nanmean(a)"
   ]
  },
  {
   "cell_type": "code",
   "execution_count": 26,
   "id": "d53e626d",
   "metadata": {},
   "outputs": [
    {
     "data": {
      "text/plain": [
       "nan"
      ]
     },
     "execution_count": 26,
     "metadata": {},
     "output_type": "execute_result"
    }
   ],
   "source": [
    "np.average(a)"
   ]
  },
  {
   "cell_type": "markdown",
   "id": "6f6b02e1",
   "metadata": {},
   "source": [
    "오름차순 정렬\n",
    "- np.sort(배열명)\n",
    "\n",
    "내림차순 정렬\n",
    "- np.sort(배열명)[::-1]\n",
    "- 배열명[np.argsort(-배열명)]"
   ]
  },
  {
   "cell_type": "code",
   "execution_count": 34,
   "id": "9d5114fa",
   "metadata": {},
   "outputs": [],
   "source": [
    "a=np.array([6,3,4,8,1,9])"
   ]
  },
  {
   "cell_type": "code",
   "execution_count": 35,
   "id": "56b64c6e",
   "metadata": {},
   "outputs": [
    {
     "data": {
      "text/plain": [
       "array([1, 3, 4, 6, 8, 9])"
      ]
     },
     "execution_count": 35,
     "metadata": {},
     "output_type": "execute_result"
    }
   ],
   "source": [
    "np.sort(a)"
   ]
  },
  {
   "cell_type": "code",
   "execution_count": 36,
   "id": "f0160172",
   "metadata": {},
   "outputs": [
    {
     "data": {
      "text/plain": [
       "array([9, 8, 6, 4, 3, 1])"
      ]
     },
     "execution_count": 36,
     "metadata": {},
     "output_type": "execute_result"
    }
   ],
   "source": [
    "np.sort(a)[::-1]"
   ]
  },
  {
   "cell_type": "code",
   "execution_count": 38,
   "id": "a2e46af2",
   "metadata": {},
   "outputs": [
    {
     "data": {
      "text/plain": [
       "array([9, 8, 6, 4, 3, 1])"
      ]
     },
     "execution_count": 38,
     "metadata": {},
     "output_type": "execute_result"
    }
   ],
   "source": [
    "a[np.argsort(-a)]"
   ]
  },
  {
   "cell_type": "code",
   "execution_count": 39,
   "id": "0b533618",
   "metadata": {},
   "outputs": [],
   "source": [
    "b=np.array([[5,8,2],\n",
    "           [8,2,9],\n",
    "           [2,5,7]])"
   ]
  },
  {
   "cell_type": "code",
   "execution_count": 44,
   "id": "be1dad9c",
   "metadata": {},
   "outputs": [
    {
     "data": {
      "text/plain": [
       "array([[[2, 5, 7],\n",
       "        [8, 2, 9],\n",
       "        [5, 8, 2]],\n",
       "\n",
       "       [[5, 8, 2],\n",
       "        [2, 5, 7],\n",
       "        [2, 5, 7]],\n",
       "\n",
       "       [[8, 2, 9],\n",
       "        [5, 8, 2],\n",
       "        [8, 2, 9]]])"
      ]
     },
     "execution_count": 44,
     "metadata": {},
     "output_type": "execute_result"
    }
   ],
   "source": [
    "b[np.argsort(b,axis=0)]"
   ]
  },
  {
   "cell_type": "markdown",
   "id": "eba59d97",
   "metadata": {},
   "source": [
    "random 모듈\n",
    "- 특정 범위, 개수, 형태를 갖는 난수 생성\n",
    "- 머신러닝에서 자주 사용\n",
    "- choice, randint, rand, randn 등이 있음"
   ]
  },
  {
   "cell_type": "markdown",
   "id": "d00b991b",
   "metadata": {},
   "source": [
    "난수 생성\n",
    "- 0~1 사이의 균일 분포에서 난수 배열 생성\n",
    "  => np.random.rand\n",
    "- 주어진 최소값~최대값 사이에서 난수 배열 생성\n",
    "  => np.random.randint 또는 np.random.choice"
   ]
  },
  {
   "cell_type": "markdown",
   "id": "56ead88c",
   "metadata": {},
   "source": [
    "choice 함수\n",
    "- np.random.choice(x, size=None, replace=True, p=None)\n",
    "  -> x : 1차원 배열 또는 정수\n",
    "  -> x가 정수인 경우, np.arange(a)와 같은 배열 생성\n",
    "  -> size는 추출할 데이터 크기\n",
    "  -> replace는 중복 허용 여부\n",
    "  -> p는 각 데이터가 선택될 확률(1차원 배열)\n",
    "  -> 배열 p요소의 합은 1이며, 음수를 가질 수 없음"
   ]
  },
  {
   "cell_type": "markdown",
   "id": "5a41f983",
   "metadata": {},
   "source": [
    "0~10미만의 정수 5개 추출(중복 허용)"
   ]
  },
  {
   "cell_type": "code",
   "execution_count": 49,
   "id": "c0c0c6b7",
   "metadata": {},
   "outputs": [
    {
     "data": {
      "text/plain": [
       "array([2, 3, 9, 4, 0])"
      ]
     },
     "execution_count": 49,
     "metadata": {},
     "output_type": "execute_result"
    }
   ],
   "source": [
    "np.random.choice(10 , 5 , False )"
   ]
  },
  {
   "cell_type": "markdown",
   "id": "f43f4c72",
   "metadata": {},
   "source": [
    "0~10 미만의 정수 중 6개를 2행 3열 추출(중복 배제)"
   ]
  },
  {
   "cell_type": "code",
   "execution_count": 52,
   "id": "cb2ff90d",
   "metadata": {},
   "outputs": [
    {
     "data": {
      "text/plain": [
       "array([[9, 3, 4],\n",
       "       [2, 6, 7]])"
      ]
     },
     "execution_count": 52,
     "metadata": {},
     "output_type": "execute_result"
    }
   ],
   "source": [
    "np.random.choice(10, (2,3) , False)"
   ]
  },
  {
   "cell_type": "markdown",
   "id": "a9c4ced7",
   "metadata": {},
   "source": [
    "주어진 배열에서 6개를 2행 3열로 추출"
   ]
  },
  {
   "cell_type": "code",
   "execution_count": 53,
   "id": "48221301",
   "metadata": {},
   "outputs": [
    {
     "data": {
      "text/plain": [
       "array([[15, 13,  6],\n",
       "       [11,  8,  8]])"
      ]
     },
     "execution_count": 53,
     "metadata": {},
     "output_type": "execute_result"
    }
   ],
   "source": [
    "b=np.array([2,4,6,7,8,11,13,14,15,19])\n",
    "np.random.choice(b, (2,3))"
   ]
  },
  {
   "cell_type": "code",
   "execution_count": 54,
   "id": "c877dc5a",
   "metadata": {},
   "outputs": [
    {
     "data": {
      "text/plain": [
       "array([ 2,  4,  6,  7,  8, 11, 13, 14, 15, 19])"
      ]
     },
     "execution_count": 54,
     "metadata": {},
     "output_type": "execute_result"
    }
   ],
   "source": [
    "b"
   ]
  },
  {
   "cell_type": "code",
   "execution_count": 59,
   "id": "f5468cc4",
   "metadata": {},
   "outputs": [],
   "source": [
    "p=np.array([0.2,0.05,0,0.05,0.2,0.1,0.1,0,0.2, 0.1])"
   ]
  },
  {
   "cell_type": "code",
   "execution_count": 60,
   "id": "e0ae1ab2",
   "metadata": {},
   "outputs": [
    {
     "data": {
      "text/plain": [
       "array([ 2,  7, 15,  4])"
      ]
     },
     "execution_count": 60,
     "metadata": {},
     "output_type": "execute_result"
    }
   ],
   "source": [
    "np.random.choice(b, 4 , p=p , replace=False)"
   ]
  },
  {
   "cell_type": "code",
   "execution_count": 62,
   "id": "e8bd131c",
   "metadata": {},
   "outputs": [
    {
     "data": {
      "text/plain": [
       "array([[0.89322016, 0.01707663, 0.1960317 , 0.3450982 ],\n",
       "       [0.70993889, 0.45715515, 0.53579186, 0.41010283],\n",
       "       [0.0363084 , 0.17253143, 0.69738629, 0.66204866]])"
      ]
     },
     "execution_count": 62,
     "metadata": {},
     "output_type": "execute_result"
    }
   ],
   "source": [
    "np.random.rand(3,4)"
   ]
  },
  {
   "cell_type": "markdown",
   "id": "62b31c79",
   "metadata": {},
   "source": [
    "벡터의 이해\n",
    "- 크기뿐만 아니라 방향까지 가진 수의 집합\n",
    "- 벡터를 이류는 숫자 성분을 스칼라라 하고, 열벡터와 행벡터로 나뉨\n",
    "- 선형대수에서 기본적으로 벡터를 열벡터로 표현\n",
    "- 크기가 1인 벡터를 단위벡터, 모든 원소가 0인 벡터를 영벡터라 함\n",
    "- 벡터를 점과 구분하기 위해 [](대괄호)로 둘러쌈\n",
    "- array 함수를 사용하여 생성한 1차원 배열로 벡터를 나타냄"
   ]
  },
  {
   "cell_type": "markdown",
   "id": "bd8cc135",
   "metadata": {},
   "source": [
    "행렬 이해하기\n",
    "- 크기만 가진 행과 열로 구성된 수의 집합\n",
    "- array 함수를 사용하여 생성한 2차원 배열로 행렬을 나타냄\n",
    "- 인덱스가 0부터 표시됨\n",
    "- 행렬을 표기하기 위해서는 [](대괄호)안에 숫자를 나열\n",
    "- n X n 행렬을 정사각 행렬\n",
    "  대각선을 제외한 모든 원소가 0인 행렬을 대각 행렬\n",
    "  대각선의 원소가 모두 1인 행렬을 단위 행렬 또는 항등 행렬\n",
    "  주 대각선 기준으로 위 또는 아래의 모든 원소가 0인 행렬을 삼각 행렬"
   ]
  },
  {
   "cell_type": "markdown",
   "id": "d34306cd",
   "metadata": {},
   "source": [
    "벡터 정의하기\n",
    " 1) arange 함수이용\n",
    "    arange([start], stop [, step])"
   ]
  },
  {
   "cell_type": "markdown",
   "id": "66a662ce",
   "metadata": {},
   "source": [
    "0~10 사이의 수를 1씩 증가시켜 열 벡터를 생성하기"
   ]
  },
  {
   "cell_type": "code",
   "execution_count": 68,
   "id": "401a9ef7",
   "metadata": {},
   "outputs": [
    {
     "data": {
      "text/plain": [
       "array([[0],\n",
       "       [1],\n",
       "       [2],\n",
       "       [3],\n",
       "       [4],\n",
       "       [5],\n",
       "       [6],\n",
       "       [7],\n",
       "       [8],\n",
       "       [9]])"
      ]
     },
     "execution_count": 68,
     "metadata": {},
     "output_type": "execute_result"
    }
   ],
   "source": [
    "a=np.arange(10)\n",
    "a.shape=(len(a),1)\n",
    "a"
   ]
  },
  {
   "cell_type": "markdown",
   "id": "72c850d5",
   "metadata": {},
   "source": [
    "0~10 사이의 수를 1씩 감소시켜 행 벡터 생성하기"
   ]
  },
  {
   "cell_type": "code",
   "execution_count": 71,
   "id": "5b0d7301",
   "metadata": {},
   "outputs": [
    {
     "data": {
      "text/plain": [
       "array([[10,  9,  8,  7,  6,  5,  4,  3,  2,  1]])"
      ]
     },
     "execution_count": 71,
     "metadata": {},
     "output_type": "execute_result"
    }
   ],
   "source": [
    "b=np.arange(10, 0 , -1)\n",
    "b.shape=(1,len(b))\n",
    "b"
   ]
  },
  {
   "cell_type": "markdown",
   "id": "dcf97d86",
   "metadata": {},
   "source": [
    "  2) linsapce 함수 사용\n",
    "    - 시작값과 끝값 사이에서 일정하게 떨어진 실수형 숫자들을 배열로 생성\n",
    "    - 끝값 포함\n",
    "    linspace(start, stop [,num][,endpoint=True][retstep=False])\n",
    "      - num : 추출할 데이터 개수(기본값 : 50)\n",
    "      - endpoint : 끝값 포함여부(기본값 : True)\n",
    "      - retstep : 샘플 사이의 간격을 출력(기본값 : False)"
   ]
  },
  {
   "cell_type": "markdown",
   "id": "9797ef5d",
   "metadata": {},
   "source": [
    "1~10 사이의 수 10개 추출(종료값 포함 안함)"
   ]
  },
  {
   "cell_type": "code",
   "execution_count": 76,
   "id": "3a144bfd",
   "metadata": {},
   "outputs": [
    {
     "data": {
      "text/plain": [
       "array([1. , 1.9, 2.8, 3.7, 4.6, 5.5, 6.4, 7.3, 8.2, 9.1])"
      ]
     },
     "execution_count": 76,
     "metadata": {},
     "output_type": "execute_result"
    }
   ],
   "source": [
    "a=np.linspace(1, 10, 10 , False)\n",
    "a"
   ]
  },
  {
   "cell_type": "markdown",
   "id": "8b1de47f",
   "metadata": {},
   "source": [
    "1~10 사이의 수 9개를 추출하는데 종료값 포함 출력, 샘플 사이의 간격 출력"
   ]
  },
  {
   "cell_type": "code",
   "execution_count": 78,
   "id": "6fa2f0d9",
   "metadata": {},
   "outputs": [
    {
     "data": {
      "text/plain": [
       "(array([ 1.   ,  2.125,  3.25 ,  4.375,  5.5  ,  6.625,  7.75 ,  8.875,\n",
       "        10.   ]),\n",
       " 1.125)"
      ]
     },
     "execution_count": 78,
     "metadata": {},
     "output_type": "execute_result"
    }
   ],
   "source": [
    "b=np.linspace(1,10,9,True, True)\n",
    "b"
   ]
  },
  {
   "cell_type": "markdown",
   "id": "ba9babbd",
   "metadata": {},
   "source": [
    "행렬이란?\n",
    "- 숫자를 직사각형 모양으로 배열해 놓은 것\n",
    "- 행렬을 구성하는 숫자를 원소라 함\n",
    "- 행렬의 크기 : 행개수 X 열개수\n",
    "- 하나의 행으로 구성된 행렬 : 행 벡터\n",
    "- 하나의 열로 구성된 행렬 : 열 벡터"
   ]
  },
  {
   "cell_type": "markdown",
   "id": "aed48950",
   "metadata": {},
   "source": [
    "행렬 정의하기 (2행 3열)"
   ]
  },
  {
   "cell_type": "code",
   "execution_count": 80,
   "id": "d8d92dfb",
   "metadata": {},
   "outputs": [
    {
     "data": {
      "text/plain": [
       "array([[1, 2, 3],\n",
       "       [4, 5, 6]])"
      ]
     },
     "execution_count": 80,
     "metadata": {},
     "output_type": "execute_result"
    }
   ],
   "source": [
    "A=np.array([[1,2,3],\n",
    "           [4,5,6]])\n",
    "A"
   ]
  },
  {
   "cell_type": "code",
   "execution_count": 82,
   "id": "450696ad",
   "metadata": {},
   "outputs": [
    {
     "data": {
      "text/plain": [
       "array([[1, 4],\n",
       "       [2, 5],\n",
       "       [3, 6]])"
      ]
     },
     "execution_count": 82,
     "metadata": {},
     "output_type": "execute_result"
    }
   ],
   "source": [
    "B=A.transpose()\n",
    "B"
   ]
  },
  {
   "cell_type": "markdown",
   "id": "072a09a2",
   "metadata": {},
   "source": [
    "1) 벡터의 기본 연산  \n",
    " (1) 벡터의 크기 구하기  \n",
    "  1~4 사이의 1씩 증가하는 행 벡터를 만들고 크기 구하기"
   ]
  },
  {
   "cell_type": "code",
   "execution_count": 83,
   "id": "bb8fc20e",
   "metadata": {},
   "outputs": [
    {
     "data": {
      "text/plain": [
       "array([1, 2, 3, 4])"
      ]
     },
     "execution_count": 83,
     "metadata": {},
     "output_type": "execute_result"
    }
   ],
   "source": [
    "rv=np.arange(1,5)\n",
    "rv"
   ]
  },
  {
   "cell_type": "markdown",
   "id": "52b1c4f8",
   "metadata": {},
   "source": [
    "np.linalg.norm 함수 이용"
   ]
  },
  {
   "cell_type": "code",
   "execution_count": 84,
   "id": "506c1a22",
   "metadata": {},
   "outputs": [
    {
     "data": {
      "text/plain": [
       "5.477225575051661"
      ]
     },
     "execution_count": 84,
     "metadata": {},
     "output_type": "execute_result"
    }
   ],
   "source": [
    "np.linalg.norm(rv)"
   ]
  },
  {
   "cell_type": "markdown",
   "id": "c5bde7db",
   "metadata": {},
   "source": [
    "np.dot 함수 이용"
   ]
  },
  {
   "cell_type": "code",
   "execution_count": 86,
   "id": "8e5c01f3",
   "metadata": {},
   "outputs": [
    {
     "data": {
      "text/plain": [
       "5.477225575051661"
      ]
     },
     "execution_count": 86,
     "metadata": {},
     "output_type": "execute_result"
    }
   ],
   "source": [
    "np.sqrt(np.dot(rv,rv))"
   ]
  },
  {
   "cell_type": "markdown",
   "id": "b2207d76",
   "metadata": {},
   "source": [
    " (2) 벡터의 기본연산 (덧셈, 뺄셈, 곱셈)"
   ]
  },
  {
   "cell_type": "code",
   "execution_count": 87,
   "id": "a5ff6aad",
   "metadata": {},
   "outputs": [],
   "source": [
    "A=np.array([1,2])\n",
    "B=np.array([3,4])"
   ]
  },
  {
   "cell_type": "code",
   "execution_count": 88,
   "id": "90f90227",
   "metadata": {},
   "outputs": [
    {
     "data": {
      "text/plain": [
       "array([4, 6])"
      ]
     },
     "execution_count": 88,
     "metadata": {},
     "output_type": "execute_result"
    }
   ],
   "source": [
    "A+B"
   ]
  },
  {
   "cell_type": "code",
   "execution_count": 90,
   "id": "729a9c8b",
   "metadata": {},
   "outputs": [
    {
     "data": {
      "text/plain": [
       "array([4, 6])"
      ]
     },
     "execution_count": 90,
     "metadata": {},
     "output_type": "execute_result"
    }
   ],
   "source": [
    "np.add(A,B)"
   ]
  },
  {
   "cell_type": "code",
   "execution_count": 89,
   "id": "c2a52b8d",
   "metadata": {},
   "outputs": [
    {
     "data": {
      "text/plain": [
       "array([-2, -2])"
      ]
     },
     "execution_count": 89,
     "metadata": {},
     "output_type": "execute_result"
    }
   ],
   "source": [
    "A-B"
   ]
  },
  {
   "cell_type": "code",
   "execution_count": 91,
   "id": "a86ad943",
   "metadata": {},
   "outputs": [
    {
     "data": {
      "text/plain": [
       "array([-2, -2])"
      ]
     },
     "execution_count": 91,
     "metadata": {},
     "output_type": "execute_result"
    }
   ],
   "source": [
    "np.subtract(A,B)"
   ]
  },
  {
   "cell_type": "code",
   "execution_count": 92,
   "id": "c6b850b8",
   "metadata": {},
   "outputs": [
    {
     "data": {
      "text/plain": [
       "array([3, 8])"
      ]
     },
     "execution_count": 92,
     "metadata": {},
     "output_type": "execute_result"
    }
   ],
   "source": [
    "A*B"
   ]
  },
  {
   "cell_type": "code",
   "execution_count": 93,
   "id": "d2928246",
   "metadata": {},
   "outputs": [
    {
     "data": {
      "text/plain": [
       "array([1, 2])"
      ]
     },
     "execution_count": 93,
     "metadata": {},
     "output_type": "execute_result"
    }
   ],
   "source": [
    "A"
   ]
  },
  {
   "cell_type": "code",
   "execution_count": 94,
   "id": "69420074",
   "metadata": {},
   "outputs": [
    {
     "data": {
      "text/plain": [
       "array([3, 4])"
      ]
     },
     "execution_count": 94,
     "metadata": {},
     "output_type": "execute_result"
    }
   ],
   "source": [
    "B"
   ]
  },
  {
   "cell_type": "code",
   "execution_count": 95,
   "id": "2cbe223a",
   "metadata": {},
   "outputs": [
    {
     "data": {
      "text/plain": [
       "array([3, 8])"
      ]
     },
     "execution_count": 95,
     "metadata": {},
     "output_type": "execute_result"
    }
   ],
   "source": [
    "np.multiply(A,B)"
   ]
  },
  {
   "cell_type": "markdown",
   "id": "3eadc0ca",
   "metadata": {},
   "source": [
    "벡터의 내적 구하기"
   ]
  },
  {
   "cell_type": "code",
   "execution_count": 100,
   "id": "8eae088b",
   "metadata": {},
   "outputs": [],
   "source": [
    "A=np.array([1,2,3])\n",
    "B=np.array([5,6,2])"
   ]
  },
  {
   "cell_type": "code",
   "execution_count": 101,
   "id": "a0eef9d9",
   "metadata": {},
   "outputs": [
    {
     "data": {
      "text/plain": [
       "23"
      ]
     },
     "execution_count": 101,
     "metadata": {},
     "output_type": "execute_result"
    }
   ],
   "source": [
    "A@B"
   ]
  },
  {
   "cell_type": "code",
   "execution_count": 102,
   "id": "0dc2385f",
   "metadata": {},
   "outputs": [
    {
     "data": {
      "text/plain": [
       "23"
      ]
     },
     "execution_count": 102,
     "metadata": {},
     "output_type": "execute_result"
    }
   ],
   "source": [
    "np.dot(A,B)"
   ]
  },
  {
   "cell_type": "code",
   "execution_count": null,
   "id": "6c76c35f",
   "metadata": {},
   "outputs": [],
   "source": [
    "벡터의 내적은 dot 함수 또는 @ 연산자 사용\n",
    "np.dot(x,y)\n",
    "x@y\n",
    "- 벡터의 내적은 대응되는 요소끼리의 곱한 값들의 합으로 계산"
   ]
  },
  {
   "cell_type": "markdown",
   "id": "d11b23c7",
   "metadata": {},
   "source": [
    "벡터의 외적 구하기"
   ]
  },
  {
   "cell_type": "code",
   "execution_count": null,
   "id": "cfabb3d4",
   "metadata": {},
   "outputs": [],
   "source": []
  }
 ],
 "metadata": {
  "kernelspec": {
   "display_name": "Python 3 (ipykernel)",
   "language": "python",
   "name": "python3"
  },
  "language_info": {
   "codemirror_mode": {
    "name": "ipython",
    "version": 3
   },
   "file_extension": ".py",
   "mimetype": "text/x-python",
   "name": "python",
   "nbconvert_exporter": "python",
   "pygments_lexer": "ipython3",
   "version": "3.9.12"
  }
 },
 "nbformat": 4,
 "nbformat_minor": 5
}
