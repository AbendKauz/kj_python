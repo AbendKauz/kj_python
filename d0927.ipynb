{
 "cells": [
  {
   "cell_type": "markdown",
   "id": "cd4ef3df",
   "metadata": {},
   "source": [
    "$ \\alpha + \\beta $  \n",
    "$$ \\alpha + \\beta $$"
   ]
  },
  {
   "cell_type": "markdown",
   "id": "e8273106",
   "metadata": {},
   "source": [
    "★ 벡터의 기본 연산\n",
    "\n",
    "5. 벡터의 내적 구하기\n",
    "  - 벡터의 내적은 dot 함수 또는 @ 연산자를 활용\n",
    "  - dot 함수 : np.dot(x,y) : x, y는 벡터\n",
    "  - @ 연산자 활용 : x @ y"
   ]
  },
  {
   "cell_type": "markdown",
   "id": "297a1e1b",
   "metadata": {},
   "source": [
    "  6. 벡터의 외적 구하기\n",
    "      - 벡터의 외적은 cross 함수 활용\n",
    "      - cross 함수 : np.cross(x, y)"
   ]
  },
  {
   "cell_type": "markdown",
   "id": "71a66a8e",
   "metadata": {},
   "source": [
    "2) 행렬의 기본 연산\n",
    "  (1) 덧셈, 뺄셈, 곱셈\n",
    "      - 벡터와 동일\n",
    "        [행렬 곱셈의 법칙]\n",
    "          - 교환법칙 성립하지 않음 : A*B <> B*A\n",
    "          - 결합법칙 성립함 : (A*B)*C = A*(B*C)\n",
    "          - 배분법칙 성립함 : (A + B) * C = A*C + B*C   // (A - B) * C = A*C - B*C"
   ]
  },
  {
   "cell_type": "code",
   "execution_count": 74,
   "id": "fcb99032",
   "metadata": {},
   "outputs": [],
   "source": [
    "import numpy as np\n",
    "A=np.array([[1,2,3],[2,3,4]])  # 2 * 3\n",
    "B=np.array([[1,2],[0,1],[2,1]])  # 3 * 2\n",
    "C=np.mat(A)  # mat = matrix : 행열 => 배열을 행렬로 변경\n",
    "D=np.matrix(B)"
   ]
  },
  {
   "cell_type": "code",
   "execution_count": 75,
   "id": "9b1ee5a2",
   "metadata": {
    "scrolled": true
   },
   "outputs": [
    {
     "data": {
      "text/plain": [
       "matrix([[1, 2, 3],\n",
       "        [2, 3, 4]])"
      ]
     },
     "execution_count": 75,
     "metadata": {},
     "output_type": "execute_result"
    }
   ],
   "source": [
    "C"
   ]
  },
  {
   "cell_type": "code",
   "execution_count": 76,
   "id": "91ca96bc",
   "metadata": {},
   "outputs": [
    {
     "data": {
      "text/plain": [
       "array([[1, 2, 3],\n",
       "       [2, 3, 4]])"
      ]
     },
     "execution_count": 76,
     "metadata": {},
     "output_type": "execute_result"
    }
   ],
   "source": [
    "A"
   ]
  },
  {
   "cell_type": "code",
   "execution_count": 77,
   "id": "484928f7",
   "metadata": {},
   "outputs": [
    {
     "data": {
      "text/plain": [
       "matrix([[1, 2],\n",
       "        [0, 1],\n",
       "        [2, 1]])"
      ]
     },
     "execution_count": 77,
     "metadata": {},
     "output_type": "execute_result"
    }
   ],
   "source": [
    "D"
   ]
  },
  {
   "cell_type": "code",
   "execution_count": 78,
   "id": "2c176618",
   "metadata": {},
   "outputs": [
    {
     "data": {
      "text/plain": [
       "matrix([[ 7,  7],\n",
       "        [10, 11]])"
      ]
     },
     "execution_count": 78,
     "metadata": {},
     "output_type": "execute_result"
    }
   ],
   "source": [
    "C*D"
   ]
  },
  {
   "cell_type": "code",
   "execution_count": 79,
   "id": "7b412e28",
   "metadata": {
    "scrolled": true
   },
   "outputs": [
    {
     "data": {
      "text/plain": [
       "array([[ 7,  7],\n",
       "       [10, 11]])"
      ]
     },
     "execution_count": 79,
     "metadata": {},
     "output_type": "execute_result"
    }
   ],
   "source": [
    "np.dot(A,B)"
   ]
  },
  {
   "cell_type": "markdown",
   "id": "2f2abbc2",
   "metadata": {},
   "source": [
    "### A*B"
   ]
  },
  {
   "cell_type": "markdown",
   "id": "8d5d6483",
   "metadata": {},
   "source": [
    "---------------------------------------------------------------------------  \n",
    "ValueError                                Traceback (most recent call last)  \n",
    "Input In [32], in <cell line: 1>()  \n",
    "----> 1 A*B  \n",
    "  \n",
    "ValueError: operands could not be broadcast together with shapes (2,3) (3,2)"
   ]
  },
  {
   "cell_type": "code",
   "execution_count": 80,
   "id": "ee859930",
   "metadata": {},
   "outputs": [],
   "source": [
    "E=np.array([1,2])\n",
    "F=np.array([3,4])"
   ]
  },
  {
   "cell_type": "code",
   "execution_count": 81,
   "id": "a6a888bb",
   "metadata": {},
   "outputs": [
    {
     "data": {
      "text/plain": [
       "array([3, 8])"
      ]
     },
     "execution_count": 81,
     "metadata": {},
     "output_type": "execute_result"
    }
   ],
   "source": [
    "E*F"
   ]
  },
  {
   "cell_type": "code",
   "execution_count": 82,
   "id": "9dc1ae68",
   "metadata": {
    "scrolled": false
   },
   "outputs": [
    {
     "data": {
      "text/plain": [
       "array([[ 5,  8, 11],\n",
       "       [ 2,  3,  4],\n",
       "       [ 4,  7, 10]])"
      ]
     },
     "execution_count": 82,
     "metadata": {},
     "output_type": "execute_result"
    }
   ],
   "source": [
    "np.dot(B,A)"
   ]
  },
  {
   "cell_type": "code",
   "execution_count": 83,
   "id": "3b639234",
   "metadata": {},
   "outputs": [],
   "source": [
    "a=np.array([1,2])\n",
    "b=np.array([3,4])"
   ]
  },
  {
   "cell_type": "code",
   "execution_count": 84,
   "id": "98185e0a",
   "metadata": {},
   "outputs": [
    {
     "data": {
      "text/plain": [
       "array([3, 8])"
      ]
     },
     "execution_count": 84,
     "metadata": {},
     "output_type": "execute_result"
    }
   ],
   "source": [
    "a*b"
   ]
  },
  {
   "cell_type": "code",
   "execution_count": 85,
   "id": "61e68b4b",
   "metadata": {},
   "outputs": [
    {
     "data": {
      "text/plain": [
       "array(-2)"
      ]
     },
     "execution_count": 85,
     "metadata": {},
     "output_type": "execute_result"
    }
   ],
   "source": [
    "np.cross(a,b)"
   ]
  },
  {
   "cell_type": "code",
   "execution_count": 86,
   "id": "55d1413c",
   "metadata": {},
   "outputs": [
    {
     "data": {
      "text/plain": [
       "11"
      ]
     },
     "execution_count": 86,
     "metadata": {},
     "output_type": "execute_result"
    }
   ],
   "source": [
    "np.dot(a,b)"
   ]
  },
  {
   "cell_type": "code",
   "execution_count": 87,
   "id": "44b49152",
   "metadata": {},
   "outputs": [
    {
     "data": {
      "text/plain": [
       "11"
      ]
     },
     "execution_count": 87,
     "metadata": {},
     "output_type": "execute_result"
    }
   ],
   "source": [
    "a@b"
   ]
  },
  {
   "cell_type": "markdown",
   "id": "23dc6fc5",
   "metadata": {},
   "source": [
    "  (2) 행렬의 전치\n",
    "      - transpose 함수 또는 Numpy의 T 속성 이용\n",
    "      - 원소들의 행 인덱스와 열 인덱스를 바꾼 위치로 이동"
   ]
  },
  {
   "cell_type": "markdown",
   "id": "ca678b0b",
   "metadata": {},
   "source": [
    "(3) 항등행렬과 역행렬\n",
    "  - 특정 행렬과 곱하면 특정 행렬을 그대로 반환하는 행렬\n",
    "  - eye 함수 이용"
   ]
  },
  {
   "cell_type": "code",
   "execution_count": 88,
   "id": "1cbb73e7",
   "metadata": {},
   "outputs": [
    {
     "data": {
      "text/plain": [
       "array([[1, 0, 0],\n",
       "       [0, 1, 0],\n",
       "       [0, 0, 1]])"
      ]
     },
     "execution_count": 88,
     "metadata": {},
     "output_type": "execute_result"
    }
   ],
   "source": [
    "np.eye(3,dtype=np.int32)"
   ]
  },
  {
   "cell_type": "code",
   "execution_count": 89,
   "id": "5c41728e",
   "metadata": {},
   "outputs": [],
   "source": [
    "H=np.array([[1,2,3],\n",
    "           [4,5,6],[7,8,9]])"
   ]
  },
  {
   "cell_type": "code",
   "execution_count": 90,
   "id": "dcaca83d",
   "metadata": {},
   "outputs": [
    {
     "data": {
      "text/plain": [
       "array([[1., 0., 0.],\n",
       "       [0., 5., 0.],\n",
       "       [0., 0., 9.]])"
      ]
     },
     "execution_count": 90,
     "metadata": {},
     "output_type": "execute_result"
    }
   ],
   "source": [
    "H*np.eye(3)"
   ]
  },
  {
   "cell_type": "code",
   "execution_count": 91,
   "id": "e0d9ed32",
   "metadata": {},
   "outputs": [
    {
     "data": {
      "text/plain": [
       "array([[1., 2., 3.],\n",
       "       [4., 5., 6.],\n",
       "       [7., 8., 9.]])"
      ]
     },
     "execution_count": 91,
     "metadata": {},
     "output_type": "execute_result"
    }
   ],
   "source": [
    "np.dot(H,np.eye(3))"
   ]
  },
  {
   "cell_type": "code",
   "execution_count": 92,
   "id": "64e2019e",
   "metadata": {},
   "outputs": [],
   "source": [
    "c=np.array([[1,2,3]]).T"
   ]
  },
  {
   "cell_type": "code",
   "execution_count": 93,
   "id": "9c18ee4f",
   "metadata": {},
   "outputs": [
    {
     "data": {
      "text/plain": [
       "array([[1],\n",
       "       [2],\n",
       "       [3]])"
      ]
     },
     "execution_count": 93,
     "metadata": {},
     "output_type": "execute_result"
    }
   ],
   "source": [
    "c"
   ]
  },
  {
   "cell_type": "code",
   "execution_count": 94,
   "id": "0c81b10d",
   "metadata": {},
   "outputs": [],
   "source": [
    "d=np.array([[4,5,6,7]])"
   ]
  },
  {
   "cell_type": "code",
   "execution_count": 95,
   "id": "1bdcc4ee",
   "metadata": {},
   "outputs": [
    {
     "data": {
      "text/plain": [
       "array([[4, 5, 6, 7]])"
      ]
     },
     "execution_count": 95,
     "metadata": {},
     "output_type": "execute_result"
    }
   ],
   "source": [
    "d"
   ]
  },
  {
   "cell_type": "code",
   "execution_count": 96,
   "id": "1d61e418",
   "metadata": {},
   "outputs": [
    {
     "data": {
      "text/plain": [
       "array([[ 4,  5,  6,  7],\n",
       "       [ 8, 10, 12, 14],\n",
       "       [12, 15, 18, 21]])"
      ]
     },
     "execution_count": 96,
     "metadata": {},
     "output_type": "execute_result"
    }
   ],
   "source": [
    "c*d"
   ]
  },
  {
   "cell_type": "code",
   "execution_count": 97,
   "id": "af0e9645",
   "metadata": {},
   "outputs": [
    {
     "data": {
      "text/plain": [
       "array([[ 4,  5,  6,  7],\n",
       "       [ 8, 10, 12, 14],\n",
       "       [12, 15, 18, 21]])"
      ]
     },
     "execution_count": 97,
     "metadata": {},
     "output_type": "execute_result"
    }
   ],
   "source": [
    "np.dot(c,d)"
   ]
  },
  {
   "cell_type": "code",
   "execution_count": 98,
   "id": "86d103c9",
   "metadata": {},
   "outputs": [
    {
     "data": {
      "text/plain": [
       "array([[1],\n",
       "       [2],\n",
       "       [3]])"
      ]
     },
     "execution_count": 98,
     "metadata": {},
     "output_type": "execute_result"
    }
   ],
   "source": [
    "c"
   ]
  },
  {
   "cell_type": "code",
   "execution_count": 99,
   "id": "9d461d0d",
   "metadata": {},
   "outputs": [
    {
     "data": {
      "text/plain": [
       "array([[4, 5, 6, 7]])"
      ]
     },
     "execution_count": 99,
     "metadata": {},
     "output_type": "execute_result"
    }
   ],
   "source": [
    "d"
   ]
  },
  {
   "cell_type": "code",
   "execution_count": 100,
   "id": "4a6151c3",
   "metadata": {},
   "outputs": [
    {
     "data": {
      "text/plain": [
       "array([[ 4,  5,  6,  7],\n",
       "       [ 8, 10, 12, 14],\n",
       "       [12, 15, 18, 21]])"
      ]
     },
     "execution_count": 100,
     "metadata": {},
     "output_type": "execute_result"
    }
   ],
   "source": [
    "c*d"
   ]
  },
  {
   "cell_type": "code",
   "execution_count": 101,
   "id": "876367f6",
   "metadata": {},
   "outputs": [
    {
     "data": {
      "text/plain": [
       "array([[1],\n",
       "       [2],\n",
       "       [3]])"
      ]
     },
     "execution_count": 101,
     "metadata": {},
     "output_type": "execute_result"
    }
   ],
   "source": [
    "c"
   ]
  },
  {
   "cell_type": "code",
   "execution_count": 102,
   "id": "f471bf37",
   "metadata": {},
   "outputs": [
    {
     "data": {
      "text/plain": [
       "array([[4, 5, 6, 7]])"
      ]
     },
     "execution_count": 102,
     "metadata": {},
     "output_type": "execute_result"
    }
   ],
   "source": [
    "d"
   ]
  },
  {
   "cell_type": "code",
   "execution_count": 103,
   "id": "c8b11e22",
   "metadata": {},
   "outputs": [
    {
     "data": {
      "text/plain": [
       "array([[ 4,  8, 12],\n",
       "       [ 3,  6,  9],\n",
       "       [ 2,  4,  6]])"
      ]
     },
     "execution_count": 103,
     "metadata": {},
     "output_type": "execute_result"
    }
   ],
   "source": [
    "i=np.array([[1,2,3]])\n",
    "j=np.array([[4,3,2]]).T\n",
    "j*i"
   ]
  },
  {
   "cell_type": "code",
   "execution_count": 104,
   "id": "c26fb437",
   "metadata": {},
   "outputs": [
    {
     "data": {
      "text/plain": [
       "array([[4],\n",
       "       [3],\n",
       "       [2]])"
      ]
     },
     "execution_count": 104,
     "metadata": {},
     "output_type": "execute_result"
    }
   ],
   "source": [
    "j"
   ]
  },
  {
   "cell_type": "code",
   "execution_count": 105,
   "id": "b57c2f32",
   "metadata": {},
   "outputs": [
    {
     "data": {
      "text/plain": [
       "array([[16]])"
      ]
     },
     "execution_count": 105,
     "metadata": {},
     "output_type": "execute_result"
    }
   ],
   "source": [
    "np.dot(i,j)"
   ]
  },
  {
   "cell_type": "code",
   "execution_count": 106,
   "id": "d42c005f",
   "metadata": {},
   "outputs": [
    {
     "data": {
      "text/plain": [
       "array([[1],\n",
       "       [2],\n",
       "       [3]])"
      ]
     },
     "execution_count": 106,
     "metadata": {},
     "output_type": "execute_result"
    }
   ],
   "source": [
    "np.array([[1,2,3]]).T"
   ]
  },
  {
   "cell_type": "code",
   "execution_count": 107,
   "id": "af7600a5",
   "metadata": {},
   "outputs": [],
   "source": [
    "A1=np.array([[1,2],[4,5]])"
   ]
  },
  {
   "cell_type": "markdown",
   "id": "1006aedd",
   "metadata": {},
   "source": [
    "(4) 역행렬\n",
    "    - 특정 행렬과 곱하면 항등행렬이 나오는 행렬\n",
    "    - np.linalg.inv 함수 이용"
   ]
  },
  {
   "cell_type": "code",
   "execution_count": 108,
   "id": "aa84ff23",
   "metadata": {},
   "outputs": [],
   "source": [
    "A1 = np.array([[1, 2], [3, 4]])"
   ]
  },
  {
   "cell_type": "code",
   "execution_count": 109,
   "id": "f33778cf",
   "metadata": {},
   "outputs": [
    {
     "data": {
      "text/plain": [
       "array([[-2. ,  1. ],\n",
       "       [ 1.5, -0.5]])"
      ]
     },
     "execution_count": 109,
     "metadata": {},
     "output_type": "execute_result"
    }
   ],
   "source": [
    "in1=np.linalg.inv(A1);in1"
   ]
  },
  {
   "cell_type": "code",
   "execution_count": 110,
   "id": "45e082eb",
   "metadata": {},
   "outputs": [
    {
     "data": {
      "text/plain": [
       "array([[-2. ,  2. ],\n",
       "       [ 4.5, -2. ]])"
      ]
     },
     "execution_count": 110,
     "metadata": {},
     "output_type": "execute_result"
    }
   ],
   "source": [
    "A1*in1"
   ]
  },
  {
   "cell_type": "code",
   "execution_count": 111,
   "id": "000f1a44",
   "metadata": {},
   "outputs": [
    {
     "data": {
      "text/plain": [
       "array([[1.00000000e+00, 1.11022302e-16],\n",
       "       [0.00000000e+00, 1.00000000e+00]])"
      ]
     },
     "execution_count": 111,
     "metadata": {},
     "output_type": "execute_result"
    }
   ],
   "source": [
    "np.dot(A1,in1)"
   ]
  },
  {
   "cell_type": "markdown",
   "id": "62a93594",
   "metadata": {},
   "source": [
    "- 행렬과 벡터 간의 곱셈  \n",
    "    - 행렬에 있는 원소와 벡터의 성분을 곱하여 계산  \n",
    "    - 행렬을 열벡터 또는 행벡터로 바꾸어 계산"
   ]
  },
  {
   "cell_type": "code",
   "execution_count": 112,
   "id": "04f8a905",
   "metadata": {},
   "outputs": [],
   "source": [
    "A = np.array([[1, 2, 3],[4, 5, 6],[7, 8, 9]])  # 행렬\n",
    "V = np.array([10,20,30])  # 벡터"
   ]
  },
  {
   "cell_type": "code",
   "execution_count": 113,
   "id": "5c337a5d",
   "metadata": {},
   "outputs": [
    {
     "data": {
      "text/plain": [
       "array([140, 320, 500])"
      ]
     },
     "execution_count": 113,
     "metadata": {},
     "output_type": "execute_result"
    }
   ],
   "source": [
    "np.dot(A,V)\n",
    "# (1x10)+(2x20)+(3x30) = 140\n",
    "# (4x10)+(5x20)+(6x30) = 320\n",
    "# (7x10)+(8x20)+(9x30) = 500"
   ]
  },
  {
   "cell_type": "code",
   "execution_count": 114,
   "id": "70a2dc6f",
   "metadata": {},
   "outputs": [
    {
     "data": {
      "text/plain": [
       "array([[ 10,  40,  90],\n",
       "       [ 40, 100, 180],\n",
       "       [ 70, 160, 270]])"
      ]
     },
     "execution_count": 114,
     "metadata": {},
     "output_type": "execute_result"
    }
   ],
   "source": [
    "A*V  # 브로드캐스팅연산 : V가 A의 각 행마다 계산되는 연산"
   ]
  },
  {
   "cell_type": "code",
   "execution_count": 115,
   "id": "abfb08fb",
   "metadata": {},
   "outputs": [
    {
     "data": {
      "text/plain": [
       "array([[1, 2, 3],\n",
       "       [4, 5, 6],\n",
       "       [7, 8, 9]])"
      ]
     },
     "execution_count": 115,
     "metadata": {},
     "output_type": "execute_result"
    }
   ],
   "source": [
    "A"
   ]
  },
  {
   "cell_type": "code",
   "execution_count": 116,
   "id": "9f7d28c0",
   "metadata": {},
   "outputs": [
    {
     "data": {
      "text/plain": [
       "array([[1, 2, 3],\n",
       "       [4, 5, 6],\n",
       "       [7, 8, 9]])"
      ]
     },
     "execution_count": 116,
     "metadata": {},
     "output_type": "execute_result"
    }
   ],
   "source": [
    "A[:]"
   ]
  },
  {
   "cell_type": "code",
   "execution_count": 117,
   "id": "f3337dad",
   "metadata": {},
   "outputs": [
    {
     "data": {
      "text/plain": [
       "array([[1, 2, 3]])"
      ]
     },
     "execution_count": 117,
     "metadata": {},
     "output_type": "execute_result"
    }
   ],
   "source": [
    "A[0:1]  # 0행벡터 꺼냄"
   ]
  },
  {
   "cell_type": "code",
   "execution_count": 118,
   "id": "3b99dc33",
   "metadata": {},
   "outputs": [
    {
     "data": {
      "text/plain": [
       "array([[7, 8, 9]])"
      ]
     },
     "execution_count": 118,
     "metadata": {},
     "output_type": "execute_result"
    }
   ],
   "source": [
    "A[2:3]  # 2행벡터 꺼냄"
   ]
  },
  {
   "cell_type": "code",
   "execution_count": 119,
   "id": "2d23049f",
   "metadata": {},
   "outputs": [
    {
     "data": {
      "text/plain": [
       "array([1, 4, 7])"
      ]
     },
     "execution_count": 119,
     "metadata": {},
     "output_type": "execute_result"
    }
   ],
   "source": [
    "A[:,0]  # 0열벡터 꺼냄"
   ]
  },
  {
   "cell_type": "code",
   "execution_count": 120,
   "id": "020d634d",
   "metadata": {
    "scrolled": true
   },
   "outputs": [
    {
     "data": {
      "text/plain": [
       "array([2, 5, 8])"
      ]
     },
     "execution_count": 120,
     "metadata": {},
     "output_type": "execute_result"
    }
   ],
   "source": [
    "A[:,1]  # 1열벡터 꺼냄"
   ]
  },
  {
   "cell_type": "markdown",
   "id": "93c14ee8",
   "metadata": {},
   "source": [
    "- 크기가 다른 행렬의 곱셈  \n",
    "    - m X n인 행렬과 n X p인 행렬을 곱하면 m X p 행렬이 만들어짐  \n",
    "    - 한 행렬의 열크기와 곱할 행렬의 행크기가 서로 같아야 함  \n",
    "    - dot 함수를 이용(* 연산은 에러발생)"
   ]
  },
  {
   "cell_type": "code",
   "execution_count": 121,
   "id": "c406e69b",
   "metadata": {},
   "outputs": [],
   "source": [
    "a = np.array([[1, 2, 3], [3, 4, 5]])  # 2 * 3 행렬\n",
    "b = np.array([[1, 2, 3], [3, 4, 5], [5, 6, 7]])  # 3 * 3 행렬"
   ]
  },
  {
   "cell_type": "markdown",
   "id": "2ce73281",
   "metadata": {},
   "source": [
    "a*b  \n",
    "=> 대응되는 행렬이 달라 에러발생"
   ]
  },
  {
   "cell_type": "markdown",
   "id": "a1e32348",
   "metadata": {},
   "source": [
    "---------------------------------------------------------------------------  \n",
    "ValueError                                Traceback (most recent call last)  \n",
    "Input In [86], in <cell line: 1>()  \n",
    "----> 1 a*b  \n",
    "  \n",
    "ValueError: operands could not be broadcast together with shapes (2,3) (3,3)   "
   ]
  },
  {
   "cell_type": "code",
   "execution_count": 122,
   "id": "1bec214c",
   "metadata": {},
   "outputs": [
    {
     "data": {
      "text/plain": [
       "array([[22, 28, 34],\n",
       "       [40, 52, 64]])"
      ]
     },
     "execution_count": 122,
     "metadata": {},
     "output_type": "execute_result"
    }
   ],
   "source": [
    "np.dot(a, b)  # (2 * 3) * (3 * 3) => 2 * 3"
   ]
  },
  {
   "cell_type": "markdown",
   "id": "0c6e5593",
   "metadata": {},
   "source": [
    "### np.dot(b, a)  \n",
    "=> (3 * 3) * (2 * 3) => 3 * 3인데 a에 대응되는 값 초과되서 에러"
   ]
  },
  {
   "cell_type": "markdown",
   "id": "e7f7ca3e",
   "metadata": {},
   "source": [
    "---------------------------------------------------------------------------  \n",
    "ValueError                                Traceback (most recent call last)  \n",
    "Input In [89], in <cell line: 1>()  \n",
    "----> 1 np.dot(b, a)  \n",
    "  \n",
    "File <__array_function__ internals>:5, in dot(*args, **kwargs)  \n",
    "  \n",
    "ValueError: shapes (3,3) and (2,3) not aligned: 3 (dim 1) != 2 (dim 0)"
   ]
  },
  {
   "cell_type": "markdown",
   "id": "a5a1f5fc",
   "metadata": {},
   "source": [
    "- 스칼라와 벡터의 곱셈  \n",
    "    - 스칼라를 벡터의 성분과 곱하여 계산"
   ]
  },
  {
   "cell_type": "code",
   "execution_count": 123,
   "id": "9f84a78d",
   "metadata": {},
   "outputs": [
    {
     "data": {
      "text/plain": [
       "array([[1],\n",
       "       [2],\n",
       "       [3]])"
      ]
     },
     "execution_count": 123,
     "metadata": {},
     "output_type": "execute_result"
    }
   ],
   "source": [
    "v = np.array([[1, 2, 3]]).T\n",
    "v"
   ]
  },
  {
   "cell_type": "code",
   "execution_count": 124,
   "id": "2baf0212",
   "metadata": {},
   "outputs": [
    {
     "data": {
      "text/plain": [
       "array([[10],\n",
       "       [20],\n",
       "       [30]])"
      ]
     },
     "execution_count": 124,
     "metadata": {},
     "output_type": "execute_result"
    }
   ],
   "source": [
    "v * 10"
   ]
  },
  {
   "cell_type": "code",
   "execution_count": 125,
   "id": "f52d644a",
   "metadata": {},
   "outputs": [
    {
     "data": {
      "text/plain": [
       "array([ 2,  6, 12])"
      ]
     },
     "execution_count": 125,
     "metadata": {},
     "output_type": "execute_result"
    }
   ],
   "source": [
    "a = np.array([1, 2, 3])\n",
    "b = np.array([2, 3, 4])\n",
    "a*b"
   ]
  },
  {
   "cell_type": "code",
   "execution_count": 126,
   "id": "1065dcdd",
   "metadata": {},
   "outputs": [
    {
     "data": {
      "text/plain": [
       "array([[ 2,  6, 12],\n",
       "       [ 6,  6,  4]])"
      ]
     },
     "execution_count": 126,
     "metadata": {},
     "output_type": "execute_result"
    }
   ],
   "source": [
    "a = np.array([[1, 2, 3], [2, 3, 4]])\n",
    "b = np.array([[2, 3, 4], [3, 2, 1]])\n",
    "a*b"
   ]
  },
  {
   "cell_type": "markdown",
   "id": "c98135eb",
   "metadata": {},
   "source": [
    "### 연립방정식  => 계수의 역행렬을 결과배열에 곱하는 것\n",
    "4x * 3y = 23  \n",
    "3x * 2y = 16"
   ]
  },
  {
   "cell_type": "code",
   "execution_count": 127,
   "id": "ae0f2256",
   "metadata": {},
   "outputs": [],
   "source": [
    "A = np.array([[4, 3],[3, 2]])\n",
    "b = np.array([23, 16])"
   ]
  },
  {
   "cell_type": "code",
   "execution_count": 128,
   "id": "d0c07a40",
   "metadata": {},
   "outputs": [],
   "source": [
    "InvA = np.linalg.inv(A)  # A의 역행렬"
   ]
  },
  {
   "cell_type": "code",
   "execution_count": 129,
   "id": "daf4e588",
   "metadata": {},
   "outputs": [],
   "source": [
    "x = np.dot(InvA,b)"
   ]
  },
  {
   "cell_type": "code",
   "execution_count": 130,
   "id": "0f1fad29",
   "metadata": {},
   "outputs": [
    {
     "data": {
      "text/plain": [
       "array([2., 5.])"
      ]
     },
     "execution_count": 130,
     "metadata": {},
     "output_type": "execute_result"
    }
   ],
   "source": [
    "x"
   ]
  },
  {
   "cell_type": "markdown",
   "id": "efcb7e03",
   "metadata": {},
   "source": [
    "찾은 해의 결과가 맞는지 확인하는 방법  \n",
    "np.allclose(np.dot(A,x),b)  \n",
    " => 결과가 True이면 맞는 해"
   ]
  },
  {
   "cell_type": "code",
   "execution_count": 131,
   "id": "dfd7d4c8",
   "metadata": {},
   "outputs": [
    {
     "data": {
      "text/plain": [
       "True"
      ]
     },
     "execution_count": 131,
     "metadata": {},
     "output_type": "execute_result"
    }
   ],
   "source": [
    "np.allclose(np.dot(A,x),b)"
   ]
  },
  {
   "cell_type": "markdown",
   "id": "0f1a309f",
   "metadata": {},
   "source": [
    "연립방정식 풀이2  \n",
    "    - solve함수 이용 (방정식의 개수와 미지수의 개수가 같을 경우)  \n",
    "    np.linalg.solve(계수행렬, 결과행렬)"
   ]
  },
  {
   "cell_type": "code",
   "execution_count": 132,
   "id": "edd651dd",
   "metadata": {},
   "outputs": [
    {
     "data": {
      "text/plain": [
       "array([2., 5.])"
      ]
     },
     "execution_count": 132,
     "metadata": {},
     "output_type": "execute_result"
    }
   ],
   "source": [
    "np.linalg.solve(A,b)"
   ]
  },
  {
   "cell_type": "markdown",
   "id": "f75ab7da",
   "metadata": {},
   "source": [
    "* 연립방정식의 개수와 미지수가 다른 경우  \n",
    "1x + 4y + 3z = 23  \n",
    "1x + 3y + 2z = 16\n",
    "  \n",
    "* np.linalg.lstsq(계수행렬, 결과행렬, rcond=None)[0]  "
   ]
  },
  {
   "cell_type": "code",
   "execution_count": 133,
   "id": "598af6a8",
   "metadata": {},
   "outputs": [],
   "source": [
    "A = np.array([[1, 4, 3], [1, 3, 2]])  # 계수행렬\n",
    "b = np.array([23, 16])  # 결과행렬"
   ]
  },
  {
   "cell_type": "code",
   "execution_count": 134,
   "id": "2c2c4b92",
   "metadata": {},
   "outputs": [],
   "source": [
    "x = np.linalg.lstsq(A, b, rcond=None)"
   ]
  },
  {
   "cell_type": "code",
   "execution_count": 135,
   "id": "56161dfc",
   "metadata": {},
   "outputs": [
    {
     "data": {
      "text/plain": [
       "(array([-1.,  3.,  4.]),\n",
       " array([], dtype=float64),\n",
       " 2,\n",
       " array([6.3186121 , 0.27411887]))"
      ]
     },
     "execution_count": 135,
     "metadata": {},
     "output_type": "execute_result"
    }
   ],
   "source": [
    "x"
   ]
  },
  {
   "cell_type": "code",
   "execution_count": 136,
   "id": "c33c73f9",
   "metadata": {},
   "outputs": [],
   "source": [
    "x = np.linalg.lstsq(A, b, rcond=None)[0]   # 미지수 값만 가져옴(미지수값은 0번째 행에 들어있음)"
   ]
  },
  {
   "cell_type": "code",
   "execution_count": 137,
   "id": "802e5b4c",
   "metadata": {},
   "outputs": [
    {
     "data": {
      "text/plain": [
       "array([-1.,  3.,  4.])"
      ]
     },
     "execution_count": 137,
     "metadata": {},
     "output_type": "execute_result"
    }
   ],
   "source": [
    "x"
   ]
  },
  {
   "cell_type": "markdown",
   "id": "de6f5983",
   "metadata": {},
   "source": [
    "3x + 5y + 4z = 34  \n",
    "2x + 4y + 5z = 23  \n",
    "4x + 1y + 3z = 27  "
   ]
  },
  {
   "cell_type": "code",
   "execution_count": 138,
   "id": "14d8c868",
   "metadata": {},
   "outputs": [],
   "source": [
    "A = np.array([[3, 5, 4], [2, 4, 5], [4, 1, 3]])\n",
    "b = np.array([34, 23, 27])"
   ]
  },
  {
   "cell_type": "code",
   "execution_count": 139,
   "id": "a6e625cf",
   "metadata": {},
   "outputs": [
    {
     "data": {
      "text/plain": [
       "array([ 6.51428571,  3.6       , -0.88571429])"
      ]
     },
     "execution_count": 139,
     "metadata": {},
     "output_type": "execute_result"
    }
   ],
   "source": [
    "np.linalg.solve(A, b)"
   ]
  },
  {
   "cell_type": "markdown",
   "id": "8b30ecde",
   "metadata": {},
   "source": [
    "* 2차원 배열의 행렬식 계산"
   ]
  },
  {
   "cell_type": "code",
   "execution_count": 140,
   "id": "bfa02421",
   "metadata": {},
   "outputs": [],
   "source": [
    "A = np.array([[1, 3], [2, 2]])"
   ]
  },
  {
   "cell_type": "code",
   "execution_count": 141,
   "id": "57bda380",
   "metadata": {},
   "outputs": [
    {
     "data": {
      "text/plain": [
       "-4.0"
      ]
     },
     "execution_count": 141,
     "metadata": {},
     "output_type": "execute_result"
    }
   ],
   "source": [
    "np.linalg.det(A)  # 2차원 행렬식의 결과"
   ]
  },
  {
   "cell_type": "code",
   "execution_count": 142,
   "id": "3482407a",
   "metadata": {},
   "outputs": [],
   "source": [
    "B = np.array([[8, 5, 3], [4, 1, 6], [7, 10, 9]])"
   ]
  },
  {
   "cell_type": "code",
   "execution_count": 145,
   "id": "a723a660",
   "metadata": {},
   "outputs": [
    {
     "data": {
      "text/plain": [
       "-278.99999999999994"
      ]
     },
     "execution_count": 145,
     "metadata": {},
     "output_type": "execute_result"
    }
   ],
   "source": [
    "np.linalg.det(B)"
   ]
  },
  {
   "cell_type": "code",
   "execution_count": null,
   "id": "772a590f",
   "metadata": {},
   "outputs": [],
   "source": []
  }
 ],
 "metadata": {
  "kernelspec": {
   "display_name": "Python 3 (ipykernel)",
   "language": "python",
   "name": "python3"
  },
  "language_info": {
   "codemirror_mode": {
    "name": "ipython",
    "version": 3
   },
   "file_extension": ".py",
   "mimetype": "text/x-python",
   "name": "python",
   "nbconvert_exporter": "python",
   "pygments_lexer": "ipython3",
   "version": "3.9.12"
  }
 },
 "nbformat": 4,
 "nbformat_minor": 5
}
