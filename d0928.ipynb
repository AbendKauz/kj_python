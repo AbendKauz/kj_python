{
 "cells": [
  {
   "cell_type": "code",
   "execution_count": 89,
   "id": "46bb522a",
   "metadata": {},
   "outputs": [],
   "source": [
    "import numpy as np"
   ]
  },
  {
   "cell_type": "markdown",
   "id": "57ac5f4b",
   "metadata": {},
   "source": [
    "### 1. 배열을 만들고 조건에 맞는 코드 작성"
   ]
  },
  {
   "cell_type": "code",
   "execution_count": 90,
   "id": "d6eb98fd",
   "metadata": {},
   "outputs": [
    {
     "data": {
      "text/plain": [
       "array([[ 80,  90,  85],\n",
       "       [ 75,  60,  80],\n",
       "       [ 95, 100,  90]])"
      ]
     },
     "execution_count": 90,
     "metadata": {},
     "output_type": "execute_result"
    }
   ],
   "source": [
    "a = np.array([[80, 90, 85], [75, 60, 80], [95, 100, 90]])\n",
    "a"
   ]
  },
  {
   "cell_type": "markdown",
   "id": "6a0abeb2",
   "metadata": {},
   "source": [
    "1.1) 85이상인 값 추출"
   ]
  },
  {
   "cell_type": "code",
   "execution_count": 91,
   "id": "8d2282a3",
   "metadata": {},
   "outputs": [
    {
     "data": {
      "text/plain": [
       "array([ 90,  85,  95, 100,  90])"
      ]
     },
     "execution_count": 91,
     "metadata": {},
     "output_type": "execute_result"
    }
   ],
   "source": [
    "a[a>=85]"
   ]
  },
  {
   "cell_type": "markdown",
   "id": "de9fb7f2",
   "metadata": {},
   "source": [
    "1.2) 85이상인 값의 인덱스 추출"
   ]
  },
  {
   "cell_type": "code",
   "execution_count": 92,
   "id": "da8cd258",
   "metadata": {},
   "outputs": [
    {
     "data": {
      "text/plain": [
       "(array([0, 0, 2, 2, 2], dtype=int64), array([1, 2, 0, 1, 2], dtype=int64))"
      ]
     },
     "execution_count": 92,
     "metadata": {},
     "output_type": "execute_result"
    }
   ],
   "source": [
    "np.where(a>=85)"
   ]
  },
  {
   "cell_type": "markdown",
   "id": "43466272",
   "metadata": {},
   "source": [
    "1.3) 85이상인 값을 3행 3열의 배열로 추출하되, 조건에 맞지 않으면 0으로 추출"
   ]
  },
  {
   "cell_type": "code",
   "execution_count": 93,
   "id": "6cf225c3",
   "metadata": {},
   "outputs": [
    {
     "data": {
      "text/plain": [
       "array([[  0,  90,  85],\n",
       "       [  0,   0,   0],\n",
       "       [ 95, 100,  90]])"
      ]
     },
     "execution_count": 93,
     "metadata": {},
     "output_type": "execute_result"
    }
   ],
   "source": [
    "np.where(a>=85, a, 0)"
   ]
  },
  {
   "cell_type": "markdown",
   "id": "4cce217d",
   "metadata": {},
   "source": [
    "### 2. 두 개의 배열을 만들고 조건에 맞는 코드 작성"
   ]
  },
  {
   "cell_type": "code",
   "execution_count": 94,
   "id": "8b0e53f0",
   "metadata": {},
   "outputs": [
    {
     "data": {
      "text/plain": [
       "array([80, 90, 85])"
      ]
     },
     "execution_count": 94,
     "metadata": {},
     "output_type": "execute_result"
    }
   ],
   "source": [
    "a = np.array([80, 90, 85])\n",
    "b = np.array([95, 100, 90])\n",
    "a"
   ]
  },
  {
   "cell_type": "code",
   "execution_count": 95,
   "id": "a71b3ed9",
   "metadata": {},
   "outputs": [
    {
     "data": {
      "text/plain": [
       "array([ 95, 100,  90])"
      ]
     },
     "execution_count": 95,
     "metadata": {},
     "output_type": "execute_result"
    }
   ],
   "source": [
    "b"
   ]
  },
  {
   "cell_type": "markdown",
   "id": "7f88ef2c",
   "metadata": {},
   "source": [
    "2.1) 두 배열의 덧셈결과 출력"
   ]
  },
  {
   "cell_type": "code",
   "execution_count": 96,
   "id": "eba6d02a",
   "metadata": {},
   "outputs": [
    {
     "data": {
      "text/plain": [
       "array([175, 190, 175])"
      ]
     },
     "execution_count": 96,
     "metadata": {},
     "output_type": "execute_result"
    }
   ],
   "source": [
    "np.add(a,b)"
   ]
  },
  {
   "cell_type": "markdown",
   "id": "ff8fc2b2",
   "metadata": {},
   "source": [
    "2.2) 두 배열의 뺄셈결과 출력"
   ]
  },
  {
   "cell_type": "code",
   "execution_count": 97,
   "id": "6db91fd5",
   "metadata": {},
   "outputs": [
    {
     "data": {
      "text/plain": [
       "array([-15, -10,  -5])"
      ]
     },
     "execution_count": 97,
     "metadata": {},
     "output_type": "execute_result"
    }
   ],
   "source": [
    "np.subtract(a, b)"
   ]
  },
  {
   "cell_type": "code",
   "execution_count": 98,
   "id": "9f85c862",
   "metadata": {},
   "outputs": [
    {
     "data": {
      "text/plain": [
       "array([15, 10,  5])"
      ]
     },
     "execution_count": 98,
     "metadata": {},
     "output_type": "execute_result"
    }
   ],
   "source": [
    "np.subtract(b, a)"
   ]
  },
  {
   "cell_type": "markdown",
   "id": "0634d9d9",
   "metadata": {},
   "source": [
    "2.3) 두 배열의 곱셈결과 출력"
   ]
  },
  {
   "cell_type": "code",
   "execution_count": 99,
   "id": "f2a253c1",
   "metadata": {},
   "outputs": [
    {
     "data": {
      "text/plain": [
       "array([7600, 9000, 7650])"
      ]
     },
     "execution_count": 99,
     "metadata": {},
     "output_type": "execute_result"
    }
   ],
   "source": [
    "np.multiply(a, b)"
   ]
  },
  {
   "cell_type": "markdown",
   "id": "36b358ba",
   "metadata": {},
   "source": [
    "2.4) 두 배열의 나눈결과 출력"
   ]
  },
  {
   "cell_type": "code",
   "execution_count": 100,
   "id": "ebbac397",
   "metadata": {},
   "outputs": [
    {
     "data": {
      "text/plain": [
       "array([0.84210526, 0.9       , 0.94444444])"
      ]
     },
     "execution_count": 100,
     "metadata": {},
     "output_type": "execute_result"
    }
   ],
   "source": [
    "np.divide(a, b)"
   ]
  },
  {
   "cell_type": "code",
   "execution_count": 101,
   "id": "59d3f817",
   "metadata": {},
   "outputs": [
    {
     "data": {
      "text/plain": [
       "array([1.1875    , 1.11111111, 1.05882353])"
      ]
     },
     "execution_count": 101,
     "metadata": {},
     "output_type": "execute_result"
    }
   ],
   "source": [
    "np.divide(b, a)"
   ]
  },
  {
   "cell_type": "markdown",
   "id": "ad2b7699",
   "metadata": {},
   "source": [
    "2.5) 두 배열의 나머지 출력"
   ]
  },
  {
   "cell_type": "code",
   "execution_count": 102,
   "id": "707e9b41",
   "metadata": {},
   "outputs": [
    {
     "data": {
      "text/plain": [
       "array([80, 90, 85], dtype=int32)"
      ]
     },
     "execution_count": 102,
     "metadata": {},
     "output_type": "execute_result"
    }
   ],
   "source": [
    "np.mod(a, b)"
   ]
  },
  {
   "cell_type": "code",
   "execution_count": 103,
   "id": "ad86265a",
   "metadata": {},
   "outputs": [
    {
     "data": {
      "text/plain": [
       "array([15, 10,  5], dtype=int32)"
      ]
     },
     "execution_count": 103,
     "metadata": {},
     "output_type": "execute_result"
    }
   ],
   "source": [
    "np.mod(b, a)"
   ]
  },
  {
   "cell_type": "markdown",
   "id": "6d48e171",
   "metadata": {},
   "source": [
    "2.6) 두 배열의 몫과 나머지 출력"
   ]
  },
  {
   "cell_type": "code",
   "execution_count": 104,
   "id": "a7229b67",
   "metadata": {},
   "outputs": [
    {
     "data": {
      "text/plain": [
       "(array([0, 0, 0], dtype=int32), array([80, 90, 85], dtype=int32))"
      ]
     },
     "execution_count": 104,
     "metadata": {},
     "output_type": "execute_result"
    }
   ],
   "source": [
    "np.divmod(a, b)"
   ]
  },
  {
   "cell_type": "code",
   "execution_count": 105,
   "id": "bd8a124e",
   "metadata": {},
   "outputs": [
    {
     "data": {
      "text/plain": [
       "(array([1, 1, 1], dtype=int32), array([15, 10,  5], dtype=int32))"
      ]
     },
     "execution_count": 105,
     "metadata": {},
     "output_type": "execute_result"
    }
   ],
   "source": [
    "np.divmod(b, a)"
   ]
  },
  {
   "cell_type": "markdown",
   "id": "bbe09415",
   "metadata": {},
   "source": [
    "### 3. 다음 배열을 만들고 조건에 맞는 코드 작성"
   ]
  },
  {
   "cell_type": "code",
   "execution_count": 106,
   "id": "b4cebe03",
   "metadata": {},
   "outputs": [
    {
     "data": {
      "text/plain": [
       "array([ 80,  70,  90,  65, 100,  85])"
      ]
     },
     "execution_count": 106,
     "metadata": {},
     "output_type": "execute_result"
    }
   ],
   "source": [
    "a = np.array([80, 70, 90, 65, 100, 85])\n",
    "a"
   ]
  },
  {
   "cell_type": "markdown",
   "id": "01306ffa",
   "metadata": {},
   "source": [
    "3.1) 80 ~ 100 사이의 값 출력"
   ]
  },
  {
   "cell_type": "code",
   "execution_count": 107,
   "id": "49cf54ea",
   "metadata": {},
   "outputs": [
    {
     "data": {
      "text/plain": [
       "array([90, 85])"
      ]
     },
     "execution_count": 107,
     "metadata": {},
     "output_type": "execute_result"
    }
   ],
   "source": [
    "a[np.where((a > 80) & (a < 100))]"
   ]
  },
  {
   "cell_type": "markdown",
   "id": "765c75e6",
   "metadata": {},
   "source": [
    "3.2) 85이상인 값 출력"
   ]
  },
  {
   "cell_type": "code",
   "execution_count": 108,
   "id": "79a09e2e",
   "metadata": {},
   "outputs": [
    {
     "data": {
      "text/plain": [
       "array([ 90, 100,  85])"
      ]
     },
     "execution_count": 108,
     "metadata": {},
     "output_type": "execute_result"
    }
   ],
   "source": [
    "a[np.where(a>=85)]"
   ]
  },
  {
   "cell_type": "markdown",
   "id": "03bfd465",
   "metadata": {},
   "source": [
    "3.3) 홀수값 출력"
   ]
  },
  {
   "cell_type": "code",
   "execution_count": 109,
   "id": "1376efc8",
   "metadata": {},
   "outputs": [
    {
     "data": {
      "text/plain": [
       "array([65, 85])"
      ]
     },
     "execution_count": 109,
     "metadata": {},
     "output_type": "execute_result"
    }
   ],
   "source": [
    "a[np.where(a%2==1)]"
   ]
  },
  {
   "cell_type": "markdown",
   "id": "1ae9f194",
   "metadata": {},
   "source": [
    "### 4. 다음 배열을 만들고 조건에 맞는 코드 작성"
   ]
  },
  {
   "cell_type": "code",
   "execution_count": 110,
   "id": "279be1cb",
   "metadata": {},
   "outputs": [
    {
     "data": {
      "text/plain": [
       "array([ 80.,  nan,  90.,  65., 100.,  85.])"
      ]
     },
     "execution_count": 110,
     "metadata": {},
     "output_type": "execute_result"
    }
   ],
   "source": [
    "a = np.array([80, np.nan, 90, 65, 100, 85])\n",
    "a"
   ]
  },
  {
   "cell_type": "markdown",
   "id": "b833ffd5",
   "metadata": {},
   "source": [
    "4.1) 최대값 출력"
   ]
  },
  {
   "cell_type": "code",
   "execution_count": 111,
   "id": "ec1f5ea8",
   "metadata": {},
   "outputs": [
    {
     "data": {
      "text/plain": [
       "100.0"
      ]
     },
     "execution_count": 111,
     "metadata": {},
     "output_type": "execute_result"
    }
   ],
   "source": [
    "np.nanmax(a)"
   ]
  },
  {
   "cell_type": "markdown",
   "id": "8bac3284",
   "metadata": {},
   "source": [
    "4.2) 최소값을 b배열에 저장"
   ]
  },
  {
   "cell_type": "code",
   "execution_count": 112,
   "id": "fd28d564",
   "metadata": {},
   "outputs": [
    {
     "data": {
      "text/plain": [
       "array([65.])"
      ]
     },
     "execution_count": 112,
     "metadata": {},
     "output_type": "execute_result"
    }
   ],
   "source": [
    "b = np.array([np.nanmin(a)])\n",
    "b"
   ]
  },
  {
   "cell_type": "markdown",
   "id": "1e35b173",
   "metadata": {},
   "source": [
    "4.3) 평균값 출력"
   ]
  },
  {
   "cell_type": "code",
   "execution_count": 113,
   "id": "108f4ef2",
   "metadata": {},
   "outputs": [
    {
     "data": {
      "text/plain": [
       "84.0"
      ]
     },
     "execution_count": 113,
     "metadata": {},
     "output_type": "execute_result"
    }
   ],
   "source": [
    "np.nanmean(a)"
   ]
  },
  {
   "cell_type": "markdown",
   "id": "f43c0f23",
   "metadata": {},
   "source": [
    "4.4) 오름차순 정렬"
   ]
  },
  {
   "cell_type": "code",
   "execution_count": 114,
   "id": "776c3f91",
   "metadata": {},
   "outputs": [
    {
     "data": {
      "text/plain": [
       "array([ 65.,  80.,  85.,  90., 100.,  nan])"
      ]
     },
     "execution_count": 114,
     "metadata": {},
     "output_type": "execute_result"
    }
   ],
   "source": [
    "np.sort(a)"
   ]
  },
  {
   "cell_type": "markdown",
   "id": "cd1c91f3",
   "metadata": {},
   "source": [
    "4.5) 내림차순 정렬"
   ]
  },
  {
   "cell_type": "code",
   "execution_count": 115,
   "id": "36c93c2b",
   "metadata": {},
   "outputs": [
    {
     "data": {
      "text/plain": [
       "array([ nan, 100.,  90.,  85.,  80.,  65.])"
      ]
     },
     "execution_count": 115,
     "metadata": {},
     "output_type": "execute_result"
    }
   ],
   "source": [
    "np.sort(a)[::-1]"
   ]
  },
  {
   "cell_type": "markdown",
   "id": "3f70d3d4",
   "metadata": {},
   "source": [
    "### 5. 다음 배열을 만들고 조건에 맞는 코드 작성"
   ]
  },
  {
   "cell_type": "code",
   "execution_count": 116,
   "id": "b45362b9",
   "metadata": {},
   "outputs": [
    {
     "data": {
      "text/plain": [
       "array([[ 80,  90,  85],\n",
       "       [ 75,  60,  80],\n",
       "       [ 95, 100,  90]])"
      ]
     },
     "execution_count": 116,
     "metadata": {},
     "output_type": "execute_result"
    }
   ],
   "source": [
    "a = np.array([[80, 90, 85], [75, 60, 80], [95, 100, 90]])\n",
    "a"
   ]
  },
  {
   "cell_type": "markdown",
   "id": "a35073e1",
   "metadata": {},
   "source": [
    "5.1) 행별 최대값"
   ]
  },
  {
   "cell_type": "code",
   "execution_count": 117,
   "id": "db80bad9",
   "metadata": {},
   "outputs": [
    {
     "data": {
      "text/plain": [
       "array([ 95, 100,  90])"
      ]
     },
     "execution_count": 117,
     "metadata": {},
     "output_type": "execute_result"
    }
   ],
   "source": [
    "np.max(a, axis=0)"
   ]
  },
  {
   "cell_type": "markdown",
   "id": "e5cd11ed",
   "metadata": {},
   "source": [
    "5.2) 열별 최대값"
   ]
  },
  {
   "cell_type": "code",
   "execution_count": 118,
   "id": "a8ab7ff7",
   "metadata": {},
   "outputs": [
    {
     "data": {
      "text/plain": [
       "array([ 90,  80, 100])"
      ]
     },
     "execution_count": 118,
     "metadata": {},
     "output_type": "execute_result"
    }
   ],
   "source": [
    "np.max(a, axis=1)"
   ]
  },
  {
   "cell_type": "markdown",
   "id": "58d1c0c0",
   "metadata": {},
   "source": [
    "5.3) 전체 최대값"
   ]
  },
  {
   "cell_type": "code",
   "execution_count": 119,
   "id": "17ccc423",
   "metadata": {},
   "outputs": [
    {
     "data": {
      "text/plain": [
       "100"
      ]
     },
     "execution_count": 119,
     "metadata": {},
     "output_type": "execute_result"
    }
   ],
   "source": [
    "np.max(a)"
   ]
  },
  {
   "cell_type": "markdown",
   "id": "8c580314",
   "metadata": {},
   "source": [
    "5.4) 행별 최대값의 인덱스"
   ]
  },
  {
   "cell_type": "code",
   "execution_count": 120,
   "id": "47332fe5",
   "metadata": {},
   "outputs": [
    {
     "data": {
      "text/plain": [
       "array([2, 2, 2], dtype=int64)"
      ]
     },
     "execution_count": 120,
     "metadata": {},
     "output_type": "execute_result"
    }
   ],
   "source": [
    "np.argmax(a, axis=0)"
   ]
  },
  {
   "cell_type": "markdown",
   "id": "1798e7a1",
   "metadata": {},
   "source": [
    "5.5) 열별 최대값의 인덱스"
   ]
  },
  {
   "cell_type": "code",
   "execution_count": 121,
   "id": "db4293fd",
   "metadata": {},
   "outputs": [
    {
     "data": {
      "text/plain": [
       "array([1, 2, 1], dtype=int64)"
      ]
     },
     "execution_count": 121,
     "metadata": {},
     "output_type": "execute_result"
    }
   ],
   "source": [
    "np.argmax(a, axis=1)"
   ]
  },
  {
   "cell_type": "markdown",
   "id": "ba182ade",
   "metadata": {},
   "source": [
    "5.6) 전체 최대값의 인덱스"
   ]
  },
  {
   "cell_type": "code",
   "execution_count": 122,
   "id": "4faa2aa7",
   "metadata": {},
   "outputs": [
    {
     "data": {
      "text/plain": [
       "7"
      ]
     },
     "execution_count": 122,
     "metadata": {},
     "output_type": "execute_result"
    }
   ],
   "source": [
    "np.argmax(a)"
   ]
  },
  {
   "cell_type": "markdown",
   "id": "a5264a16",
   "metadata": {},
   "source": [
    "### 6. 0 ~ 50사이의 랜덤값 10개 출력(중복허용)"
   ]
  },
  {
   "cell_type": "code",
   "execution_count": 123,
   "id": "b811327e",
   "metadata": {},
   "outputs": [
    {
     "data": {
      "text/plain": [
       "array([24, 50, 12, 24, 32, 29, 10, 25,  7, 22])"
      ]
     },
     "execution_count": 123,
     "metadata": {},
     "output_type": "execute_result"
    }
   ],
   "source": [
    "np.random.choice(51, 10, True)"
   ]
  },
  {
   "cell_type": "markdown",
   "id": "51bb48e5",
   "metadata": {},
   "source": [
    "### 7. 2 ~ 30 사이의 랜덤값 5개 출력(중복불가)"
   ]
  },
  {
   "cell_type": "code",
   "execution_count": 124,
   "id": "640d2e0a",
   "metadata": {},
   "outputs": [
    {
     "data": {
      "text/plain": [
       "array([15,  9,  6, 19, 18])"
      ]
     },
     "execution_count": 124,
     "metadata": {},
     "output_type": "execute_result"
    }
   ],
   "source": [
    "np.random.choice(range(2, 31), 5, replace=False)"
   ]
  },
  {
   "cell_type": "markdown",
   "id": "b6d067fa",
   "metadata": {},
   "source": [
    "### 8. 3 ~ 10 사이의 수를 1씩 증가시켜 열 벡터 생성"
   ]
  },
  {
   "cell_type": "code",
   "execution_count": 125,
   "id": "8b865835",
   "metadata": {},
   "outputs": [
    {
     "data": {
      "text/plain": [
       "array([[ 3],\n",
       "       [ 4],\n",
       "       [ 5],\n",
       "       [ 6],\n",
       "       [ 7],\n",
       "       [ 8],\n",
       "       [ 9],\n",
       "       [10]])"
      ]
     },
     "execution_count": 125,
     "metadata": {},
     "output_type": "execute_result"
    }
   ],
   "source": [
    "a = np.arange(3, 11)\n",
    "a.shape = (len(a),1)\n",
    "a"
   ]
  },
  {
   "cell_type": "markdown",
   "id": "08fc235d",
   "metadata": {},
   "source": [
    "### 9. 10에서 5까지 1씩 감소하는 행 벡터를 생성, 행 벡터의 크기 구하기"
   ]
  },
  {
   "cell_type": "code",
   "execution_count": 126,
   "id": "165325ea",
   "metadata": {},
   "outputs": [
    {
     "data": {
      "text/plain": [
       "array([10,  9,  8,  7,  6,  5])"
      ]
     },
     "execution_count": 126,
     "metadata": {},
     "output_type": "execute_result"
    }
   ],
   "source": [
    "a = np.arange(10, 4, -1)\n",
    "a"
   ]
  },
  {
   "cell_type": "code",
   "execution_count": 127,
   "id": "8d4b93e1",
   "metadata": {},
   "outputs": [
    {
     "data": {
      "text/plain": [
       "18.841443681416774"
      ]
     },
     "execution_count": 127,
     "metadata": {},
     "output_type": "execute_result"
    }
   ],
   "source": [
    "np.sqrt(np.dot(a,a))"
   ]
  },
  {
   "cell_type": "markdown",
   "id": "3d2d9e59",
   "metadata": {},
   "source": [
    "### 10. 다음 두 벡터 생성 후 벡터의 내적과 외적 구하기"
   ]
  },
  {
   "cell_type": "code",
   "execution_count": 128,
   "id": "9a38ffa8",
   "metadata": {},
   "outputs": [],
   "source": [
    "a=np.array([6, 2])\n",
    "b=np.array([4, 5])"
   ]
  },
  {
   "cell_type": "code",
   "execution_count": 129,
   "id": "1e71f95a",
   "metadata": {},
   "outputs": [
    {
     "data": {
      "text/plain": [
       "34"
      ]
     },
     "execution_count": 129,
     "metadata": {},
     "output_type": "execute_result"
    }
   ],
   "source": [
    "a@b"
   ]
  },
  {
   "cell_type": "markdown",
   "id": "f75de70b",
   "metadata": {},
   "source": [
    "### 11. 다음 행렬을 만들고 행렬의 전치 행렬 구하기"
   ]
  },
  {
   "cell_type": "code",
   "execution_count": 130,
   "id": "3e976e40",
   "metadata": {},
   "outputs": [],
   "source": [
    "a = np.array([[80, 90, 85], [75, 60, 80]])"
   ]
  },
  {
   "cell_type": "markdown",
   "id": "8e0bccf1",
   "metadata": {},
   "source": [
    "### 12. 4행 4열의 항등행렬 구하기"
   ]
  },
  {
   "cell_type": "code",
   "execution_count": null,
   "id": "b42bfd35",
   "metadata": {},
   "outputs": [],
   "source": []
  },
  {
   "cell_type": "markdown",
   "id": "f9f0225e",
   "metadata": {},
   "source": [
    "### 13. 다음 행렬 생성 후 역행렬 구하기"
   ]
  },
  {
   "cell_type": "code",
   "execution_count": null,
   "id": "9b1c9bcf",
   "metadata": {},
   "outputs": [],
   "source": []
  },
  {
   "cell_type": "markdown",
   "id": "669c232c",
   "metadata": {},
   "source": [
    "### 14. 다음 선형 연립방정식의 해 구하기"
   ]
  },
  {
   "cell_type": "code",
   "execution_count": null,
   "id": "86bd9ce2",
   "metadata": {},
   "outputs": [],
   "source": []
  },
  {
   "cell_type": "markdown",
   "id": "f2bce6b8",
   "metadata": {},
   "source": [
    "### 15. 다음 선형 연립방정식의 해 구하기"
   ]
  },
  {
   "cell_type": "code",
   "execution_count": null,
   "id": "b674709d",
   "metadata": {},
   "outputs": [],
   "source": []
  },
  {
   "cell_type": "markdown",
   "id": "fea04943",
   "metadata": {},
   "source": [
    "### 16. 다음 행렬의 행렬식 구하기"
   ]
  },
  {
   "cell_type": "code",
   "execution_count": null,
   "id": "295afe2e",
   "metadata": {},
   "outputs": [],
   "source": []
  },
  {
   "cell_type": "markdown",
   "id": "a9efc7fe",
   "metadata": {},
   "source": [
    "### 17. 다음 행렬의 행렬식 구하기"
   ]
  },
  {
   "cell_type": "code",
   "execution_count": null,
   "id": "306d2fe1",
   "metadata": {},
   "outputs": [],
   "source": []
  }
 ],
 "metadata": {
  "kernelspec": {
   "display_name": "Python 3 (ipykernel)",
   "language": "python",
   "name": "python3"
  },
  "language_info": {
   "codemirror_mode": {
    "name": "ipython",
    "version": 3
   },
   "file_extension": ".py",
   "mimetype": "text/x-python",
   "name": "python",
   "nbconvert_exporter": "python",
   "pygments_lexer": "ipython3",
   "version": "3.9.12"
  }
 },
 "nbformat": 4,
 "nbformat_minor": 5
}
