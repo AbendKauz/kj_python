{
 "cells": [
  {
   "cell_type": "markdown",
   "id": "051fbbbf",
   "metadata": {},
   "source": [
    "1. 외부데이터 읽기\n",
    "\n",
    "    1) CSV(Comma-Separated Values) 파일 읽기\n",
    "    \n",
    "        (1) read_csv 함수\n",
    "            - csv 파일은 각 항목을 콤마(,)로 구분된 것을 의미\n",
    "            - [형식] pd.read_csv(filepath, header, index_col, names)\n",
    "                - filepath : 가져올 파일의 위치\n",
    "                - header : 헤더의 열이름을 사용할 행 또는 열 지정\n",
    "                - index_col : DataFrame의 행 인덱스가 되는 열 지정\n",
    "                - names : 열이름으로 지정할 문자열\n",
    "                    \n",
    "        (2) read_csv 함수이용 csv 파일 불러오기\n",
    "            - no, name, tel, age로 구성된 csv파일 읽기\n",
    "            - 제공된 파일을 jupyter 저장위치에 저장 후 읽기\n",
    "            - 파일 읽기 위한 코드 작성\n",
    "            "
   ]
  },
  {
   "cell_type": "markdown",
   "id": "acbb4951",
   "metadata": {},
   "source": [
    "  - user_info.csv 파일 읽기"
   ]
  },
  {
   "cell_type": "markdown",
   "id": "144bee71",
   "metadata": {},
   "source": [
    " - user_info.csv 파일의 no 필드를 행 인덱스로 지정하여 읽기"
   ]
  },
  {
   "cell_type": "markdown",
   "id": "28f96c95",
   "metadata": {},
   "source": [
    "    2) excel 파일 읽기\n",
    "    \n",
    "        (1) read_excel 함수\n",
    "            - excel 파일을 읽어서 DataFrame 형태로 반환해 줌\n",
    "            - [형식] pd.read_excel(filepath, header, index_col, names, sheet_name)\n",
    "                - filepath : 가져올 파일의 위치\n",
    "                - header : 헤더의 열이름을 사용할 행 또는 열 지정\n",
    "                - index_col : DataFrame의 행 인덱스가 되는 열 지정\n",
    "                - names : 열이름으로 지정할 문자열\n",
    "                - sheet_name : 기본값은 0, 읽고자 하는 시트명 또는 인덱스\n",
    "                        "
   ]
  },
  {
   "cell_type": "markdown",
   "id": "d8fc9583",
   "metadata": {},
   "source": [
    "  - user_info.xlsx 파일 읽기"
   ]
  },
  {
   "cell_type": "markdown",
   "id": "154d880b",
   "metadata": {},
   "source": [
    "  -user_info.xlsx 파일의 no 필드를 행 인덱스로 지정하여 파일 읽기"
   ]
  },
  {
   "cell_type": "markdown",
   "id": "761f6dde",
   "metadata": {},
   "source": [
    "2. 데이터파일로 저장\n",
    "\n",
    "    1) CSV(Comma-Separated Values) 파일로 저장\n",
    "    \n",
    "        (1) to_csv 함수\n",
    "            - DataFrame 에 저장된 데이터를 csv 파일로 저장\n",
    "            - [형식] df.to_csv(path_or_buf , sep, na_rep, columns, header, index, mode, encoding)\n",
    "                - path_or_buf : 파일 또는 파일 개체의 이름 / None이면 CSV 문자열로 변환, 기본값은 None\n",
    "                - sep : 구분 문자열, 기본값은 콤마\n",
    "                - na_rep : 누락된 데이터를 나타낼 문자열\n",
    "                - columns : CSV 파일에 저장될 DataFrame 의 열\n",
    "                - header ; 열 이름으로 저장할 문자열 / False로 설정되면 열 이름을 파일에 저장하지 않음\n",
    "                - index : True이면 행 이름을 인덱스로 저장\n",
    "                - mode : CSV 파일의 모드, 기본값은 w\n",
    "                - encoding : CSV 파일의 인코딩 체계, 기본값은 utf-8\n"
   ]
  },
  {
   "cell_type": "markdown",
   "id": "c8a83284",
   "metadata": {},
   "source": [
    "  - DataFrame을 CSV 파일로 저장하기\n",
    "    \n",
    "    import pandas as pd\n",
    "    df=pd.DataFrame({\n",
    "        'name':{0:'Tom',1:'Laura',2:'Kevin',3:'Julia',4:'Jhon'},\n",
    "        'gender':{0:'male',1:None,2:'male',3:None,4:'male'},\n",
    "        'age':{0:None,1:25,2:30,3:18,4:None}\n",
    "    })\n",
    "    print(df)\n",
    "    \n",
    "    df.to_csv('./df_to_csv.csv')"
   ]
  },
  {
   "cell_type": "code",
   "execution_count": 7,
   "id": "c81dffeb",
   "metadata": {},
   "outputs": [
    {
     "name": "stdout",
     "output_type": "stream",
     "text": [
      "    name gender   age\n",
      "0    Tom   male   NaN\n",
      "1  Laura   None  25.0\n",
      "2  Kevin   male  30.0\n",
      "3  Julia   None  18.0\n",
      "4   Jhon   male   NaN\n"
     ]
    }
   ],
   "source": [
    "import pandas as pd\n",
    "df=pd.DataFrame({\n",
    "        'name':{0:'Tom',1:'Laura',2:'Kevin',3:'Julia',4:'Jhon'},\n",
    "        'gender':{0:'male',1:None,2:'male',3:None,4:'male'},\n",
    "        'age':{0:None,1:25,2:30,3:18,4:None}\n",
    "})\n",
    "print(df)\n",
    "    \n",
    "df.to_csv('./df_to_csv.csv')"
   ]
  },
  {
   "cell_type": "code",
   "execution_count": null,
   "id": "621da08c",
   "metadata": {},
   "outputs": [],
   "source": []
  }
 ],
 "metadata": {
  "kernelspec": {
   "display_name": "Python 3 (ipykernel)",
   "language": "python",
   "name": "python3"
  },
  "language_info": {
   "codemirror_mode": {
    "name": "ipython",
    "version": 3
   },
   "file_extension": ".py",
   "mimetype": "text/x-python",
   "name": "python",
   "nbconvert_exporter": "python",
   "pygments_lexer": "ipython3",
   "version": "3.9.12"
  }
 },
 "nbformat": 4,
 "nbformat_minor": 5
}
