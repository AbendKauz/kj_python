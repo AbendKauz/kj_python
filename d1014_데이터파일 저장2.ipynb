{
 "cells": [
  {
   "cell_type": "code",
   "execution_count": 1,
   "id": "2e4e6ce9",
   "metadata": {},
   "outputs": [],
   "source": [
    "import pandas as pd"
   ]
  },
  {
   "cell_type": "markdown",
   "id": "3dd09b58",
   "metadata": {},
   "source": [
    " - DataFrame에서 특정 열만 선택하여 CSV 파일로 저장하기"
   ]
  },
  {
   "cell_type": "code",
   "execution_count": 2,
   "id": "367015ce",
   "metadata": {},
   "outputs": [],
   "source": [
    "df=pd.DataFrame({\n",
    "    'Name':{0:'Tom',1:'Laura',2:'Kevin',3:'Julia',4:'Jhon'},\n",
    "    'Gender':{0:'male',1:None,2:'male',3:None,4:'male'},\n",
    "    'Age':{0:None,1:25,2:30,3:18,4:None}\n",
    "})"
   ]
  },
  {
   "cell_type": "code",
   "execution_count": 3,
   "id": "c9c985dd",
   "metadata": {},
   "outputs": [
    {
     "data": {
      "text/html": [
       "<div>\n",
       "<style scoped>\n",
       "    .dataframe tbody tr th:only-of-type {\n",
       "        vertical-align: middle;\n",
       "    }\n",
       "\n",
       "    .dataframe tbody tr th {\n",
       "        vertical-align: top;\n",
       "    }\n",
       "\n",
       "    .dataframe thead th {\n",
       "        text-align: right;\n",
       "    }\n",
       "</style>\n",
       "<table border=\"1\" class=\"dataframe\">\n",
       "  <thead>\n",
       "    <tr style=\"text-align: right;\">\n",
       "      <th></th>\n",
       "      <th>Name</th>\n",
       "      <th>Gender</th>\n",
       "      <th>Age</th>\n",
       "    </tr>\n",
       "  </thead>\n",
       "  <tbody>\n",
       "    <tr>\n",
       "      <th>0</th>\n",
       "      <td>Tom</td>\n",
       "      <td>male</td>\n",
       "      <td>NaN</td>\n",
       "    </tr>\n",
       "    <tr>\n",
       "      <th>1</th>\n",
       "      <td>Laura</td>\n",
       "      <td>None</td>\n",
       "      <td>25.0</td>\n",
       "    </tr>\n",
       "    <tr>\n",
       "      <th>2</th>\n",
       "      <td>Kevin</td>\n",
       "      <td>male</td>\n",
       "      <td>30.0</td>\n",
       "    </tr>\n",
       "    <tr>\n",
       "      <th>3</th>\n",
       "      <td>Julia</td>\n",
       "      <td>None</td>\n",
       "      <td>18.0</td>\n",
       "    </tr>\n",
       "    <tr>\n",
       "      <th>4</th>\n",
       "      <td>Jhon</td>\n",
       "      <td>male</td>\n",
       "      <td>NaN</td>\n",
       "    </tr>\n",
       "  </tbody>\n",
       "</table>\n",
       "</div>"
      ],
      "text/plain": [
       "    Name Gender   Age\n",
       "0    Tom   male   NaN\n",
       "1  Laura   None  25.0\n",
       "2  Kevin   male  30.0\n",
       "3  Julia   None  18.0\n",
       "4   Jhon   male   NaN"
      ]
     },
     "execution_count": 3,
     "metadata": {},
     "output_type": "execute_result"
    }
   ],
   "source": [
    "df"
   ]
  },
  {
   "cell_type": "code",
   "execution_count": 4,
   "id": "4f25039e",
   "metadata": {},
   "outputs": [],
   "source": [
    "df.to_csv('df_to_csv2.csv', columns=['Name','Age'], header=['user name','user age'])"
   ]
  },
  {
   "cell_type": "markdown",
   "id": "b215192d",
   "metadata": {},
   "source": [
    "  - DataFrame을 json 파일로 저장하기"
   ]
  },
  {
   "cell_type": "code",
   "execution_count": 5,
   "id": "d557ca11",
   "metadata": {},
   "outputs": [
    {
     "data": {
      "text/html": [
       "<div>\n",
       "<style scoped>\n",
       "    .dataframe tbody tr th:only-of-type {\n",
       "        vertical-align: middle;\n",
       "    }\n",
       "\n",
       "    .dataframe tbody tr th {\n",
       "        vertical-align: top;\n",
       "    }\n",
       "\n",
       "    .dataframe thead th {\n",
       "        text-align: right;\n",
       "    }\n",
       "</style>\n",
       "<table border=\"1\" class=\"dataframe\">\n",
       "  <thead>\n",
       "    <tr style=\"text-align: right;\">\n",
       "      <th></th>\n",
       "      <th>Name</th>\n",
       "      <th>Gender</th>\n",
       "      <th>Age</th>\n",
       "    </tr>\n",
       "  </thead>\n",
       "  <tbody>\n",
       "    <tr>\n",
       "      <th>0</th>\n",
       "      <td>Tom</td>\n",
       "      <td>male</td>\n",
       "      <td>NaN</td>\n",
       "    </tr>\n",
       "    <tr>\n",
       "      <th>1</th>\n",
       "      <td>Laura</td>\n",
       "      <td>None</td>\n",
       "      <td>25.0</td>\n",
       "    </tr>\n",
       "    <tr>\n",
       "      <th>2</th>\n",
       "      <td>Kevin</td>\n",
       "      <td>male</td>\n",
       "      <td>30.0</td>\n",
       "    </tr>\n",
       "    <tr>\n",
       "      <th>3</th>\n",
       "      <td>Julia</td>\n",
       "      <td>None</td>\n",
       "      <td>18.0</td>\n",
       "    </tr>\n",
       "    <tr>\n",
       "      <th>4</th>\n",
       "      <td>Jhon</td>\n",
       "      <td>male</td>\n",
       "      <td>NaN</td>\n",
       "    </tr>\n",
       "  </tbody>\n",
       "</table>\n",
       "</div>"
      ],
      "text/plain": [
       "    Name Gender   Age\n",
       "0    Tom   male   NaN\n",
       "1  Laura   None  25.0\n",
       "2  Kevin   male  30.0\n",
       "3  Julia   None  18.0\n",
       "4   Jhon   male   NaN"
      ]
     },
     "execution_count": 5,
     "metadata": {},
     "output_type": "execute_result"
    }
   ],
   "source": [
    "df"
   ]
  },
  {
   "cell_type": "code",
   "execution_count": 6,
   "id": "39f73897",
   "metadata": {},
   "outputs": [],
   "source": [
    "df.to_json('df_to_json.json')"
   ]
  },
  {
   "cell_type": "markdown",
   "id": "bd1be0d3",
   "metadata": {},
   "source": [
    "- excel 파일로 저장하기\n",
    "\n",
    "    (1) to_excel 함수\n",
    "        - DataFrame에 저장된 데이터를 excel 파일로 저장\n",
    "        - [형식] df.to_excel(excel_wirter, sheet_name, header, index)\n",
    "            - DataFrame 데이터를 excel 파일로 덤프\n",
    "            - excel_wirter, sheet_name, header, index"
   ]
  },
  {
   "cell_type": "code",
   "execution_count": 7,
   "id": "0833aa57",
   "metadata": {},
   "outputs": [
    {
     "data": {
      "text/html": [
       "<div>\n",
       "<style scoped>\n",
       "    .dataframe tbody tr th:only-of-type {\n",
       "        vertical-align: middle;\n",
       "    }\n",
       "\n",
       "    .dataframe tbody tr th {\n",
       "        vertical-align: top;\n",
       "    }\n",
       "\n",
       "    .dataframe thead th {\n",
       "        text-align: right;\n",
       "    }\n",
       "</style>\n",
       "<table border=\"1\" class=\"dataframe\">\n",
       "  <thead>\n",
       "    <tr style=\"text-align: right;\">\n",
       "      <th></th>\n",
       "      <th>Name</th>\n",
       "      <th>Gender</th>\n",
       "      <th>Age</th>\n",
       "    </tr>\n",
       "  </thead>\n",
       "  <tbody>\n",
       "    <tr>\n",
       "      <th>0</th>\n",
       "      <td>Tom</td>\n",
       "      <td>male</td>\n",
       "      <td>NaN</td>\n",
       "    </tr>\n",
       "    <tr>\n",
       "      <th>1</th>\n",
       "      <td>Laura</td>\n",
       "      <td>None</td>\n",
       "      <td>25.0</td>\n",
       "    </tr>\n",
       "    <tr>\n",
       "      <th>2</th>\n",
       "      <td>Kevin</td>\n",
       "      <td>male</td>\n",
       "      <td>30.0</td>\n",
       "    </tr>\n",
       "    <tr>\n",
       "      <th>3</th>\n",
       "      <td>Julia</td>\n",
       "      <td>None</td>\n",
       "      <td>18.0</td>\n",
       "    </tr>\n",
       "    <tr>\n",
       "      <th>4</th>\n",
       "      <td>Jhon</td>\n",
       "      <td>male</td>\n",
       "      <td>NaN</td>\n",
       "    </tr>\n",
       "  </tbody>\n",
       "</table>\n",
       "</div>"
      ],
      "text/plain": [
       "    Name Gender   Age\n",
       "0    Tom   male   NaN\n",
       "1  Laura   None  25.0\n",
       "2  Kevin   male  30.0\n",
       "3  Julia   None  18.0\n",
       "4   Jhon   male   NaN"
      ]
     },
     "execution_count": 7,
     "metadata": {},
     "output_type": "execute_result"
    }
   ],
   "source": [
    "df"
   ]
  },
  {
   "cell_type": "code",
   "execution_count": 8,
   "id": "d646c433",
   "metadata": {},
   "outputs": [],
   "source": [
    "df.to_excel('df_to_excel.xlsx')"
   ]
  },
  {
   "cell_type": "code",
   "execution_count": 9,
   "id": "4582c682",
   "metadata": {},
   "outputs": [],
   "source": [
    "df.set_index('Name',inplace=True)"
   ]
  },
  {
   "cell_type": "code",
   "execution_count": 10,
   "id": "85ea3697",
   "metadata": {},
   "outputs": [
    {
     "data": {
      "text/html": [
       "<div>\n",
       "<style scoped>\n",
       "    .dataframe tbody tr th:only-of-type {\n",
       "        vertical-align: middle;\n",
       "    }\n",
       "\n",
       "    .dataframe tbody tr th {\n",
       "        vertical-align: top;\n",
       "    }\n",
       "\n",
       "    .dataframe thead th {\n",
       "        text-align: right;\n",
       "    }\n",
       "</style>\n",
       "<table border=\"1\" class=\"dataframe\">\n",
       "  <thead>\n",
       "    <tr style=\"text-align: right;\">\n",
       "      <th></th>\n",
       "      <th>Gender</th>\n",
       "      <th>Age</th>\n",
       "    </tr>\n",
       "    <tr>\n",
       "      <th>Name</th>\n",
       "      <th></th>\n",
       "      <th></th>\n",
       "    </tr>\n",
       "  </thead>\n",
       "  <tbody>\n",
       "    <tr>\n",
       "      <th>Tom</th>\n",
       "      <td>male</td>\n",
       "      <td>NaN</td>\n",
       "    </tr>\n",
       "    <tr>\n",
       "      <th>Laura</th>\n",
       "      <td>None</td>\n",
       "      <td>25.0</td>\n",
       "    </tr>\n",
       "    <tr>\n",
       "      <th>Kevin</th>\n",
       "      <td>male</td>\n",
       "      <td>30.0</td>\n",
       "    </tr>\n",
       "    <tr>\n",
       "      <th>Julia</th>\n",
       "      <td>None</td>\n",
       "      <td>18.0</td>\n",
       "    </tr>\n",
       "    <tr>\n",
       "      <th>Jhon</th>\n",
       "      <td>male</td>\n",
       "      <td>NaN</td>\n",
       "    </tr>\n",
       "  </tbody>\n",
       "</table>\n",
       "</div>"
      ],
      "text/plain": [
       "      Gender   Age\n",
       "Name              \n",
       "Tom     male   NaN\n",
       "Laura   None  25.0\n",
       "Kevin   male  30.0\n",
       "Julia   None  18.0\n",
       "Jhon    male   NaN"
      ]
     },
     "execution_count": 10,
     "metadata": {},
     "output_type": "execute_result"
    }
   ],
   "source": [
    "df"
   ]
  },
  {
   "cell_type": "code",
   "execution_count": 11,
   "id": "0c4b92ae",
   "metadata": {},
   "outputs": [],
   "source": [
    "df.to_excel('df_to_excel2.xlsx')"
   ]
  },
  {
   "cell_type": "markdown",
   "id": "616e249d",
   "metadata": {},
   "source": [
    " - 여러개의 DataFrame을 excel 파일에 저장하기\n",
    "    \n",
    "    (1) ExcelWriter 함수\n",
    "        - 여러개의 excel 시트를 갖는 excel 파일 생성\n",
    "        - pd.ExcelWriter() 객체를 생성한 후, to_excel() 함수를 이용하여 시트를 추가\n",
    "        - save() 함수를 이용하여 저장\n",
    "        - [형식] pd.ExcelWriter(path_or_buf)\n",
    "            - path_or_buf : 파일 또는 파일개체의 이름"
   ]
  },
  {
   "cell_type": "code",
   "execution_count": 12,
   "id": "c59bcd62",
   "metadata": {},
   "outputs": [
    {
     "name": "stdout",
     "output_type": "stream",
     "text": [
      "    Name Gender   Age\n",
      "0    Tom   male   NaN\n",
      "1  Laura   None  25.0\n",
      "2  Kevin   male  30.0\n",
      "3  Julia   None  18.0\n",
      "4   Jhon   male   NaN\n",
      "\n",
      "\n",
      "     Name Gender   Age\n",
      "0    Tom2   male   NaN\n",
      "1  Laura2   None  25.0\n",
      "2  Kevin2   male  30.0\n",
      "3  Julia2   None  18.0\n",
      "4   Jhon2   male   NaN\n"
     ]
    }
   ],
   "source": [
    "df1=pd.DataFrame({\n",
    "    'Name':{0:'Tom',1:'Laura',2:'Kevin',3:'Julia',4:'Jhon'},\n",
    "    'Gender':{0:'male',1:None,2:'male',3:None,4:'male'},\n",
    "    'Age':{0:None,1:25,2:30,3:18,4:None}\n",
    "})\n",
    "df2=pd.DataFrame({\n",
    "    'Name':{0:'Tom2',1:'Laura2',2:'Kevin2',3:'Julia2',4:'Jhon2'},\n",
    "    'Gender':{0:'male',1:None,2:'male',3:None,4:'male'},\n",
    "    'Age':{0:None,1:25,2:30,3:18,4:None}\n",
    "})\n",
    "print(df1)\n",
    "print('\\n')\n",
    "print(df2)\n",
    "excel_writer=pd.ExcelWriter('df_to_excel3.xlsx')\n",
    "df1.to_excel(excel_writer,sheet_name='info_data1')\n",
    "df2.to_excel(excel_writer,sheet_name='info_data2')\n",
    "excel_writer.save()"
   ]
  },
  {
   "cell_type": "code",
   "execution_count": null,
   "id": "b81d03f4",
   "metadata": {},
   "outputs": [],
   "source": []
  }
 ],
 "metadata": {
  "kernelspec": {
   "display_name": "Python 3 (ipykernel)",
   "language": "python",
   "name": "python3"
  },
  "language_info": {
   "codemirror_mode": {
    "name": "ipython",
    "version": 3
   },
   "file_extension": ".py",
   "mimetype": "text/x-python",
   "name": "python",
   "nbconvert_exporter": "python",
   "pygments_lexer": "ipython3",
   "version": "3.9.12"
  }
 },
 "nbformat": 4,
 "nbformat_minor": 5
}
